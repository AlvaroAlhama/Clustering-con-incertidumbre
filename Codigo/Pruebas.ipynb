{
 "cells": [
  {
   "cell_type": "markdown",
   "metadata": {},
   "source": [
    "# Pruebas"
   ]
  },
  {
   "cell_type": "code",
   "execution_count": 1,
   "metadata": {},
   "outputs": [],
   "source": [
    "import pandas\n",
    "import sys\n",
    "import numpy as np\n",
    "import random as rd\n",
    "import math\n",
    "\n",
    "#Imports para dibujar un circulo\n",
    "import matplotlib.pyplot as plt\n",
    "\n",
    "\n",
    "# Estructuras de Datos:\n",
    "\n",
    "# Parámetros: x,y del punto\n",
    "class Punto(): \n",
    "    def __init__(self, x, y):\n",
    "        self.x = x\n",
    "        self.y = y\n",
    "        \n",
    "    def print(self):\n",
    "        print('(',self.x, ', ',self.y,')')\n",
    "    def __repr__(self):\n",
    "        return '(%s, %s)' % (self.x,self.y)\n",
    "    def __str__(self):\n",
    "        return '(%s, %s)' % (self.x,self.y)\n",
    "\n",
    "# Parámetros: x,y (centro), radio\n",
    "class Circunferencia(): \n",
    "    def __init__(self, x, y, radio):\n",
    "        self.centro = Punto(x,y)\n",
    "        self.radio = radio\n",
    "        \n",
    "    def print(self):\n",
    "        print('Centro: ',self.centro, ' Radio: ',self.radio)\n",
    "    def __repr__(self):\n",
    "        return 'Centro: %s Radio: %s' % (self.centro,self.radio)\n",
    "    def __str__(self):\n",
    "        return 'Centro: %s Radio: %s' % (self.centro,self.radio)\n",
    "    \n",
    "# Parámetros: circunferencia\n",
    "class CircunferenciaConPuntos(): \n",
    "    def __init__(self,circunferencia):\n",
    "        self.circunferencia = circunferencia\n",
    "        self.puntos = []\n",
    "        \n",
    "    def anyadir_punto(self,punto):\n",
    "        self.puntos.append(punto)\n",
    "        \n",
    "        \n",
    "    def print(self):\n",
    "        print('Circunferencia: ',self.circunferencia, ' Puntos: ',self.puntos)\n",
    "    def __repr__(self):\n",
    "        return 'Circunferencia: %s Puntos: %s' % (self.circunferencia,self.puntos)\n",
    "    def __str__(self):\n",
    "        return 'Circunferencia: %s Puntos: %s' % (self.circunferencia,self.puntos)\n",
    "    \n",
    "    \n",
    "\n",
    "# Funciones para leer, crear y mostrar datos:\n",
    "\n",
    "#Parámetros: Archivo CSV donde se encuentran los puntos\n",
    "def leer_puntos(archivo_csv):\n",
    "   \n",
    "    puntoscsv = pandas.read_csv(archivo_csv, header=None, names=['x', 'y']).values\n",
    "    puntos = []\n",
    "    for i in range(len(puntoscsv)):\n",
    "        puntos.append(Punto(puntoscsv[i][0],puntoscsv[i][1]))\n",
    "        \n",
    "    return puntos\n",
    "\n",
    "\n",
    "# Parámetros: Array de puntos\n",
    "def dibujar_puntos(puntos):  # learningaboutelectronics.com/Articles/How-to-draw-a-circle-using-matplotlib-in-Python.php\n",
    "    \n",
    "    Xs = []\n",
    "    Ys = []\n",
    "    \n",
    "    for i in range(len(puntos)): \n",
    "        Xs.append(puntos[i].x)\n",
    "        Ys.append(puntos[i].y)\n",
    "        \n",
    "    plt.plot(Xs, Ys, 'ro', color='black')\n",
    "    plt.axis('scaled')\n",
    "    \n",
    "    plt.show()\n",
    "    \n",
    "    \n",
    "# Parámetros: Circunferencia con Puntos\n",
    "def dibujar_circunferencia_con_puntos(circunferenciaConPuntos):  # learningaboutelectronics.com/Articles/How-to-draw-a-circle-using-matplotlib-in-Python.php\n",
    "    \n",
    "    # Lista de colores con los que se representará las circunferencias con sus puntos asociados\n",
    "    colores = ['red','blue','green','black','yellow','purple','cyan','pink','magenta','orange','brown']\n",
    "    \n",
    "    for i in range(len(circunferenciaConPuntos)):\n",
    "       \n",
    "        ccp = circunferenciaConPuntos[i]\n",
    "        Xs = []\n",
    "        Ys = []\n",
    "        \n",
    "        # Dibujamos los puntos asociados a la circunferencia\n",
    "        for p in ccp.puntos:\n",
    "            Xs.append(p.x)\n",
    "            Ys.append(p.y)\n",
    "        \n",
    "        plt.plot(Xs, Ys, 'ro', color=colores[i])\n",
    "        \n",
    "        #Dibujamos la circunferencia\n",
    "        circulo = plt.Circle((ccp.circunferencia.centro.x, ccp.circunferencia.centro.y), ccp.circunferencia.radio, color=colores[i], fill=False)\n",
    "        ax=plt.gca()\n",
    "        ax.add_patch(circulo)\n",
    "        plt.axis('scaled')\n",
    "    \n",
    "    plt.show()\n",
    "    \n",
    "\n",
    "\n",
    "# Parámetros: array de las circunferencias con puntos, redondear = 0: no redondear, 1: redondear, mostrar_puntos = 0: no mostrar, 1: mostrar\n",
    "def mostrar_circunferencia_con_puntos(circunferenciasConPuntos, redondear, mostrar_puntos):\n",
    "    \n",
    "    for i in range(len(circunferenciasConPuntos)):\n",
    "        \n",
    "        circunferencia = circunferenciasConPuntos[i].circunferencia\n",
    "        puntos = circunferenciasConPuntos[i].puntos\n",
    "        \n",
    "        print(\"Circunferencia Nº %d \\n\" % (i+1))\n",
    "        if(redondear):\n",
    "            print(\"Centro: (%f, %f), Radio: %f\" % (round(circunferencia.centro.x, 2) ,round(circunferencia.centro.y, 2), round(circunferencia.radio, 2)))\n",
    "        else:    \n",
    "            print(\"Centro: (%f, %f), Radio: %f\" % (circunferencia.centro.x, circunferencia.centro.y, circunferencia.radio))\n",
    "            \n",
    "        if(mostrar_puntos):\n",
    "            print(\"Puntos: %s \\n\\n\" % puntos)\n",
    "        else:\n",
    "            print(\"\\n\")\n",
    "        \n",
    "        \n",
    "        \n",
    "# Parámetros: nombre del archivo resultante, array de las circunferencias con puntos, redondear = 0: no redondear, 1: redondear\n",
    "def escribir_fichero_circunferencias_con_puntos(nombre_archivo, circunferenciasConPuntos, redondear):\n",
    "     \n",
    "    f = open(\"%s.txt\" % nombre_archivo,\"w+\")\n",
    "        \n",
    "    for i in range(len(circunferenciasConPuntos)):\n",
    "        \n",
    "        circunferencia = circunferenciasConPuntos[i].circunferencia\n",
    "        puntos = circunferenciasConPuntos[i].puntos\n",
    "        \n",
    "        f.write(\"Circunferencia %d\\n\\n\" % (i+1))\n",
    "        if(redondear):\n",
    "            f.write(\"%f, %f\\n\" % (round(circunferencia.centro.x, 2) ,round(circunferencia.centro.y, 2)))\n",
    "            f.write(\"%f\\n\\n\" % round(circunferencia.radio, 2))\n",
    "        else:    \n",
    "            f.write(\"%f, %f\\n\" % (circunferencia.centro.x, circunferencia.centro.y))\n",
    "            f.write(\"%f\\n\\n\" % circunferencia.radio)\n",
    "            \n",
    "        for punto in puntos:\n",
    "            f.write(\"%f,%f\\n\" % (punto.x, punto.y))\n",
    "        \n",
    "        if(i < len(circunferenciasConPuntos) - 1):\n",
    "            f.write(\"\\n\\n\\n\")\n",
    "        \n",
    "    f.close()  \n",
    "    \n",
    "    \n",
    "    \n",
    "# Extra: crear puntos a partir de circunferencias:\n",
    "# Parámetros: nombre del archivo a crear, array con las circunferencias, número de puntos que queremos de cada una y rangos en los que queramos que puedan variar los puntos\n",
    "# REF: https://gis.stackexchange.com/questions/76745/creating-a-circle-with-points\n",
    "def generar_puntos_de_circunferencias(nombre_archivo, circunferencias, n_puntos_circunferencia, rango_x, rango_y):\n",
    "    \n",
    "    #Calculamos los puntos\n",
    "    puntos = []\n",
    "    \n",
    "    for i in range(len(circunferencias)):\n",
    "        x = circunferencias[i].centro.x\n",
    "        y = circunferencias[i].centro.y\n",
    "        radio = circunferencias[i].radio\n",
    "        arc = (2 * math.pi) / n_puntos_circunferencia[i]\n",
    "        \n",
    "        for p in range(n_puntos_circunferencia[i]):\n",
    "            px = (0*math.cos(arc * p)) - (radio*math.sin(arc * p))\n",
    "            py = (radio*math.cos(arc * p)) + (0*math.sin(arc * p))\n",
    "            px += x\n",
    "            py += y\n",
    "            puntos.append((px,py))\n",
    "            \n",
    "            \n",
    "    # Los escribimos en un fichero      \n",
    "    f = open(\"%s.csv\" % nombre_archivo,\"w+\")\n",
    "    \n",
    "    if(len(puntos)/2>3):\n",
    "        intervalo = rd.randint(3,math.floor(len(puntos)/2))\n",
    "    else:\n",
    "        intervalo = 2\n",
    "        \n",
    "    for i in range(len(puntos)):\n",
    "        \n",
    "        if(i%intervalo==0):\n",
    "            x = puntos[i][0]\n",
    "            y = puntos[i][1]\n",
    "            x = x + rd.uniform(-rango_x, rango_x)\n",
    "            y = y + rd.uniform(-rango_y, rango_y)\n",
    "            \n",
    "            f.write(\"%f,%f\\n\" % (x,y))\n",
    "        else:\n",
    "            f.write(\"%f,%f\\n\" % puntos[i])\n",
    "    \n",
    "    f.close() \n",
    "    \n",
    "\n",
    "# Algoritmo:\n",
    "\n",
    "# Parametros: array con todos los puntos, nº de circunferencias totales, mínimo grado de pertenencia de cada uno de los puntos asociados a un cluster con esa circunferencia para que pare,\n",
    "#             nº máximo de veces que se inicializarán las circunferencias iniciales, mínima diferencia entre las circunferencias calculadas en el clustering, nº máximo de iteraciones en el clustering             \n",
    "def obtener_circunferencias_con_incertidumbre(puntos, n_circunferencias, min_grado_pertenencia, max_iteraciones_algoritmo, razon_parada_clustering, max_iteraciones_clustering):\n",
    "    \n",
    "    iterar = 1\n",
    "    n_iteraciones = 0\n",
    "    \n",
    "    # Guardamos el mejor resultado para que en caso de que se supere el máximo nº de iteraciones se devuelva este y no el último\n",
    "    mejor_circunferencias_con_puntos = None\n",
    "    mejor_circunferencias_con_puntos_min_grado = 0\n",
    "    \n",
    "    while(iterar and n_iteraciones < max_iteraciones_algoritmo):\n",
    "        \n",
    "        # Inicializamos el clustering con circunferencias y puntos asociados al azar a partir de todos los puntos\n",
    "        circunferencias_iniciales = obtener_circunferencias_iniciales(puntos, n_circunferencias)\n",
    "        circunferencias_con_puntos_iniciales = obtener_circunferencias_con_puntos(circunferencias_iniciales, puntos)\n",
    "        \n",
    "        # Sobre esas circunferencias iniciales hacemos clustering para que se ajusten a los puntos\n",
    "        circunferencias_con_puntos_finales = clustering_circunferencias(puntos, circunferencias_con_puntos_iniciales, razon_parada_clustering, max_iteraciones_clustering)\n",
    "        \n",
    "        # Si una de las circunferencias tiene menos de 3 puntos(los necesarios para calcular la nueva circunferencia), se sale de este bucle y se vuelve a comenzar.\n",
    "        if(circunferencias_con_puntos_finales == None):\n",
    "            continue\n",
    "        \n",
    "        #Calculamos el mínimo grado de pertenencia de los puntos con su circunferencia asociada tras el clustering\n",
    "        min_grado_actual = comprobar_grado_pertenencia(circunferencias_con_puntos_finales)\n",
    "        \n",
    "        #Si se ha mejorado, se guarda el resultado (En la primera iteración siempre se guardará)\n",
    "        if(mejor_circunferencias_con_puntos_min_grado < min_grado_actual):\n",
    "            \n",
    "            mejor_circunferencias_con_puntos = circunferencias_con_puntos_finales\n",
    "            mejor_circunferencias_con_puntos_min_grado = min_grado_actual\n",
    "            \n",
    "            # Si se ha alcanzado el menor grado de adherencia esperado por el usuario, se devuelve el resultado\n",
    "            if(min_grado_actual > min_grado_pertenencia):\n",
    "                iterar = 0\n",
    "            \n",
    "        n_iteraciones = n_iteraciones + 1\n",
    "        \n",
    "        \n",
    "    return mejor_circunferencias_con_puntos\n",
    "\n",
    "\n",
    "# Funciones utilizadas por el algoritmo en orden de llamada:\n",
    "\n",
    "\n",
    "# Crea n circunferencias iniciales al azar a partir de 3 puntos de la lista de todos los puntos.\n",
    "# Parámetros: Array de todos los puntos, número de circunferencias totales\n",
    "def obtener_circunferencias_iniciales(puntos,n_circunferencias): \n",
    "    \n",
    "    circunferencias = []\n",
    "    \n",
    "    for i in range(n_circunferencias):\n",
    "        \n",
    "        puntosRandom = rd.sample(puntos,3)\n",
    "        circunferencia = obtener_circunferencia(puntosRandom)\n",
    "        circunferencias.append(circunferencia)\n",
    "    \n",
    "    return circunferencias\n",
    "\n",
    "\n",
    "# Le asocia a cada circunferencia los puntos que tengan mayor grado de pertenencia con ella\n",
    "# Parámetros: array de las circunferencias y todos los puntos\n",
    "def obtener_circunferencias_con_puntos(circunferencias, puntos):\n",
    "    \n",
    "    circunferencias_con_puntos = []\n",
    "    for circunferencia in circunferencias:\n",
    "        circunferencias_con_puntos.append(CircunferenciaConPuntos(circunferencia))\n",
    "    \n",
    "    for p in puntos:\n",
    "        gradosPert = grados_pertenencia(p,circunferencias)\n",
    "        indice = np.where(gradosPert == max(gradosPert))\n",
    "        circunferencias_con_puntos[indice[0][0]].anyadir_punto(p)\n",
    "        \n",
    "    \n",
    "    \n",
    "    return circunferencias_con_puntos\n",
    "\n",
    "\n",
    "\n",
    "# Devuelve un array con los grados de pertenencia de un punto a todas las circunferencias\n",
    "# Parámetros: punto al que queremos calcular los grados de pertenencia, array de todas las circunferencias\n",
    "def grados_pertenencia(p,circunferencias):\n",
    "    \n",
    "    #Calculamos la distancia del punto a cada circunferencia\n",
    "    distancias = []\n",
    "    \n",
    "    for i in range(len(circunferencias)):\n",
    "        d = np.sqrt(pow(p.x - circunferencias[i].centro.x,2) + pow(p.y - circunferencias[i].centro.y,2))\n",
    "        distancias.append(abs(d - circunferencias[i].radio))\n",
    "    \n",
    "    #Calculamos el grado de pertencia a cada circunferencia con la siguiente fórmula: 100/distancia^2\n",
    "    pertenencias = []\n",
    "    \n",
    "    for i in range(len(circunferencias)):\n",
    "        if(distancias[i]==0.0):\n",
    "            per = 100.0\n",
    "        else:\n",
    "            per = 100/(pow(distancias[i],2))\n",
    "        pertenencias.append(per)\n",
    "        \n",
    "    #Normalizamos\n",
    "    suma = sum(pertenencias)\n",
    "    pertenencias = np.divide(pertenencias,suma)\n",
    "    \n",
    "    return pertenencias\n",
    "\n",
    "\n",
    "# Obtiene una circunferencia mas cercana a partir de sus puntos asociados mediante clustering, pero estos pueden ir variando\n",
    "# Parámetros: array con todos los puntos, los clusteres previos, la razon de parada, es decir, a partir de que diferencia minima entre circunferencias parará, y el máximo número de iteraciones que realizará.\n",
    "def clustering_circunferencias(puntos, clusters_prev, razon_parada, max_iteraciones):\n",
    "    \n",
    "    iterar = 1\n",
    "    iteraciones = 0;\n",
    "    \n",
    "    while(iterar and iteraciones <= max_iteraciones):\n",
    "        \n",
    "        diferencia = []\n",
    "        \n",
    "        # Obtenemos clusters mejores (Explicación en el método) \n",
    "        clusters_post = obtener_siguientes_clusters(puntos, clusters_prev)\n",
    "        \n",
    "        # Si una de las circunferencias tiene menos de 3 puntos(los necesarios para calcular la nueva circunferencia), no se realiza la clusterización.\n",
    "        if(clusters_post == None):\n",
    "            return None;\n",
    "        \n",
    "        # Calculamos la diferencia entre los clusters previos y posteriores a partir de su centro y radio.\n",
    "        for i in range(len(clusters_prev)):\n",
    "            \n",
    "            prev_centro = clusters_prev[i].circunferencia.centro\n",
    "            prev_radio = clusters_prev[i].circunferencia.radio\n",
    "            post_centro = clusters_post[i].circunferencia.centro\n",
    "            post_radio = clusters_post[i].circunferencia.radio\n",
    "            \n",
    "            diferencia.append(np.sqrt((prev_centro.x - post_centro.x)**2 + (prev_centro.y - post_centro.y)**2) + abs(prev_radio - post_radio))\n",
    "            \n",
    "        # Si es menor que la razón, es el final de la clusterización\n",
    "        if(max(diferencia) < razon_parada):    \n",
    "            iterar = 0\n",
    "            \n",
    "        # Si no ha parado, en la siguiente iteración el cluster previo será el calculado en esta\n",
    "        clusters_prev = clusters_post\n",
    "        iteraciones = iteraciones + 1\n",
    "        \n",
    "        \n",
    "    return clusters_post\n",
    "\n",
    "\n",
    "# Se calculan los siguientes clusters a partir de los puntos asociados a cada uno de ellos.\n",
    "def obtener_siguientes_clusters(puntos, clusters_prev):\n",
    "    \n",
    "    clusters_post = []\n",
    "    \n",
    "    for cluster_prev in clusters_prev:\n",
    "        \n",
    "        puntos_cluster = cluster_prev.puntos\n",
    "        \n",
    "        # Si una de las circunferencias tiene menos de 3 puntos(los necesarios para calcular la nueva circunferencia), no se realiza la clusterización.\n",
    "        if(len(puntos_cluster) < 3):\n",
    "            return None\n",
    "        \n",
    "        # Se obtiene la nueva circunferencia a partir de 3 puntos asociados a ella\n",
    "        clusters_post.append(obtener_circunferencia(obtener_3_puntos(puntos_cluster)))\n",
    "        \n",
    "    # Se devuelve la nueva circunferencia con los nuevos puntos asociados a ella (Pueden ser los mismos que antes o no)\n",
    "    return obtener_circunferencias_con_puntos(clusters_post, puntos)\n",
    "\n",
    "\n",
    "# Parámetros: Array de todos los puntos\n",
    "def obtener_3_puntos(puntos):\n",
    "    \n",
    "    # Se obtienen 3 puntos al azar del array de puntos\n",
    "    randomVals = rd.sample(puntos,3)\n",
    "        \n",
    "    return randomVals[0],randomVals[1],randomVals[2]\n",
    "\n",
    "\n",
    "# Genera una circunferencia a partir de los 3 puntos pasados\n",
    "# Parámetros: Array de 3 puntos\n",
    "# REF: codewars.com/kata/give-the-center-and-the-radius-of-circumscribed-circle-a-warm-up-challenge/python\n",
    "def obtener_circunferencia(puntos): \n",
    "    \n",
    "    x1 = puntos[0].x\n",
    "    x2 = puntos[1].x\n",
    "    x3 = puntos[2].x\n",
    "    y1 = puntos[0].y\n",
    "    y2 = puntos[1].y\n",
    "    y3 = puntos[2].y\n",
    "    \n",
    "    D = 2*(x1*(y2-y3) + x2*(y3-y1) + x3*(y1-y2))\n",
    "    \n",
    "    # Comprobamos si los 3 puntos forman una recta, y si es así ...\n",
    "    if(D==0):\n",
    "        puntosNuevos = [puntos[0], puntos[1]]\n",
    "        distancia = np.sqrt(pow(x1-x2,2)+pow(y1-y2,2))\n",
    "        x3 = x1 + distancia\n",
    "        y3 = y1 + distancia\n",
    "        puntoNuevo = Punto(x3,y3)\n",
    "        puntosNuevos = [puntos[0], puntos[1], puntoNuevo]\n",
    "        return obtener_circunferencia(puntosNuevos)\n",
    "    \n",
    "        \n",
    "    Ux = ((pow(x1,2) + pow(y1,2)) * (y2-y3) + (pow(x2,2) + pow(y2,2)) * (y3-y1) + (pow(x3,2) + pow(y3,2)) * (y1-y2))/D\n",
    "    Uy = ((pow(x1,2) + pow(y1,2)) * (x3-x2) + (pow(x2,2) + pow(y2,2)) * (x1-x3) + (pow(x3,2) + pow(y3,2)) * (x2-x1))/D\n",
    "    AB = np.sqrt(float(pow(x2-x1,2) + pow(y2-y1,2)))\n",
    "    BC = np.sqrt(float(pow(x3-x2,2) + pow(y3-y2,2)))\n",
    "    AC = np.sqrt(float(pow(x3-x1,2) + pow(y3-y1,2)))\n",
    "    diametro = (2*AB*BC*AC)/abs(D)\n",
    "    \n",
    "    circunferencia = Circunferencia(float(Ux),float(Uy),float(diametro/2))\n",
    "    \n",
    "    return circunferencia\n",
    "    \n",
    "\n",
    "# Devuelve el mínimo grado de pertenencia que tenga un puntode los puntos asociados a una circunferencia respecto a esa circunferencia de entre todas ellas.\n",
    "def comprobar_grado_pertenencia(circunferencias_con_puntos):\n",
    "    \n",
    "    circunferencias = []\n",
    "    grados_por_cluster = []\n",
    "    grados_por_punto = []\n",
    "    i = 0\n",
    "    \n",
    "    for circunferencia_con_puntos in circunferencias_con_puntos:\n",
    "        circunferencias.append(circunferencia_con_puntos.circunferencia)\n",
    "        \n",
    "    \n",
    "    for circunferencia_con_puntos in circunferencias_con_puntos:\n",
    "        for p in circunferencia_con_puntos.puntos:\n",
    "            grados_por_punto.append(max(grados_pertenencia(p,circunferencias)))\n",
    "           \n",
    "        grados_por_cluster.append(min(grados_por_punto))\n",
    "        \n",
    "    return min(grados_por_cluster)"
   ]
  },
  {
   "cell_type": "markdown",
   "metadata": {},
   "source": [
    "# 1) Estructura de datos:"
   ]
  },
  {
   "cell_type": "code",
   "execution_count": 1,
   "metadata": {},
   "outputs": [],
   "source": [
    "# Parámetros: x,y del punto\n",
    "class Punto(): \n",
    "    def __init__(self, x, y):\n",
    "        self.x = x\n",
    "        self.y = y\n",
    "        \n",
    "    def print(self):\n",
    "        print('(',self.x, ', ',self.y,')')\n",
    "    def __repr__(self):\n",
    "        return '(%s, %s)' % (self.x,self.y)\n",
    "    def __str__(self):\n",
    "        return '(%s, %s)' % (self.x,self.y)\n",
    "\n",
    "# Parámetros: x,y (centro), radio\n",
    "class Circunferencia(): \n",
    "    def __init__(self, x, y, radio):\n",
    "        self.centro = Punto(x,y)\n",
    "        self.radio = radio\n",
    "        \n",
    "    def print(self):\n",
    "        print('Centro: ',self.centro, ' Radio: ',self.radio)\n",
    "    def __repr__(self):\n",
    "        return 'Centro: %s Radio: %s' % (self.centro,self.radio)\n",
    "    def __str__(self):\n",
    "        return 'Centro: %s Radio: %s' % (self.centro,self.radio)\n",
    "    \n",
    "# Parámetros: circunferencia\n",
    "class CircunferenciaConPuntos(): \n",
    "    def __init__(self,circunferencia):\n",
    "        self.circunferencia = circunferencia\n",
    "        self.puntos = []\n",
    "        \n",
    "    def anyadir_punto(self,punto):\n",
    "        self.puntos.append(punto)\n",
    "        \n",
    "        \n",
    "    def print(self):\n",
    "        print('Circunferencia: ',self.circunferencia, ' Puntos: ',self.puntos)\n",
    "    def __repr__(self):\n",
    "        return 'Circunferencia: %s Puntos: %s' % (self.circunferencia,self.puntos)\n",
    "    def __str__(self):\n",
    "        return 'Circunferencia: %s Puntos: %s' % (self.circunferencia,self.puntos)"
   ]
  },
  {
   "cell_type": "code",
   "execution_count": 2,
   "metadata": {},
   "outputs": [
    {
     "data": {
      "text/plain": [
       "(5, 6)"
      ]
     },
     "execution_count": 2,
     "metadata": {},
     "output_type": "execute_result"
    }
   ],
   "source": [
    "p = Punto(5,6)\n",
    "p"
   ]
  },
  {
   "cell_type": "code",
   "execution_count": 3,
   "metadata": {},
   "outputs": [
    {
     "data": {
      "text/plain": [
       "Centro: (0, 0) Radio: 5"
      ]
     },
     "execution_count": 3,
     "metadata": {},
     "output_type": "execute_result"
    }
   ],
   "source": [
    "circ = Circunferencia(0,0,5)\n",
    "circ"
   ]
  },
  {
   "cell_type": "code",
   "execution_count": 5,
   "metadata": {},
   "outputs": [
    {
     "data": {
      "text/plain": [
       "Circunferencia: Centro: (0, 0) Radio: 5 Puntos: [(5, 6)]"
      ]
     },
     "execution_count": 5,
     "metadata": {},
     "output_type": "execute_result"
    }
   ],
   "source": [
    "ccp = CircunferenciaConPuntos(circ)\n",
    "ccp.anyadir_punto(p)\n",
    "ccp"
   ]
  },
  {
   "cell_type": "markdown",
   "metadata": {},
   "source": [
    "# 2) Estimación Trayectoria Circular:"
   ]
  },
  {
   "cell_type": "code",
   "execution_count": 2,
   "metadata": {},
   "outputs": [],
   "source": [
    "# Parámetros: Array de todos los puntos\n",
    "def obtener_3_puntos(puntos):\n",
    "    \n",
    "    # Se obtienen 3 puntos al azar del array de puntos\n",
    "    randomVals = rd.sample(puntos,3)\n",
    "        \n",
    "    return randomVals[0],randomVals[1],randomVals[2]\n",
    "\n",
    "\n",
    "# Genera una circunferencia a partir de los 3 puntos pasados\n",
    "# Parámetros: Array de 3 puntos\n",
    "def obtener_circunferencia(puntos): \n",
    "    \n",
    "    x1 = puntos[0].x\n",
    "    x2 = puntos[1].x\n",
    "    x3 = puntos[2].x\n",
    "    y1 = puntos[0].y\n",
    "    y2 = puntos[1].y\n",
    "    y3 = puntos[2].y\n",
    "    \n",
    "    D = 2*(x1*(y2-y3) + x2*(y3-y1) + x3*(y1-y2))\n",
    "    \n",
    "    # Comprobamos si los 3 puntos forman una recta, y si es así ...\n",
    "    if(D==0):\n",
    "        puntosNuevos = [puntos[0], puntos[1]]\n",
    "        distancia = np.sqrt(pow(x1-x2,2)+pow(y1-y2,2))\n",
    "        x3 = x1 + distancia\n",
    "        y3 = y1 + distancia\n",
    "        puntoNuevo = Punto(x3,y3)\n",
    "        puntosNuevos = [puntos[0], puntos[1], puntoNuevo]\n",
    "        return obtener_circunferencia(puntosNuevos)\n",
    "    \n",
    "        \n",
    "    Ux = ((pow(x1,2) + pow(y1,2)) * (y2-y3) + (pow(x2,2) + pow(y2,2)) * (y3-y1) + (pow(x3,2) + pow(y3,2)) * (y1-y2))/D\n",
    "    Uy = ((pow(x1,2) + pow(y1,2)) * (x3-x2) + (pow(x2,2) + pow(y2,2)) * (x1-x3) + (pow(x3,2) + pow(y3,2)) * (x2-x1))/D\n",
    "    AB = np.sqrt(float(pow(x2-x1,2) + pow(y2-y1,2)))\n",
    "    BC = np.sqrt(float(pow(x3-x2,2) + pow(y3-y2,2)))\n",
    "    AC = np.sqrt(float(pow(x3-x1,2) + pow(y3-y1,2)))\n",
    "    diametro = (2*AB*BC*AC)/abs(D)\n",
    "    \n",
    "    circunferencia = Circunferencia(float(Ux),float(Uy),float(diametro/2))\n",
    "    \n",
    "    return circunferencia\n",
    "\n",
    "\n",
    "\n",
    "\n",
    "def dibujar_circunferencia(circunferencia, puntos):\n",
    "    \n",
    "    Xs = []\n",
    "    Ys = []\n",
    "  \n",
    "    for p in puntos:\n",
    "        \n",
    "        Xs.append(p.x)\n",
    "        Ys.append(p.y)\n",
    "        \n",
    "    plt.plot(Xs, Ys, 'ro', color='black')\n",
    "        \n",
    "    circulo = plt.Circle((circunferencia.centro.x, circunferencia.centro.y), circunferencia.radio, color='black', fill=False)\n",
    "    ax=plt.gca()\n",
    "    ax.add_patch(circulo)\n",
    "    plt.axis('scaled')\n",
    "    \n",
    "    plt.show()"
   ]
  },
  {
   "cell_type": "markdown",
   "metadata": {},
   "source": [
    "#### Al coger los puntos al azar, si estos no forman una circunferencia perfecta a veces no será del todo preciso, pero se hace así para que no coga casi siempre los mismos puntos. Se podrá comprobar más adelante que con el nº suficiente de iteraciones esto no supondrá ningún problema"
   ]
  },
  {
   "cell_type": "markdown",
   "metadata": {},
   "source": [
    "El primer ejemplo es un circulo perfecto centrado en el origen y de radio 5."
   ]
  },
  {
   "cell_type": "code",
   "execution_count": 6,
   "metadata": {},
   "outputs": [
    {
     "data": {
      "image/png": "[encoded data removed]",
      "text/plain": [
       "<Figure size 432x288 with 1 Axes>"
      ]
     },
     "metadata": {
      "needs_background": "light"
     },
     "output_type": "display_data"
    },
    {
     "data": {
      "text/plain": [
       "[(5, 0),\n",
       " (4, 3),\n",
       " (3, 4),\n",
       " (0, 5),\n",
       " (-3, 4),\n",
       " (-4, 3),\n",
       " (-5, 0),\n",
       " (-4, -3),\n",
       " (-3, -4),\n",
       " (0, -5),\n",
       " (3, -4),\n",
       " (4, -3)]"
      ]
     },
     "execution_count": 6,
     "metadata": {},
     "output_type": "execute_result"
    }
   ],
   "source": [
    "puntos = leer_puntos('Data/puntos_1.csv')\n",
    "\n",
    "dibujar_puntos(puntos)\n",
    "puntos"
   ]
  },
  {
   "cell_type": "code",
   "execution_count": 9,
   "metadata": {},
   "outputs": [
    {
     "data": {
      "image/png": "[encoded data removed]",
      "text/plain": [
       "<Figure size 432x288 with 1 Axes>"
      ]
     },
     "metadata": {
      "needs_background": "light"
     },
     "output_type": "display_data"
    },
    {
     "data": {
      "text/plain": [
       "((-3, 4), (-3, -4), (4, 3))"
      ]
     },
     "execution_count": 9,
     "metadata": {},
     "output_type": "execute_result"
    }
   ],
   "source": [
    "#Obtenemos 3 puntos aleatorios\n",
    "pts = obtener_3_puntos(puntos)\n",
    "dibujar_puntos(pts)\n",
    "pts"
   ]
  },
  {
   "cell_type": "code",
   "execution_count": 12,
   "metadata": {},
   "outputs": [
    {
     "data": {
      "image/png": "[encoded data removed]",
      "text/plain": [
       "<Figure size 432x288 with 1 Axes>"
      ]
     },
     "metadata": {
      "needs_background": "light"
     },
     "output_type": "display_data"
    },
    {
     "data": {
      "text/plain": [
       "Centro: (0.0, 0.0) Radio: 5.0"
      ]
     },
     "execution_count": 12,
     "metadata": {},
     "output_type": "execute_result"
    }
   ],
   "source": [
    "circ = obtener_circunferencia(pts)\n",
    "dibujar_circunferencia(circ, puntos)\n",
    "circ"
   ]
  },
  {
   "cell_type": "markdown",
   "metadata": {},
   "source": [
    "Lo probamos con una lista de puntos no perfecta y de baricentro \"1,0\" y radio \"4\""
   ]
  },
  {
   "cell_type": "code",
   "execution_count": 3,
   "metadata": {},
   "outputs": [
    {
     "data": {
      "image/png": "[encoded data removed]",
      "text/plain": [
       "<Figure size 432x288 with 1 Axes>"
      ]
     },
     "metadata": {
      "needs_background": "light"
     },
     "output_type": "display_data"
    },
    {
     "data": {
      "text/plain": [
       "[(5.0, 0.0),\n",
       " (4.5, 2.0),\n",
       " (3.0, 3.5),\n",
       " (1.0, 4.0),\n",
       " (0.0, 3.75),\n",
       " (-2.0, 2.5),\n",
       " (-3.0, 0.0),\n",
       " (-2.0, -2.5),\n",
       " (0.0, -3.75),\n",
       " (1.0, -4.0),\n",
       " (3.0, -3.5),\n",
       " (4.0, -2.5)]"
      ]
     },
     "execution_count": 3,
     "metadata": {},
     "output_type": "execute_result"
    }
   ],
   "source": [
    "puntos = leer_puntos('Data/puntos_2.csv')\n",
    "\n",
    "dibujar_puntos(puntos)\n",
    "puntos"
   ]
  },
  {
   "cell_type": "code",
   "execution_count": 8,
   "metadata": {},
   "outputs": [
    {
     "data": {
      "image/png": "[encoded data removed]",
      "text/plain": [
       "<Figure size 432x288 with 1 Axes>"
      ]
     },
     "metadata": {
      "needs_background": "light"
     },
     "output_type": "display_data"
    },
    {
     "data": {
      "text/plain": [
       "((0.0, 3.75), (3.0, 3.5), (-2.0, 2.5))"
      ]
     },
     "execution_count": 8,
     "metadata": {},
     "output_type": "execute_result"
    }
   ],
   "source": [
    "#Obtenemos 3 puntos aleatorios\n",
    "pts = obtener_3_puntos(puntos)\n",
    "dibujar_puntos(pts)\n",
    "pts"
   ]
  },
  {
   "cell_type": "code",
   "execution_count": 9,
   "metadata": {},
   "outputs": [
    {
     "data": {
      "image/png": "[encoded data removed]",
      "text/plain": [
       "<Figure size 432x288 with 1 Axes>"
      ]
     },
     "metadata": {
      "needs_background": "light"
     },
     "output_type": "display_data"
    },
    {
     "data": {
      "text/plain": [
       "Centro: (1.1691176470588236, -0.34558823529411764) Radio: 4.25918760630991"
      ]
     },
     "execution_count": 9,
     "metadata": {},
     "output_type": "execute_result"
    }
   ],
   "source": [
    "circ = obtener_circunferencia(pts)\n",
    "dibujar_circunferencia(circ, puntos)\n",
    "circ"
   ]
  },
  {
   "cell_type": "code",
   "execution_count": 24,
   "metadata": {},
   "outputs": [
    {
     "data": {
      "image/png": "[encoded data removed]",
      "text/plain": [
       "<Figure size 432x288 with 1 Axes>"
      ]
     },
     "metadata": {
      "needs_background": "light"
     },
     "output_type": "display_data"
    },
    {
     "data": {
      "text/plain": [
       "[(5.0, 0.0),\n",
       " (4.5, 2.0),\n",
       " (3.0, 3.5),\n",
       " (1.0, 4.0),\n",
       " (0.0, 3.75),\n",
       " (-2.0, 2.5),\n",
       " (-3.0, 0.0),\n",
       " (-2.0, -2.5),\n",
       " (0.0, -3.75),\n",
       " (1.0, -4.0),\n",
       " (3.0, -3.5),\n",
       " (4.0, -2.5)]"
      ]
     },
     "execution_count": 24,
     "metadata": {},
     "output_type": "execute_result"
    }
   ],
   "source": [
    "puntos = leer_puntos('Data/puntos_2.csv')\n",
    "\n",
    "dibujar_puntos(puntos)\n",
    "puntos"
   ]
  },
  {
   "cell_type": "code",
   "execution_count": 27,
   "metadata": {},
   "outputs": [
    {
     "data": {
      "image/png": "[encoded data removed]",
      "text/plain": [
       "<Figure size 432x288 with 1 Axes>"
      ]
     },
     "metadata": {
      "needs_background": "light"
     },
     "output_type": "display_data"
    },
    {
     "data": {
      "text/plain": [
       "((1.0, -4.0), (3.0, 3.5), (-3.0, 0.0))"
      ]
     },
     "execution_count": 27,
     "metadata": {},
     "output_type": "execute_result"
    }
   ],
   "source": [
    "#Obtenemos 3 puntos aleatorios\n",
    "pts = obtener_3_puntos(puntos)\n",
    "dibujar_puntos(pts)\n",
    "pts"
   ]
  },
  {
   "cell_type": "code",
   "execution_count": 28,
   "metadata": {},
   "outputs": [
    {
     "data": {
      "image/png": "[encoded data removed]",
      "text/plain": [
       "<Figure size 432x288 with 1 Axes>"
      ]
     },
     "metadata": {
      "needs_background": "light"
     },
     "output_type": "display_data"
    },
    {
     "data": {
      "text/plain": [
       "Centro: (1.013157894736842, 0.013157894736842105) Radio: 4.013179464998115"
      ]
     },
     "execution_count": 28,
     "metadata": {},
     "output_type": "execute_result"
    }
   ],
   "source": [
    "circ = obtener_circunferencia(pts)\n",
    "dibujar_circunferencia(circ, puntos)\n",
    "circ"
   ]
  },
  {
   "cell_type": "markdown",
   "metadata": {},
   "source": [
    "# 3) Grados de pertenencia"
   ]
  },
  {
   "cell_type": "code",
   "execution_count": 99,
   "metadata": {},
   "outputs": [],
   "source": [
    "# Devuelve un array con los grados de pertenencia de un punto a todas las circunferencias\n",
    "# Parámetros: punto al que queremos calcular los grados de pertenencia, array de todas las circunferencias\n",
    "def grados_pertenencia(p,circunferencias):\n",
    "    \n",
    "    #Calculamos la distancia del punto a cada circunferencia\n",
    "    distancias = []\n",
    "    \n",
    "    for i in range(len(circunferencias)):\n",
    "        d = np.sqrt(pow(p.x - circunferencias[i].centro.x,2) + pow(p.y - circunferencias[i].centro.y,2))\n",
    "        distancias.append(abs(d - circunferencias[i].radio))\n",
    "    \n",
    "    #Calculamos el grado de pertencia a cada circunferencia con la siguiente fórmula: 100/distancia^2\n",
    "    pertenencias = []\n",
    "    \n",
    "    for i in range(len(circunferencias)):\n",
    "        if(distancias[i]==0.0):\n",
    "            per = 100.0\n",
    "        else:\n",
    "            per = 100/(pow(distancias[i],2))\n",
    "        pertenencias.append(per)\n",
    "        \n",
    "    #Normalizamos\n",
    "    suma = sum(pertenencias)\n",
    "    pertenencias = np.divide(pertenencias,suma)\n",
    "    \n",
    "    return pertenencias"
   ]
  },
  {
   "cell_type": "code",
   "execution_count": 33,
   "metadata": {},
   "outputs": [],
   "source": [
    "c1 = Circunferencia(0,0,5)\n",
    "c2 = Circunferencia(1,0,4)\n",
    "c3 = Circunferencia(10,10,3)\n",
    "\n",
    "circunferencias = [c1,c2,c3]"
   ]
  },
  {
   "cell_type": "code",
   "execution_count": 34,
   "metadata": {},
   "outputs": [
    {
     "name": "stdout",
     "output_type": "stream",
     "text": [
      "[0.47764808 0.47764808 0.04470383]\n",
      "1.0\n"
     ]
    }
   ],
   "source": [
    "p = Punto(2,0)\n",
    "print(grados_pertenencia(p,circunferencias))\n",
    "print(sum(grados_pertenencia(p,circunferencias)))"
   ]
  },
  {
   "cell_type": "code",
   "execution_count": 35,
   "metadata": {},
   "outputs": [
    {
     "name": "stdout",
     "output_type": "stream",
     "text": [
      "[0.01590335 0.01498611 0.96911054]\n",
      "1.0\n"
     ]
    }
   ],
   "source": [
    "p = Punto(10,8)\n",
    "print(grados_pertenencia(p,circunferencias))\n",
    "print(sum(grados_pertenencia(p,circunferencias)))"
   ]
  },
  {
   "cell_type": "code",
   "execution_count": 37,
   "metadata": {},
   "outputs": [
    {
     "name": "stdout",
     "output_type": "stream",
     "text": [
      "[0.63415565 0.3235488  0.04229555]\n",
      "1.0000000000000002\n"
     ]
    }
   ],
   "source": [
    "p = Punto(-10,0)\n",
    "print(grados_pertenencia(p,circunferencias))\n",
    "print(sum(grados_pertenencia(p,circunferencias)))"
   ]
  },
  {
   "cell_type": "code",
   "execution_count": 39,
   "metadata": {},
   "outputs": [
    {
     "name": "stdout",
     "output_type": "stream",
     "text": [
      "[0.91441817 0.08558183]\n",
      "1.0\n"
     ]
    }
   ],
   "source": [
    "circunferencias = [c1,c3]\n",
    "p = Punto(2,0)\n",
    "print(grados_pertenencia(p,circunferencias))\n",
    "print(sum(grados_pertenencia(p,circunferencias)))"
   ]
  },
  {
   "cell_type": "markdown",
   "metadata": {},
   "source": [
    "# 4) Modificacion Objetivo 2"
   ]
  },
  {
   "cell_type": "code",
   "execution_count": 11,
   "metadata": {},
   "outputs": [],
   "source": [
    "# Parámetros: Array de todos los puntos\n",
    "def obtener_3_puntos(puntos):\n",
    "    \n",
    "    # Se obtienen 3 puntos al azar del array de puntos\n",
    "    randomVals = rd.sample(puntos,3)\n",
    "        \n",
    "    return randomVals[0],randomVals[1],randomVals[2]\n",
    "\n",
    "\n",
    "# Genera una circunferencia a partir de los 3 puntos pasados\n",
    "# Parámetros: Array de 3 puntos\n",
    "def obtener_circunferencia(puntos): \n",
    "    \n",
    "    x1 = puntos[0].x\n",
    "    x2 = puntos[1].x\n",
    "    x3 = puntos[2].x\n",
    "    y1 = puntos[0].y\n",
    "    y2 = puntos[1].y\n",
    "    y3 = puntos[2].y\n",
    "    \n",
    "    D = 2*(x1*(y2-y3) + x2*(y3-y1) + x3*(y1-y2))\n",
    "    \n",
    "    # Comprobamos si los 3 puntos forman una recta, y si es así ...\n",
    "    if(D==0):\n",
    "        puntosNuevos = [puntos[0], puntos[1]]\n",
    "        distancia = np.sqrt(pow(x1-x2,2)+pow(y1-y2,2))\n",
    "        x3 = x1 + distancia\n",
    "        y3 = y1 + distancia\n",
    "        puntoNuevo = Punto(x3,y3)\n",
    "        puntosNuevos = [puntos[0], puntos[1], puntoNuevo]\n",
    "        return obtener_circunferencia(puntosNuevos)\n",
    "    \n",
    "        \n",
    "    Ux = ((pow(x1,2) + pow(y1,2)) * (y2-y3) + (pow(x2,2) + pow(y2,2)) * (y3-y1) + (pow(x3,2) + pow(y3,2)) * (y1-y2))/D\n",
    "    Uy = ((pow(x1,2) + pow(y1,2)) * (x3-x2) + (pow(x2,2) + pow(y2,2)) * (x1-x3) + (pow(x3,2) + pow(y3,2)) * (x2-x1))/D\n",
    "    AB = np.sqrt(float(pow(x2-x1,2) + pow(y2-y1,2)))\n",
    "    BC = np.sqrt(float(pow(x3-x2,2) + pow(y3-y2,2)))\n",
    "    AC = np.sqrt(float(pow(x3-x1,2) + pow(y3-y1,2)))\n",
    "    diametro = (2*AB*BC*AC)/abs(D)\n",
    "    \n",
    "    circunferencia = Circunferencia(float(Ux),float(Uy),float(diametro/2))\n",
    "    \n",
    "    return circunferencia\n",
    "\n",
    "\n",
    "# Crea n circunferencias iniciales al azar a partir de 3 puntos de la lista de todos los puntos.\n",
    "# Parámetros: Array de todos los puntos, número de circunferencias totales\n",
    "def obtener_circunferencias_iniciales(puntos,n_circunferencias): \n",
    "    \n",
    "    circunferencias = []\n",
    "    \n",
    "    for i in range(n_circunferencias):\n",
    "        \n",
    "        puntosRandom = rd.sample(puntos,3)\n",
    "        circunferencia = obtener_circunferencia(puntosRandom)\n",
    "        circunferencias.append(circunferencia)\n",
    "    \n",
    "    return circunferencias\n",
    "\n",
    "# Le asocia a cada circunferencia los puntos que tengan mayor grado de pertenencia con ella\n",
    "# Parámetros: array de las circunferencias y todos los puntos\n",
    "def obtener_circunferencias_con_puntos(circunferencias, puntos):\n",
    "    \n",
    "    circunferencias_con_puntos = []\n",
    "    for circunferencia in circunferencias:\n",
    "        circunferencias_con_puntos.append(CircunferenciaConPuntos(circunferencia))\n",
    "    \n",
    "    for p in puntos:\n",
    "        gradosPert = grados_pertenencia(p,circunferencias)\n",
    "        indice = np.where(gradosPert == max(gradosPert))\n",
    "        circunferencias_con_puntos[indice[0][0]].anyadir_punto(p)\n",
    "        \n",
    "    \n",
    "    \n",
    "    return circunferencias_con_puntos\n",
    "\n",
    "\n",
    "# Se calculan los siguientes clusters a partir de los puntos asociados a cada uno de ellos.\n",
    "def obtener_siguientes_clusters(puntos, clusters_prev):\n",
    "    \n",
    "    clusters_post = []\n",
    "    \n",
    "    for cluster_prev in clusters_prev:\n",
    "        \n",
    "        puntos_cluster = cluster_prev.puntos\n",
    "        \n",
    "        # Si una de las circunferencias tiene menos de 3 puntos(los necesarios para calcular la nueva circunferencia), no se realiza la clusterización.\n",
    "        if(len(puntos_cluster) < 3):\n",
    "            return None\n",
    "        \n",
    "        # Se obtiene la nueva circunferencia a partir de 3 puntos asociados a ella\n",
    "        clusters_post.append(obtener_circunferencia(obtener_3_puntos(puntos_cluster)))\n",
    "        \n",
    "    # Se devuelve la nueva circunferencia con los nuevos puntos asociados a ella (Pueden ser los mismos que antes o no)\n",
    "    return obtener_circunferencias_con_puntos(clusters_post, puntos)\n"
   ]
  },
  {
   "cell_type": "markdown",
   "metadata": {},
   "source": [
    "### Si se ejecuta suficientes veces, los clusters iniciales serán lo suficientemente buenos para que necesite pocas iteraciones de obtener_siguientes_clusters().\n",
    "### Por tanto, hay que ejecutar varias veces obtener_circunferencias_iniciales() para obtener resultados"
   ]
  },
  {
   "cell_type": "code",
   "execution_count": 10,
   "metadata": {},
   "outputs": [
    {
     "data": {
      "image/png": "[encoded data removed]",
      "text/plain": [
       "<Figure size 432x288 with 1 Axes>"
      ]
     },
     "metadata": {
      "needs_background": "light"
     },
     "output_type": "display_data"
    }
   ],
   "source": [
    "puntos = leer_puntos('Data/puntos_adjuntos_1.csv')\n",
    "\n",
    "dibujar_puntos(puntos)"
   ]
  },
  {
   "cell_type": "code",
   "execution_count": 14,
   "metadata": {},
   "outputs": [
    {
     "data": {
      "image/png": "[encoded data removed]",
      "text/plain": [
       "<Figure size 432x288 with 1 Axes>"
      ]
     },
     "metadata": {
      "needs_background": "light"
     },
     "output_type": "display_data"
    }
   ],
   "source": [
    "circ_iniciales = obtener_circunferencias_iniciales(puntos,2)\n",
    "ccp = obtener_circunferencias_con_puntos(circ_iniciales, puntos)\n",
    "dibujar_circunferencia_con_puntos(ccp)"
   ]
  },
  {
   "cell_type": "code",
   "execution_count": 13,
   "metadata": {},
   "outputs": [
    {
     "data": {
      "image/png": "[encoded data removed]",
      "text/plain": [
       "<Figure size 432x288 with 1 Axes>"
      ]
     },
     "metadata": {
      "needs_background": "light"
     },
     "output_type": "display_data"
    }
   ],
   "source": [
    "prox_ccp = obtener_siguientes_clusters(puntos, ccp)\n",
    "dibujar_circunferencia_con_puntos(prox_ccp)"
   ]
  },
  {
   "cell_type": "code",
   "execution_count": 69,
   "metadata": {},
   "outputs": [
    {
     "data": {
      "image/png": "[encoded data removed]",
      "text/plain": [
       "<Figure size 432x288 with 1 Axes>"
      ]
     },
     "metadata": {
      "needs_background": "light"
     },
     "output_type": "display_data"
    }
   ],
   "source": [
    "puntos = leer_puntos('Data/puntos_adjuntos_2.csv')\n",
    "\n",
    "dibujar_puntos(puntos)"
   ]
  },
  {
   "cell_type": "code",
   "execution_count": 88,
   "metadata": {},
   "outputs": [
    {
     "data": {
      "image/png": "[encoded data removed]",
      "text/plain": [
       "<Figure size 432x288 with 1 Axes>"
      ]
     },
     "metadata": {
      "needs_background": "light"
     },
     "output_type": "display_data"
    }
   ],
   "source": [
    "circ_iniciales = obtener_circunferencias_iniciales(puntos,3)\n",
    "ccp = obtener_circunferencias_con_puntos(circ_iniciales, puntos)\n",
    "dibujar_circunferencia_con_puntos(ccp)"
   ]
  },
  {
   "cell_type": "code",
   "execution_count": 89,
   "metadata": {},
   "outputs": [
    {
     "data": {
      "image/png": "[encoded data removed]",
      "text/plain": [
       "<Figure size 432x288 with 1 Axes>"
      ]
     },
     "metadata": {
      "needs_background": "light"
     },
     "output_type": "display_data"
    }
   ],
   "source": [
    "prox_ccp = obtener_siguientes_clusters(puntos, ccp)\n",
    "dibujar_circunferencia_con_puntos(prox_ccp)"
   ]
  },
  {
   "cell_type": "markdown",
   "metadata": {},
   "source": [
    "### 5) Herramienta completa\n",
    "#### En el archivo Clustering"
   ]
  }
 ],
 "metadata": {
  "kernelspec": {
   "display_name": "Python 3",
   "language": "python",
   "name": "python3"
  },
  "language_info": {
   "codemirror_mode": {
    "name": "ipython",
    "version": 3
   },
   "file_extension": ".py",
   "mimetype": "text/x-python",
   "name": "python",
   "nbconvert_exporter": "python",
   "pygments_lexer": "ipython3",
   "version": "3.7.4"
  }
 },
 "nbformat": 4,
 "nbformat_minor": 4
}
