{
 "cells": [
  {
   "cell_type": "code",
   "execution_count": 2,
   "metadata": {},
   "outputs": [],
   "source": [
    "import random as rd\n",
    "\n",
    "import math\n",
    "\n",
    "class Point(): \n",
    "    def __init__(self, x, y):\n",
    "        self.x = x\n",
    "        self.y = y\n",
    "        \n",
    "    def print(self):\n",
    "        print('(',self.x, ', ',self.y,')')\n",
    "    def __repr__(self):\n",
    "        return '(%s, %s)' % (self.x,self.y)\n",
    "    def __str__(self):\n",
    "        return '(%s, %s)' % (self.x,self.y)\n",
    "    \n",
    "class Cluster(): \n",
    "    def __init__(self, x, y, radius):\n",
    "        self.center = Point(x,y)\n",
    "        self.radius = radius\n",
    "        \n",
    "    def print(self):\n",
    "        print('Center: ',self.center, ' Radio: ',self.radius)\n",
    "    def __repr__(self):\n",
    "        return 'Center: %s Radius: %s' % (self.center,self.radius)\n",
    "    def __str__(self):\n",
    "        return 'Center: %s Radius: %s' % (self.center,self.radius)"
   ]
  },
  {
   "cell_type": "code",
   "execution_count": 3,
   "metadata": {},
   "outputs": [],
   "source": [
    "#REF: https://gis.stackexchange.com/questions/76745/creating-a-circle-with-points\n",
    "def generaPuntosCircunferencia(clusters, lista_n_puntos, nombreArchivo):\n",
    "    points = []\n",
    "    for i in range(len(clusters)):\n",
    "        x = clusters[i].center.x\n",
    "        y = clusters[i].center.y\n",
    "        radio = clusters[i].radius\n",
    "        arc = (2 * math.pi) / lista_n_puntos[i]\n",
    "        for p in range(lista_n_puntos[i]):\n",
    "            px = (0*math.cos(arc * p)) - (radio*math.sin(arc * p))\n",
    "            py = (radio*math.cos(arc * p)) + (0*math.sin(arc * p))\n",
    "            px += x\n",
    "            py += y\n",
    "            points.append((px,py))\n",
    "    escribirFichero(points, nombreArchivo)"
   ]
  },
  {
   "cell_type": "code",
   "execution_count": 4,
   "metadata": {},
   "outputs": [],
   "source": [
    "#REF: https://www.guru99.com/reading-and-writing-files-in-python.html\n",
    "def escribirFichero(listaPuntos, nombreArchivo):\n",
    "    f= open(\"%s.csv\" % nombreArchivo,\"w+\")\n",
    "    if(len(listaPuntos)/2>3):\n",
    "        intervalo = rd.randint(3,math.floor(len(listaPuntos)/2))\n",
    "    else:\n",
    "        intervalo = 2\n",
    "    for i in range(len(listaPuntos)):\n",
    "        if(i%intervalo==0):\n",
    "            x = listaPuntos[i][0]\n",
    "            y = listaPuntos[i][1]\n",
    "            x = x + rd.uniform(-1, 1)\n",
    "            y = y + rd.uniform(-1, 1)\n",
    "            f.write(\"%f,%f\\n\" % (x,y))\n",
    "        else:\n",
    "            f.write(\"%f,%f\\n\" % listaPuntos[i])\n",
    "    f.close() "
   ]
  },
  {
   "cell_type": "code",
   "execution_count": 7,
   "metadata": {},
   "outputs": [],
   "source": [
    "clusters = [Cluster(0,0,3),Cluster(4,0,2), Cluster(80,80,10)]\n",
    "lista_n_puntos = [20,20, 10]\n",
    "generaPuntosCircunferencia(clusters, lista_n_puntos, \"Data/puntos_aleatorios\")"
   ]
  },
  {
   "cell_type": "code",
   "execution_count": null,
   "metadata": {},
   "outputs": [],
   "source": []
  }
 ],
 "metadata": {
  "kernelspec": {
   "display_name": "Python 3",
   "language": "python",
   "name": "python3"
  },
  "language_info": {
   "codemirror_mode": {
    "name": "ipython",
    "version": 3
   },
   "file_extension": ".py",
   "mimetype": "text/x-python",
   "name": "python",
   "nbconvert_exporter": "python",
   "pygments_lexer": "ipython3",
   "version": "3.7.4"
  }
 },
 "nbformat": 4,
 "nbformat_minor": 4
}
