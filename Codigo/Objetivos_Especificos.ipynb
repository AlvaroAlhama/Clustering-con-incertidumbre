{
 "cells": [
  {
   "cell_type": "markdown",
   "metadata": {},
   "source": [
    "# Objetivos"
   ]
  },
  {
   "cell_type": "code",
   "execution_count": 8,
   "metadata": {},
   "outputs": [],
   "source": [
    "import pandas\n",
    "import sys\n",
    "import numpy as np\n",
    "import random as rd\n",
    "import math\n",
    "import matplotlib.pyplot as plt #Imports para dibujar un circulo\n",
    "\n",
    "##########################################################################################################################################\n",
    "############################################### Funciones para leer, crear y mostrar datos ###############################################\n",
    "##########################################################################################################################################\n",
    "\n",
    "\n",
    "#Parámetros: Archivo CSV donde se encuentran los puntos\n",
    "def leer_puntos(archivo_csv):\n",
    "   \n",
    "    puntoscsv = pandas.read_csv(archivo_csv, header=None, names=['x', 'y']).values\n",
    "    puntos = []\n",
    "    for i in range(len(puntoscsv)):\n",
    "        puntos.append(Punto(puntoscsv[i][0],puntoscsv[i][1]))\n",
    "        \n",
    "    return puntos\n",
    "\n",
    "\n",
    "# Parámetros: Array de puntos\n",
    "def dibujar_puntos(puntos):  # learningaboutelectronics.com/Articles/How-to-draw-a-circle-using-matplotlib-in-Python.php\n",
    "    \n",
    "    Xs = []\n",
    "    Ys = []\n",
    "    \n",
    "    for i in range(len(puntos)): \n",
    "        Xs.append(puntos[i].x)\n",
    "        Ys.append(puntos[i].y)\n",
    "        \n",
    "    plt.plot(Xs, Ys, 'ro', color='black')\n",
    "    plt.axis('scaled')\n",
    "    \n",
    "    plt.show()\n",
    "    \n",
    "    \n",
    "# Parámetros: Circunferencia con Puntos\n",
    "def dibujar_clusters(clusters):  # learningaboutelectronics.com/Articles/How-to-draw-a-circle-using-matplotlib-in-Python.php\n",
    "    \n",
    "    # Lista de colores con los que se representará las circunferencias con sus puntos asociados\n",
    "    colores = ['red','blue','green','black','purple','cyan','pink','magenta','orange','brown','yellow']\n",
    "    \n",
    "    for i in range(len(clusters)):\n",
    "       \n",
    "        cluster = clusters[i]\n",
    "        Xs = []\n",
    "        Ys = []\n",
    "        \n",
    "        # Dibujamos los puntos asociados a la circunferencia\n",
    "        for p in cluster.puntos:\n",
    "            Xs.append(p.x)\n",
    "            Ys.append(p.y)\n",
    "        \n",
    "        plt.plot(Xs, Ys, 'ro', color=colores[i])\n",
    "        \n",
    "        #Dibujamos la circunferencia\n",
    "        circulo = plt.Circle((cluster.circunferencia.centro.x, cluster.circunferencia.centro.y), cluster.circunferencia.radio, color=colores[i%11], fill=False)\n",
    "        ax=plt.gca()\n",
    "        ax.add_patch(circulo)\n",
    "        plt.axis('scaled')\n",
    "    \n",
    "    plt.show()\n",
    "\n",
    "\n",
    "# Parámetros: array de las circunferencias con puntos, redondear = 0: no redondear, 1: redondear, mostrar_puntos = 0: no mostrar, 1: mostrar\n",
    "def mostrar_clusters(clusters, redondear, mostrar_puntos):\n",
    "    \n",
    "    for i in range(len(clusters)):\n",
    "        \n",
    "        centrox = clusters[i].circunferencia.centro.x\n",
    "        centroy = clusters[i].circunferencia.centro.y\n",
    "        radio = clusters[i].circunferencia.radio\n",
    "        puntos = clusters[i].puntos\n",
    "        \n",
    "        if(redondear):\n",
    "            centrox = round(centrox, 2)\n",
    "            centroy = round(centroy, 2)\n",
    "            radio = round(radio, 2)\n",
    "        \n",
    "        print(\"Circunferencia Nº %d \\n\" % (i+1))\n",
    "        print(\"Centro: (%f, %f), Radio: %f\" % (centrox, centroy, radio))\n",
    "        if(mostrar_puntos):\n",
    "            print(\"Puntos: %s \\n\\n\" % puntos)\n",
    "        else:\n",
    "            print(\"\\n\")"
   ]
  },
  {
   "cell_type": "markdown",
   "metadata": {},
   "source": [
    "# 1) Estructura de datos:"
   ]
  },
  {
   "cell_type": "code",
   "execution_count": 9,
   "metadata": {},
   "outputs": [],
   "source": [
    "# Parámetros: x,y del punto\n",
    "class Punto(): \n",
    "    def __init__(self, x, y):\n",
    "        self.x = x\n",
    "        self.y = y\n",
    "        \n",
    "    def print(self):\n",
    "        print('(',self.x, ', ',self.y,')')\n",
    "    def __repr__(self):\n",
    "        return '(%s, %s)' % (self.x,self.y)\n",
    "    def __str__(self):\n",
    "        return '(%s, %s)' % (self.x,self.y)\n",
    "\n",
    "# Parámetros: x,y (centro), radio\n",
    "class Circunferencia(): \n",
    "    def __init__(self, x, y, radio):\n",
    "        self.centro = Punto(x,y)\n",
    "        self.radio = radio\n",
    "        \n",
    "    def print(self):\n",
    "        print('Centro: ',self.centro, ' Radio: ',self.radio)\n",
    "    def __repr__(self):\n",
    "        return 'Centro: %s Radio: %s' % (self.centro,self.radio)\n",
    "    def __str__(self):\n",
    "        return 'Centro: %s Radio: %s' % (self.centro,self.radio)\n",
    "    \n",
    "# Parámetros: circunferencia\n",
    "class Cluster(): \n",
    "    def __init__(self,circunferencia):\n",
    "        self.circunferencia = circunferencia\n",
    "        self.puntos = []\n",
    "        \n",
    "    def anyadir_punto(self,punto):\n",
    "        self.puntos.append(punto)\n",
    "        \n",
    "        \n",
    "    def print(self):\n",
    "        print('Circunferencia: ',self.circunferencia, ' Puntos: ',self.puntos)\n",
    "    def __repr__(self):\n",
    "        return 'Circunferencia: %s Puntos: %s' % (self.circunferencia,self.puntos)\n",
    "    def __str__(self):\n",
    "        return 'Circunferencia: %s Puntos: %s' % (self.circunferencia,self.puntos)"
   ]
  },
  {
   "cell_type": "code",
   "execution_count": 10,
   "metadata": {},
   "outputs": [
    {
     "data": {
      "text/plain": [
       "(5, 6)"
      ]
     },
     "execution_count": 10,
     "metadata": {},
     "output_type": "execute_result"
    }
   ],
   "source": [
    "p = Punto(5,6)\n",
    "p"
   ]
  },
  {
   "cell_type": "code",
   "execution_count": 11,
   "metadata": {},
   "outputs": [
    {
     "data": {
      "text/plain": [
       "Centro: (0, 0) Radio: 5"
      ]
     },
     "execution_count": 11,
     "metadata": {},
     "output_type": "execute_result"
    }
   ],
   "source": [
    "circ = Circunferencia(0,0,5)\n",
    "circ"
   ]
  },
  {
   "cell_type": "code",
   "execution_count": 12,
   "metadata": {},
   "outputs": [
    {
     "data": {
      "text/plain": [
       "Circunferencia: Centro: (0, 0) Radio: 5 Puntos: [(5, 6)]"
      ]
     },
     "execution_count": 12,
     "metadata": {},
     "output_type": "execute_result"
    }
   ],
   "source": [
    "ccp = Cluster(circ)\n",
    "ccp.anyadir_punto(p)\n",
    "ccp"
   ]
  },
  {
   "cell_type": "markdown",
   "metadata": {},
   "source": [
    "# 2) Estimación Trayectoria Circular:"
   ]
  },
  {
   "cell_type": "code",
   "execution_count": 13,
   "metadata": {},
   "outputs": [],
   "source": [
    "####################################################################################################################\n",
    "############################################### Antiguo ############################################################\n",
    "####################################################################################################################\n",
    "\n",
    "#Imports para calcular círculo a partir de tres puntos\n",
    "from sympy import Eq\n",
    "from sympy.geometry import Point, Circle\n",
    "\n",
    "def get_circunferencia_antiguo(puntos): # REF: https://www.geeksforgeeks.org/equation-of-circle-when-three-points-on-the-circle-are-given/\n",
    "    \n",
    "    p1 = puntos[0]\n",
    "    p2 = puntos[1]\n",
    "    p3 = puntos[2]\n",
    "    \n",
    "    circle = Circle(Point(p1.x,p1.y), Point(p2.x,p2.y), Point(p3.x,p3.y))\n",
    "    \n",
    "    res = Circunferencia(float(circle.center.x),float(circle.center.y),float(circle.radius))\n",
    "    \n",
    "    return res\n",
    "\n",
    "\n",
    "def obtener_3_puntos_antiguo(puntos):\n",
    "    aux_x_max = 0\n",
    "    aux_x_min = 0\n",
    "    aux_y_max = 0\n",
    "\n",
    "    for i in range(len(puntos)):\n",
    "\n",
    "        if(puntos[i].x > aux_x_max or i==0):\n",
    "            px_max = puntos[i]\n",
    "            aux_x_max = puntos[i].x\n",
    "\n",
    "        if(puntos[i].x < aux_x_min or i == 0):\n",
    "            px_min = puntos[i]\n",
    "            aux_x_min = puntos[i].x   \n",
    "\n",
    "        if(puntos[i].y > aux_y_max or i == 0):\n",
    "            py_max = puntos[i]\n",
    "            aux_y_max = puntos[i].y        \n",
    "    \n",
    "    return px_max,px_min,py_max \n",
    "\n",
    "\n",
    "\n",
    "####################################################################################################################\n",
    "############################################### Nuevo ##############################################################\n",
    "####################################################################################################################\n",
    "\n",
    "# Genera una circunferencia a partir de los 3 puntos pasados\n",
    "# Parámetros: Array de 3 puntos\n",
    "# REF: codewars.com/kata/give-the-center-and-the-radius-of-circumscribed-circle-a-warm-up-challenge/python\n",
    "def obtener_circunferencia(puntos): \n",
    "    \n",
    "    x1 = puntos[0].x\n",
    "    x2 = puntos[1].x\n",
    "    x3 = puntos[2].x\n",
    "    y1 = puntos[0].y\n",
    "    y2 = puntos[1].y\n",
    "    y3 = puntos[2].y\n",
    "    \n",
    "    D = 2*(x1*(y2-y3) + x2*(y3-y1) + x3*(y1-y2))\n",
    "    \n",
    "    # Comprobamos si los 3 puntos forman una recta, y si es así, quitamos los puntos iguales calculando un punto que los sustituya\n",
    "    if(D==0):\n",
    "        if(float(x1)==float(x2) and float(y1)==float(y2) and float(x1)==float(x3) and float(y1)==float(y3)):\n",
    "            x2 = x1 + rd.random()\n",
    "            y2 = y1 + rd.random()\n",
    "            x3 = x2 - rd.random()\n",
    "            y3 = y2 - rd.random()\n",
    "            puntosNuevos = [puntos[0], Punto(x2,y2), Punto(x3,y3)]\n",
    "        elif(float(x1)==float(x2) and float(y1)==float(y2)):\n",
    "            distancia = np.sqrt(pow(x1-x3,2)+pow(y1-y3,2))\n",
    "            x2 = x1 + distancia\n",
    "            y2 = y1 + distancia\n",
    "            puntosNuevos = [puntos[0], puntos[2], Punto(x2,y2)]\n",
    "        elif(float(x1)==float(x3) and float(y1)==float(y3)):\n",
    "            distancia = np.sqrt(pow(x1-x2,2)+pow(y1-y2,2))\n",
    "            x3 = x1 + distancia\n",
    "            y3 = y1 + distancia\n",
    "            puntosNuevos = [puntos[0], puntos[1], Punto(x3,y3)]\n",
    "        else:\n",
    "            distancia = np.sqrt(pow(x2-x3,2)+pow(y2-y3,2))\n",
    "            x1 = x2 + distancia \n",
    "            y1 = y2 + distancia\n",
    "            puntosNuevos = [puntos[1], puntos[2], Punto(x1,y1)]\n",
    "            \n",
    "        \n",
    "        return obtener_circunferencia(puntosNuevos)\n",
    "    \n",
    "    #Para hallar el centro (Ux, Uy), se calculan las mediatrices de los segmentos formados por los puntos y se escoge el valor donde corta  \n",
    "    Ux = ((pow(x1,2) + pow(y1,2)) * (y2-y3) + (pow(x2,2) + pow(y2,2)) * (y3-y1) + (pow(x3,2) + pow(y3,2)) * (y1-y2))/D\n",
    "    Uy = ((pow(x1,2) + pow(y1,2)) * (x3-x2) + (pow(x2,2) + pow(y2,2)) * (x1-x3) + (pow(x3,2) + pow(y3,2)) * (x2-x1))/D\n",
    "    \n",
    "    #Para hallar el diametro, calculamos las distancias Euclídeas entre puntos y el producto de ellas se divide entre D anteriormente definido\n",
    "    AB = np.sqrt(float(pow(x2-x1,2) + pow(y2-y1,2)))\n",
    "    BC = np.sqrt(float(pow(x3-x2,2) + pow(y3-y2,2)))\n",
    "    AC = np.sqrt(float(pow(x3-x1,2) + pow(y3-y1,2)))\n",
    "    diametro = (2*AB*BC*AC)/abs(D)\n",
    "    \n",
    "    circunferencia = Circunferencia(float(Ux),float(Uy),float(diametro/2))\n",
    "    \n",
    "    return circunferencia\n",
    "\n",
    "\n",
    "def dibujar_circunferencia(circunferencia, puntos):\n",
    "    \n",
    "    Xs = []\n",
    "    Ys = []\n",
    "    \n",
    "    for p in puntos:\n",
    "        Xs.append(p.x)\n",
    "        Ys.append(p.y)\n",
    "    \n",
    "    plt.plot(Xs, Ys, 'ro', color='black')\n",
    "    \n",
    "    circulo = plt.Circle((circunferencia.centro.x, circunferencia.centro.y), circunferencia.radio, color='black', fill=False)\n",
    "    ax=plt.gca()\n",
    "    ax.add_patch(circulo)\n",
    "    plt.axis('scaled')\n",
    "\n",
    "    plt.show()"
   ]
  },
  {
   "cell_type": "markdown",
   "metadata": {},
   "source": [
    "#### Al coger los puntos al azar, si estos no forman una circunferencia perfecta a veces no será del todo preciso, pero se hace así para que no coga casi siempre los mismos puntos, o si hay puntos muy alejados que puedan ser considerados ruido no se cogan siempre. Se podrá comprobar más adelante que con el nº suficiente de iteraciones esto no supondrá ningún problema"
   ]
  },
  {
   "cell_type": "markdown",
   "metadata": {},
   "source": [
    "El primer ejemplo es un circulo perfecto centrado en el origen y de radio 5."
   ]
  },
  {
   "cell_type": "code",
   "execution_count": 14,
   "metadata": {},
   "outputs": [
    {
     "data": {
      "image/png": "[encoded data removed]",
      "text/plain": [
       "<Figure size 432x288 with 1 Axes>"
      ]
     },
     "metadata": {
      "needs_background": "light"
     },
     "output_type": "display_data"
    },
    {
     "data": {
      "text/plain": [
       "[(5, 0),\n",
       " (4, 3),\n",
       " (3, 4),\n",
       " (0, 5),\n",
       " (-3, 4),\n",
       " (-4, 3),\n",
       " (-5, 0),\n",
       " (-4, -3),\n",
       " (-3, -4),\n",
       " (0, -5),\n",
       " (3, -4),\n",
       " (4, -3)]"
      ]
     },
     "execution_count": 14,
     "metadata": {},
     "output_type": "execute_result"
    }
   ],
   "source": [
    "puntos = leer_puntos('Data/puntos_1.csv')\n",
    "\n",
    "dibujar_puntos(puntos)\n",
    "puntos"
   ]
  },
  {
   "cell_type": "code",
   "execution_count": 15,
   "metadata": {},
   "outputs": [
    {
     "data": {
      "image/png": "[encoded data removed]",
      "text/plain": [
       "<Figure size 432x288 with 1 Axes>"
      ]
     },
     "metadata": {
      "needs_background": "light"
     },
     "output_type": "display_data"
    },
    {
     "data": {
      "text/plain": [
       "[(3, 4), (4, -3), (-3, 4)]"
      ]
     },
     "execution_count": 15,
     "metadata": {},
     "output_type": "execute_result"
    }
   ],
   "source": [
    "#Obtenemos 3 puntos aleatorios\n",
    "puntos_aleatorios = rd.sample(puntos,3)\n",
    "dibujar_puntos(puntos_aleatorios)\n",
    "puntos_aleatorios"
   ]
  },
  {
   "cell_type": "code",
   "execution_count": 16,
   "metadata": {},
   "outputs": [
    {
     "data": {
      "image/png": "[encoded data removed]",
      "text/plain": [
       "<Figure size 432x288 with 1 Axes>"
      ]
     },
     "metadata": {
      "needs_background": "light"
     },
     "output_type": "display_data"
    },
    {
     "data": {
      "text/plain": [
       "Centro: (-0.0, -0.0) Radio: 5.0"
      ]
     },
     "execution_count": 16,
     "metadata": {},
     "output_type": "execute_result"
    }
   ],
   "source": [
    "circ = obtener_circunferencia(puntos_aleatorios)\n",
    "dibujar_circunferencia(circ, puntos)\n",
    "circ"
   ]
  },
  {
   "cell_type": "markdown",
   "metadata": {},
   "source": [
    "Lo probamos con una lista de puntos no perfecta y de baricentro \"1,0\" y radio \"4\""
   ]
  },
  {
   "cell_type": "code",
   "execution_count": 17,
   "metadata": {},
   "outputs": [
    {
     "data": {
      "image/png": "[encoded data removed]",
      "text/plain": [
       "<Figure size 432x288 with 1 Axes>"
      ]
     },
     "metadata": {
      "needs_background": "light"
     },
     "output_type": "display_data"
    },
    {
     "data": {
      "text/plain": [
       "[(5.0, 0.0),\n",
       " (4.5, 2.0),\n",
       " (3.0, 3.5),\n",
       " (1.0, 4.0),\n",
       " (0.0, 3.75),\n",
       " (-2.0, 2.5),\n",
       " (-3.0, 0.0),\n",
       " (-2.0, -2.5),\n",
       " (0.0, -3.75),\n",
       " (1.0, -4.0),\n",
       " (3.0, -3.5),\n",
       " (4.0, -2.5)]"
      ]
     },
     "execution_count": 17,
     "metadata": {},
     "output_type": "execute_result"
    }
   ],
   "source": [
    "puntos = leer_puntos('Data/puntos_2.csv')\n",
    "\n",
    "dibujar_puntos(puntos)\n",
    "puntos"
   ]
  },
  {
   "cell_type": "code",
   "execution_count": 18,
   "metadata": {},
   "outputs": [
    {
     "data": {
      "image/png": "[encoded data removed]",
      "text/plain": [
       "<Figure size 432x288 with 1 Axes>"
      ]
     },
     "metadata": {
      "needs_background": "light"
     },
     "output_type": "display_data"
    },
    {
     "data": {
      "text/plain": [
       "[(-2.0, 2.5), (-3.0, 0.0), (0.0, 3.75)]"
      ]
     },
     "execution_count": 18,
     "metadata": {},
     "output_type": "execute_result"
    }
   ],
   "source": [
    "#Obtenemos 3 puntos aleatorios\n",
    "pts = rd.sample(puntos,3)\n",
    "dibujar_puntos(pts)\n",
    "pts"
   ]
  },
  {
   "cell_type": "code",
   "execution_count": 19,
   "metadata": {},
   "outputs": [
    {
     "data": {
      "image/png": "[encoded data removed]",
      "text/plain": [
       "<Figure size 432x288 with 1 Axes>"
      ]
     },
     "metadata": {
      "needs_background": "light"
     },
     "output_type": "display_data"
    },
    {
     "data": {
      "text/plain": [
       "Centro: (1.0625, -0.175) Radio: 4.066267483823463"
      ]
     },
     "execution_count": 19,
     "metadata": {},
     "output_type": "execute_result"
    }
   ],
   "source": [
    "circ = obtener_circunferencia(pts)\n",
    "dibujar_circunferencia(circ, puntos)\n",
    "circ"
   ]
  },
  {
   "cell_type": "code",
   "execution_count": 20,
   "metadata": {},
   "outputs": [
    {
     "data": {
      "image/png": "[encoded data removed]",
      "text/plain": [
       "<Figure size 432x288 with 1 Axes>"
      ]
     },
     "metadata": {
      "needs_background": "light"
     },
     "output_type": "display_data"
    },
    {
     "data": {
      "text/plain": [
       "[(5.0, 0.0),\n",
       " (4.5, 2.0),\n",
       " (3.0, 3.5),\n",
       " (1.0, 4.0),\n",
       " (0.0, 3.75),\n",
       " (-2.0, 2.5),\n",
       " (-3.0, 0.0),\n",
       " (-2.0, -2.5),\n",
       " (0.0, -3.75),\n",
       " (1.0, -4.0),\n",
       " (3.0, -3.5),\n",
       " (4.0, -2.5)]"
      ]
     },
     "execution_count": 20,
     "metadata": {},
     "output_type": "execute_result"
    }
   ],
   "source": [
    "puntos = leer_puntos('Data/puntos_2.csv')\n",
    "\n",
    "dibujar_puntos(puntos)\n",
    "puntos"
   ]
  },
  {
   "cell_type": "code",
   "execution_count": 21,
   "metadata": {},
   "outputs": [
    {
     "data": {
      "image/png": "[encoded data removed]",
      "text/plain": [
       "<Figure size 432x288 with 1 Axes>"
      ]
     },
     "metadata": {
      "needs_background": "light"
     },
     "output_type": "display_data"
    },
    {
     "data": {
      "text/plain": [
       "[(-2.0, -2.5), (5.0, 0.0), (3.0, 3.5)]"
      ]
     },
     "execution_count": 21,
     "metadata": {},
     "output_type": "execute_result"
    }
   ],
   "source": [
    "#Obtenemos 3 puntos aleatorios\n",
    "pts = rd.sample(puntos,3)\n",
    "dibujar_puntos(pts)\n",
    "pts"
   ]
  },
  {
   "cell_type": "code",
   "execution_count": 22,
   "metadata": {},
   "outputs": [
    {
     "data": {
      "image/png": "[encoded data removed]",
      "text/plain": [
       "<Figure size 432x288 with 1 Axes>"
      ]
     },
     "metadata": {
      "needs_background": "light"
     },
     "output_type": "display_data"
    },
    {
     "data": {
      "text/plain": [
       "Centro: (1.0338983050847457, 0.05508474576271186) Radio: 3.9664842094259485"
      ]
     },
     "execution_count": 22,
     "metadata": {},
     "output_type": "execute_result"
    }
   ],
   "source": [
    "circ = obtener_circunferencia(pts)\n",
    "dibujar_circunferencia(circ, puntos)\n",
    "circ"
   ]
  },
  {
   "cell_type": "markdown",
   "metadata": {},
   "source": [
    "# 3) Grados de pertenencia"
   ]
  },
  {
   "cell_type": "code",
   "execution_count": 23,
   "metadata": {},
   "outputs": [],
   "source": [
    "# Devuelve un array con los grados de pertenencia de un punto a todas las circunferencias\n",
    "# Parámetros: punto al que queremos calcular los grados de pertenencia, array de todas las circunferencias\n",
    "def grados_pertenencia(p,circunferencias):\n",
    "    \n",
    "    #Calculamos la distancia del punto a cada circunferencia\n",
    "    distancias = []\n",
    "    \n",
    "    for i in range(len(circunferencias)):\n",
    "        d = np.sqrt(pow(p.x - circunferencias[i].centro.x,2) + pow(p.y - circunferencias[i].centro.y,2))\n",
    "        distancias.append(abs(d - circunferencias[i].radio))\n",
    "    \n",
    "    #Calculamos el grado de pertencia a cada circunferencia con la siguiente fórmula: 100/distancia^2\n",
    "    pertenencias = []\n",
    "    \n",
    "    for i in range(len(circunferencias)):\n",
    "        if(distancias[i]==0.0):\n",
    "            per = 100.0\n",
    "        else:\n",
    "            per = 100/(pow(distancias[i],2))\n",
    "        pertenencias.append(per)\n",
    "        \n",
    "    #Normalizamos\n",
    "    suma = sum(pertenencias)\n",
    "    pertenencias = np.divide(pertenencias,suma)\n",
    "    \n",
    "    return pertenencias"
   ]
  },
  {
   "cell_type": "code",
   "execution_count": 24,
   "metadata": {},
   "outputs": [],
   "source": [
    "c1 = Circunferencia(0,0,5)\n",
    "c2 = Circunferencia(1,0,4)\n",
    "c3 = Circunferencia(10,10,3)\n",
    "\n",
    "circunferencias = [c1,c2,c3]"
   ]
  },
  {
   "cell_type": "code",
   "execution_count": 25,
   "metadata": {},
   "outputs": [
    {
     "name": "stdout",
     "output_type": "stream",
     "text": [
      "[0.47764808 0.47764808 0.04470383]\n",
      "1.0\n"
     ]
    }
   ],
   "source": [
    "p = Punto(2,0)\n",
    "print(grados_pertenencia(p,circunferencias))\n",
    "print(sum(grados_pertenencia(p,circunferencias)))"
   ]
  },
  {
   "cell_type": "code",
   "execution_count": 26,
   "metadata": {},
   "outputs": [
    {
     "name": "stdout",
     "output_type": "stream",
     "text": [
      "[0.01590335 0.01498611 0.96911054]\n",
      "1.0\n"
     ]
    }
   ],
   "source": [
    "p = Punto(10,8)\n",
    "print(grados_pertenencia(p,circunferencias))\n",
    "print(sum(grados_pertenencia(p,circunferencias)))"
   ]
  },
  {
   "cell_type": "code",
   "execution_count": 27,
   "metadata": {},
   "outputs": [
    {
     "name": "stdout",
     "output_type": "stream",
     "text": [
      "[0.63415565 0.3235488  0.04229555]\n",
      "1.0000000000000002\n"
     ]
    }
   ],
   "source": [
    "p = Punto(-10,0)\n",
    "print(grados_pertenencia(p,circunferencias))\n",
    "print(sum(grados_pertenencia(p,circunferencias)))"
   ]
  },
  {
   "cell_type": "code",
   "execution_count": 28,
   "metadata": {},
   "outputs": [
    {
     "name": "stdout",
     "output_type": "stream",
     "text": [
      "[0.91441817 0.08558183]\n",
      "1.0\n"
     ]
    }
   ],
   "source": [
    "circunferencias = [c1,c3]\n",
    "p = Punto(2,0)\n",
    "print(grados_pertenencia(p,circunferencias))\n",
    "print(sum(grados_pertenencia(p,circunferencias)))"
   ]
  },
  {
   "cell_type": "markdown",
   "metadata": {},
   "source": [
    "# 4) Modificacion Objetivo 2"
   ]
  },
  {
   "cell_type": "code",
   "execution_count": 29,
   "metadata": {},
   "outputs": [],
   "source": [
    "####################################################################################################################\n",
    "############################################### Antiguo ############################################################\n",
    "####################################################################################################################\n",
    "\n",
    "def obtener_3_puntos_antiguo(puntos):\n",
    "    aux_x_max = 0\n",
    "    aux_x_min = 0\n",
    "    aux_y_max = 0\n",
    "\n",
    "    for i in range(len(puntos)):\n",
    "\n",
    "        if(puntos[i].x > aux_x_max or i==0):\n",
    "            px_max = puntos[i]\n",
    "            aux_x_max = puntos[i].x\n",
    "\n",
    "        if(puntos[i].x < aux_x_min or i == 0):\n",
    "            px_min = puntos[i]\n",
    "            aux_x_min = puntos[i].x   \n",
    "\n",
    "        if(puntos[i].y > aux_y_max or i == 0):\n",
    "            py_max = puntos[i]\n",
    "            aux_y_max = puntos[i].y        \n",
    "    \n",
    "    return px_max,px_min,py_max \n",
    "\n",
    "\n",
    "def circunferencias_iniciales_antiguo(puntos,n_circs):\n",
    "    \n",
    "    px_max, px_min, py_max = obtener_3_puntos_antiguo(puntos)\n",
    "    x_max = px_max.x\n",
    "    x_min = px_min.x\n",
    "    y_max = py_max.y\n",
    "    rang = abs(x_max-x_min)/n_circs\n",
    "    \n",
    "    circs = []\n",
    "    \n",
    "    for i in range(n_circs):\n",
    "        circ = Circunferencia(x_min + i*rang ,y_max/2, 5)\n",
    "        circs.append(circ)\n",
    "    \n",
    "    return circs\n",
    "    \n",
    "\n",
    "####################################################################################################################\n",
    "############################################### Nuevo ##############################################################\n",
    "####################################################################################################################\n",
    "\n",
    "\n",
    "# Genera una circunferencia a partir de los 3 puntos pasados\n",
    "# Parámetros: Array de 3 puntos\n",
    "# REF: codewars.com/kata/give-the-center-and-the-radius-of-circumscribed-circle-a-warm-up-challenge/python\n",
    "def obtener_circunferencia(puntos): \n",
    "    \n",
    "    x1 = puntos[0].x\n",
    "    x2 = puntos[1].x\n",
    "    x3 = puntos[2].x\n",
    "    y1 = puntos[0].y\n",
    "    y2 = puntos[1].y\n",
    "    y3 = puntos[2].y\n",
    "    \n",
    "    D = 2*(x1*(y2-y3) + x2*(y3-y1) + x3*(y1-y2))\n",
    "    \n",
    "    # Comprobamos si los 3 puntos forman una recta, y si es así, quitamos los puntos iguales calculando un punto que los sustituya\n",
    "    if(D==0):\n",
    "        if(float(x1)==float(x2) and float(y1)==float(y2) and float(x1)==float(x3) and float(y1)==float(y3)):\n",
    "            x2 = x1 + rd.random()\n",
    "            y2 = y1 + rd.random()\n",
    "            x3 = x2 - rd.random()\n",
    "            y3 = y2 - rd.random()\n",
    "            puntosNuevos = [puntos[0], Punto(x2,y2), Punto(x3,y3)]\n",
    "        elif(float(x1)==float(x2) and float(y1)==float(y2)):\n",
    "            distancia = np.sqrt(pow(x1-x3,2)+pow(y1-y3,2))\n",
    "            x2 = x1 + distancia\n",
    "            y2 = y1 + distancia\n",
    "            puntosNuevos = [puntos[0], puntos[2], Punto(x2,y2)]\n",
    "        elif(float(x1)==float(x3) and float(y1)==float(y3)):\n",
    "            distancia = np.sqrt(pow(x1-x2,2)+pow(y1-y2,2))\n",
    "            x3 = x1 + distancia\n",
    "            y3 = y1 + distancia\n",
    "            puntosNuevos = [puntos[0], puntos[1], Punto(x3,y3)]\n",
    "        else:\n",
    "            distancia = np.sqrt(pow(x2-x3,2)+pow(y2-y3,2))\n",
    "            x1 = x2 + distancia \n",
    "            y1 = y2 + distancia\n",
    "            puntosNuevos = [puntos[1], puntos[2], Punto(x1,y1)]\n",
    "            \n",
    "        \n",
    "        return obtener_circunferencia(puntosNuevos)\n",
    "    \n",
    "    #Para hallar el centro (Ux, Uy), se calculan las mediatrices de los segmentos formados por los puntos y se escoge el valor donde corta  \n",
    "    Ux = ((pow(x1,2) + pow(y1,2)) * (y2-y3) + (pow(x2,2) + pow(y2,2)) * (y3-y1) + (pow(x3,2) + pow(y3,2)) * (y1-y2))/D\n",
    "    Uy = ((pow(x1,2) + pow(y1,2)) * (x3-x2) + (pow(x2,2) + pow(y2,2)) * (x1-x3) + (pow(x3,2) + pow(y3,2)) * (x2-x1))/D\n",
    "    \n",
    "    #Para hallar el diametro, calculamos las distancias Euclídeas entre puntos y el producto de ellas se divide entre D anteriormente definido\n",
    "    AB = np.sqrt(float(pow(x2-x1,2) + pow(y2-y1,2)))\n",
    "    BC = np.sqrt(float(pow(x3-x2,2) + pow(y3-y2,2)))\n",
    "    AC = np.sqrt(float(pow(x3-x1,2) + pow(y3-y1,2)))\n",
    "    diametro = (2*AB*BC*AC)/abs(D)\n",
    "    \n",
    "    circunferencia = Circunferencia(float(Ux),float(Uy),float(diametro/2))\n",
    "    \n",
    "    return circunferencia\n",
    "\n",
    "\n",
    "# Crea n clusters iniciales al azar a partir de 3 puntos de la lista de todos los puntos.\n",
    "# Parámetros: Array de todos los puntos, número de circunferencias totales, minimo grado de pertenencia clustering\n",
    "def obtener_clusters_iniciales(puntos,n_circunferencias, min_grado_pertenencia_eliminar_punto_clustering): \n",
    "    \n",
    "    # Primero se obtienen las circunferencias al azar\n",
    "    circunferencias = []\n",
    "    \n",
    "    for i in range(n_circunferencias):\n",
    "        \n",
    "        puntos_aleatorios = rd.sample(puntos,3)\n",
    "        circunferencia = obtener_circunferencia(puntos_aleatorios)\n",
    "        circunferencias.append(circunferencia)\n",
    "    \n",
    "    # Se obtienen los clusters a partir de dichas circunferencias\n",
    "    clusters_iniciales = obtener_clusters(circunferencias, puntos, min_grado_pertenencia_eliminar_punto_clustering)\n",
    "    \n",
    "    return clusters_iniciales\n",
    "\n",
    "\n",
    "\n",
    "# Le asocia a cada circunferencia los puntos que tengan mayor grado de pertenencia con ella\n",
    "# Parámetros: array de las circunferencias y todos los puntos\n",
    "def obtener_clusters(circunferencias, puntos, min_grado_pertenencia_eliminar_punto_clustering):\n",
    "    \n",
    "    # Creamos clusters con las circunferencias pasadas\n",
    "    clusters = []\n",
    "    for circunferencia in circunferencias:\n",
    "        clusters.append(Cluster(circunferencia))\n",
    "    \n",
    "    # Calculamos los grados de pertenencia de todos los puntos con todos los clusters\n",
    "    for p in puntos:\n",
    "        \n",
    "        gradosPert = grados_pertenencia(p,circunferencias)\n",
    "        \n",
    "        # Si el máximo grado de pertenencia de un punto es menor que min_grado_pertenencia_clustering no se asigna a ningún cluster\n",
    "        if(max(gradosPert) > min_grado_pertenencia_eliminar_punto_clustering):\n",
    "            \n",
    "            # Se le asigna al cluster con mayor grado de pertenencia\n",
    "            indice = np.where(gradosPert == max(gradosPert))\n",
    "            clusters[indice[0][0]].anyadir_punto(p)\n",
    "\n",
    "    return clusters\n",
    "\n",
    "\n",
    "# Se calculan los siguientes clusters a partir de los puntos asociados a cada uno de ellos.\n",
    "def obtener_siguientes_clusters(puntos, clusters_prev, min_grado_pertenencia_eliminar_punto_clustering):\n",
    "    \n",
    "    nuevas_circunferencias = []\n",
    "    \n",
    "    for cluster_prev in clusters_prev:\n",
    "        \n",
    "        puntos_cluster = cluster_prev.puntos\n",
    "        \n",
    "        # Si una de las circunferencias tiene menos de 3 puntos(los necesarios para calcular la nueva circunferencia), no se realiza la clusterización.\n",
    "        if(len(puntos_cluster) < 3):\n",
    "            return None\n",
    "        \n",
    "        # Se obtiene la nueva circunferencia a partir de 3 puntos asociados a ella\n",
    "        puntos_aleatorios = rd.sample(puntos_cluster,3)\n",
    "        nuevas_circunferencias.append(obtener_circunferencia(puntos_aleatorios))\n",
    "        \n",
    "    # Se devuelve la nueva circunferencia con los nuevos puntos asociados a ella (Pueden ser los mismos que antes o no)\n",
    "    clusters_post = obtener_clusters(nuevas_circunferencias, puntos, min_grado_pertenencia_eliminar_punto_clustering)\n",
    "    \n",
    "    return clusters_post\n"
   ]
  },
  {
   "cell_type": "markdown",
   "metadata": {},
   "source": [
    "### Si se ejecuta suficientes veces, los clusters iniciales serán lo suficientemente buenos para que necesite pocas iteraciones de obtener_siguientes_clusters().\n",
    "### Por tanto, hay que ejecutar varias veces obtener_circunferencias_iniciales() para obtener resultados"
   ]
  },
  {
   "cell_type": "code",
   "execution_count": 30,
   "metadata": {},
   "outputs": [
    {
     "data": {
      "image/png": "[encoded data removed]",
      "text/plain": [
       "<Figure size 432x288 with 1 Axes>"
      ]
     },
     "metadata": {
      "needs_background": "light"
     },
     "output_type": "display_data"
    }
   ],
   "source": [
    "puntos = leer_puntos('Data/puntos_adjuntos_1.csv')\n",
    "\n",
    "dibujar_puntos(puntos)"
   ]
  },
  {
   "cell_type": "code",
   "execution_count": 33,
   "metadata": {},
   "outputs": [
    {
     "data": {
      "image/png": "[encoded data removed]",
      "text/plain": [
       "<Figure size 432x288 with 1 Axes>"
      ]
     },
     "metadata": {
      "needs_background": "light"
     },
     "output_type": "display_data"
    }
   ],
   "source": [
    "min_grado_pertenencia_eliminar_punto_clustering = 0.8\n",
    "clusters_iniciales = obtener_clusters_iniciales(puntos,2, min_grado_pertenencia_eliminar_punto_clustering)\n",
    "dibujar_clusters(clusters_iniciales)"
   ]
  },
  {
   "cell_type": "code",
   "execution_count": 35,
   "metadata": {},
   "outputs": [
    {
     "data": {
      "image/png": "[encoded data removed]",
      "text/plain": [
       "<Figure size 432x288 with 1 Axes>"
      ]
     },
     "metadata": {
      "needs_background": "light"
     },
     "output_type": "display_data"
    }
   ],
   "source": [
    "prox_clusters = obtener_siguientes_clusters(puntos, clusters_iniciales, min_grado_pertenencia_eliminar_punto_clustering)\n",
    "dibujar_clusters(prox_clusters)"
   ]
  },
  {
   "cell_type": "code",
   "execution_count": 36,
   "metadata": {},
   "outputs": [
    {
     "data": {
      "image/png": "[encoded data removed]",
      "text/plain": [
       "<Figure size 432x288 with 1 Axes>"
      ]
     },
     "metadata": {
      "needs_background": "light"
     },
     "output_type": "display_data"
    }
   ],
   "source": [
    "puntos = leer_puntos('Data/puntos_adjuntos_2.csv')\n",
    "\n",
    "dibujar_puntos(puntos)"
   ]
  },
  {
   "cell_type": "code",
   "execution_count": 38,
   "metadata": {},
   "outputs": [
    {
     "data": {
      "image/png": "[encoded data removed]",
      "text/plain": [
       "<Figure size 432x288 with 1 Axes>"
      ]
     },
     "metadata": {
      "needs_background": "light"
     },
     "output_type": "display_data"
    }
   ],
   "source": [
    "min_grado_pertenencia_eliminar_punto_clustering = 0.8\n",
    "clusters_iniciales = obtener_clusters_iniciales(puntos,2, min_grado_pertenencia_eliminar_punto_clustering)\n",
    "dibujar_clusters(clusters_iniciales)"
   ]
  },
  {
   "cell_type": "code",
   "execution_count": 49,
   "metadata": {},
   "outputs": [
    {
     "data": {
      "image/png": "[encoded data removed]",
      "text/plain": [
       "<Figure size 432x288 with 1 Axes>"
      ]
     },
     "metadata": {
      "needs_background": "light"
     },
     "output_type": "display_data"
    }
   ],
   "source": [
    "prox_clusters = obtener_siguientes_clusters(puntos, clusters_iniciales, min_grado_pertenencia_eliminar_punto_clustering)\n",
    "dibujar_clusters(prox_clusters)"
   ]
  },
  {
   "cell_type": "markdown",
   "metadata": {},
   "source": [
    "## 5) Herramienta completa\n",
    "#### En el archivo Clustering"
   ]
  }
 ],
 "metadata": {
  "kernelspec": {
   "display_name": "Python 3",
   "language": "python",
   "name": "python3"
  },
  "language_info": {
   "codemirror_mode": {
    "name": "ipython",
    "version": 3
   },
   "file_extension": ".py",
   "mimetype": "text/x-python",
   "name": "python",
   "nbconvert_exporter": "python",
   "pygments_lexer": "ipython3",
   "version": "3.7.4"
  }
 },
 "nbformat": 4,
 "nbformat_minor": 4
}
