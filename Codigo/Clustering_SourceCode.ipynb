{
 "cells": [
  {
   "cell_type": "markdown",
   "metadata": {},
   "source": [
    "# Clustering con Incertidumbre"
   ]
  },
  {
   "cell_type": "code",
   "execution_count": 5,
   "metadata": {},
   "outputs": [],
   "source": [
    "import pandas\n",
    "import numpy as np\n",
    "import statistics as stats\n",
    "\n",
    "#Imports para calcular círculo a partir de tres puntos\n",
    "from sympy import Eq\n",
    "from sympy.geometry import Point, Circle\n",
    "\n",
    "#Imports para dibujar un circulo\n",
    "import matplotlib.pyplot as plt\n",
    "\n",
    "import random as rd"
   ]
  },
  {
   "cell_type": "markdown",
   "metadata": {},
   "source": [
    "# 1) Estructura de datos:"
   ]
  },
  {
   "cell_type": "code",
   "execution_count": 6,
   "metadata": {},
   "outputs": [],
   "source": [
    "class Punto(): \n",
    "    def __init__(self, x, y):\n",
    "        self.x = x\n",
    "        self.y = y\n",
    "        \n",
    "    def print(self):\n",
    "        print('(',self.x, ', ',self.y,')')\n",
    "    def __repr__(self):\n",
    "        return '(%s, %s)' % (self.x,self.y)\n",
    "    def __str__(self):\n",
    "        return '(%s, %s)' % (self.x,self.y)"
   ]
  },
  {
   "cell_type": "code",
   "execution_count": 7,
   "metadata": {},
   "outputs": [],
   "source": [
    "class Cluster(): \n",
    "    def __init__(self, x, y, radio):\n",
    "        self.centro = Punto(x,y)\n",
    "        self.radio = radio\n",
    "        \n",
    "    def print(self):\n",
    "        print('Centro: ',self.centro, ' Radio: ',self.radio)\n",
    "    def __repr__(self):\n",
    "        return 'Centro: %s Radio: %s' % (self.centro,self.radio)\n",
    "    def __str__(self):\n",
    "        return 'Centro: %s Radio: %s' % (self.centro,self.radio)"
   ]
  },
  {
   "cell_type": "markdown",
   "metadata": {},
   "source": [
    "# 2) Estimación:"
   ]
  },
  {
   "cell_type": "code",
   "execution_count": 8,
   "metadata": {},
   "outputs": [],
   "source": [
    "def get_cluster(puntos): # REF: https://www.geeksforgeeks.org/equation-of-circle-when-three-points-on-the-circle-are-given/\n",
    "    \n",
    "    p1 = puntos[0]\n",
    "    p2 = puntos[1]\n",
    "    p3 = puntos[2]\n",
    "    \n",
    "    circle = Circle(Point(p1.x,p1.y), Point(p2.x,p2.y), Point(p3.x,p3.y))\n",
    "    \n",
    "    res = Cluster(float(circle.center.x),float(circle.center.y),float(circle.radius))\n",
    "    \n",
    "    return res"
   ]
  },
  {
   "cell_type": "code",
   "execution_count": 9,
   "metadata": {},
   "outputs": [],
   "source": [
    "def obtener_3_puntos(puntos):\n",
    "    aux_x_max = 0\n",
    "    aux_x_min = 0\n",
    "    aux_y_max = 0\n",
    "\n",
    "    for i in range(len(puntos)):\n",
    "\n",
    "        if(puntos[i].x > aux_x_max or i==0):\n",
    "            px_max = puntos[i]\n",
    "            aux_x_max = puntos[i].x\n",
    "\n",
    "        if(puntos[i].x < aux_x_min or i == 0):\n",
    "            px_min = puntos[i]\n",
    "            aux_x_min = puntos[i].x   \n",
    "\n",
    "        if(puntos[i].y > aux_y_max or i == 0):\n",
    "            py_max = puntos[i]\n",
    "            aux_y_max = puntos[i].y        \n",
    "    \n",
    "    return px_max,px_min,py_max "
   ]
  },
  {
   "cell_type": "code",
   "execution_count": 10,
   "metadata": {},
   "outputs": [],
   "source": [
    "def obtener_3_puntos_aleatorio(puntos):\n",
    "    \n",
    "    randomVals = rd.sample(puntos,3)\n",
    "        \n",
    "    return randomVals[0],randomVals[1],randomVals[2]"
   ]
  },
  {
   "cell_type": "markdown",
   "metadata": {},
   "source": [
    "El primer ejemplo es un circulo perfecto centrado en el origen y de radio 5."
   ]
  },
  {
   "cell_type": "code",
   "execution_count": 11,
   "metadata": {},
   "outputs": [
    {
     "data": {
      "text/plain": [
       "[(5, 0),\n",
       " (4, 3),\n",
       " (3, 4),\n",
       " (0, 5),\n",
       " (-3, 4),\n",
       " (-4, 3),\n",
       " (-5, 0),\n",
       " (-4, -3),\n",
       " (-3, -4),\n",
       " (0, -5),\n",
       " (3, -4),\n",
       " (4, -3)]"
      ]
     },
     "execution_count": 11,
     "metadata": {},
     "output_type": "execute_result"
    }
   ],
   "source": [
    "puntoscsv = pandas.read_csv('Data/puntos_1.csv', header=None, names=['x', 'y']).values\n",
    "puntos1 = []\n",
    "for i in range(len(puntoscsv)):\n",
    "    puntos1.append(Punto(puntoscsv[i][0],puntoscsv[i][1]))\n",
    "puntos1"
   ]
  },
  {
   "cell_type": "code",
   "execution_count": 12,
   "metadata": {},
   "outputs": [
    {
     "data": {
      "text/plain": [
       "[Centro: (0.0, 0.0) Radio: 5.0]"
      ]
     },
     "execution_count": 12,
     "metadata": {},
     "output_type": "execute_result"
    }
   ],
   "source": [
    "#Obtenemos 3 puntos lo más alejados posibles\n",
    "puntos = obtener_3_puntos_aleatorio(puntos1)\n",
    "\n",
    "cluster = []\n",
    "cluster.append(get_cluster(puntos))\n",
    "cluster"
   ]
  },
  {
   "cell_type": "code",
   "execution_count": 225,
   "metadata": {},
   "outputs": [
    {
     "data": {
      "image/png": "[encoded data removed]",
      "text/plain": [
       "<Figure size 432x288 with 1 Axes>"
      ]
     },
     "metadata": {
      "needs_background": "light"
     },
     "output_type": "display_data"
    }
   ],
   "source": [
    "drawCircleAndPoints(puntos1,cluster,'blue')"
   ]
  },
  {
   "cell_type": "markdown",
   "metadata": {},
   "source": [
    "Lo probamos con una lista de puntos no perfecta y de baricentro \"1,0\" y radio \"4\""
   ]
  },
  {
   "cell_type": "code",
   "execution_count": 93,
   "metadata": {},
   "outputs": [
    {
     "data": {
      "text/plain": [
       "[(5.0, 0.0),\n",
       " (4.5, 2.0),\n",
       " (3.0, 3.5),\n",
       " (1.0, 4.0),\n",
       " (0.0, 3.75),\n",
       " (-2.0, 2.5),\n",
       " (-3.0, 0.0),\n",
       " (-2.0, -2.5),\n",
       " (0.0, -3.75),\n",
       " (1.0, -4.0),\n",
       " (3.0, -3.5),\n",
       " (4.0, -2.5)]"
      ]
     },
     "execution_count": 93,
     "metadata": {},
     "output_type": "execute_result"
    }
   ],
   "source": [
    "puntoscsv = pandas.read_csv('Data/puntos_2.csv', header=None, names=['x', 'y']).values\n",
    "puntos2 = []\n",
    "for i in range(len(puntoscsv)):\n",
    "    puntos2.append(Punto(puntoscsv[i][0],puntoscsv[i][1]))\n",
    "puntos2"
   ]
  },
  {
   "cell_type": "code",
   "execution_count": 94,
   "metadata": {},
   "outputs": [
    {
     "data": {
      "text/plain": [
       "Centro: (1.0, 0.0) Radio: 4.0"
      ]
     },
     "execution_count": 94,
     "metadata": {},
     "output_type": "execute_result"
    }
   ],
   "source": [
    "puntos = obtener_3_puntos(puntos2)\n",
    "\n",
    "cluster = get_cluster(puntos)\n",
    "cluster"
   ]
  },
  {
   "cell_type": "code",
   "execution_count": 95,
   "metadata": {},
   "outputs": [
    {
     "data": {
      "image/png": "[encoded data removed]",
      "text/plain": [
       "<Figure size 432x288 with 1 Axes>"
      ]
     },
     "metadata": {
      "needs_background": "light"
     },
     "output_type": "display_data"
    }
   ],
   "source": [
    "drawCircleAndPoints(puntos2,cluster,'blue')"
   ]
  },
  {
   "cell_type": "code",
   "execution_count": 96,
   "metadata": {},
   "outputs": [
    {
     "data": {
      "text/plain": [
       "[(13.0, 10.0),\n",
       " (12.0, 12.5),\n",
       " (11.0, 13.0),\n",
       " (10.0, 13.0),\n",
       " (9.0, 12.75),\n",
       " (8.0, 12.0),\n",
       " (7.0, 10.0),\n",
       " (8.0, 7.5),\n",
       " (9.0, 7.2)]"
      ]
     },
     "execution_count": 96,
     "metadata": {},
     "output_type": "execute_result"
    }
   ],
   "source": [
    "puntoscsv = pandas.read_csv('Data/puntos_3.csv', header=None, names=['x', 'y']).values\n",
    "puntos3 = []\n",
    "for i in range(len(puntoscsv)):\n",
    "    puntos3.append(Punto(puntoscsv[i][0],puntoscsv[i][1]))\n",
    "puntos3"
   ]
  },
  {
   "cell_type": "code",
   "execution_count": 97,
   "metadata": {},
   "outputs": [
    {
     "data": {
      "text/plain": [
       "Centro: (10.0, 10.166666666666666) Radio: 3.0046260628866577"
      ]
     },
     "execution_count": 97,
     "metadata": {},
     "output_type": "execute_result"
    }
   ],
   "source": [
    "puntos = obtener_3_puntos(puntos3)\n",
    "\n",
    "cluster = get_cluster(puntos)\n",
    "cluster"
   ]
  },
  {
   "cell_type": "code",
   "execution_count": 98,
   "metadata": {},
   "outputs": [
    {
     "data": {
      "image/png": "[encoded data removed]",
      "text/plain": [
       "<Figure size 432x288 with 1 Axes>"
      ]
     },
     "metadata": {
      "needs_background": "light"
     },
     "output_type": "display_data"
    }
   ],
   "source": [
    "drawCircleAndPoints(puntos3,cluster,'blue')"
   ]
  },
  {
   "cell_type": "markdown",
   "metadata": {},
   "source": [
    "# 3) Grados de pertenencia"
   ]
  },
  {
   "cell_type": "code",
   "execution_count": 99,
   "metadata": {},
   "outputs": [],
   "source": [
    "def grados_pertenencia(p,clusters):\n",
    "    \n",
    "    #Calculamos la distancia de el punto a cada cluster\n",
    "    distancias = []\n",
    "    \n",
    "    for i in range(len(clusters)):\n",
    "        d = np.sqrt(pow(p.x - clusters[i].centro.x,2) + pow(p.y - clusters[i].centro.y,2))\n",
    "        distancias.append(abs(d-clusters[i].radio))\n",
    "    \n",
    "    #Calculamos el grado de pertencia a cada cluster\n",
    "    pertenencias = []\n",
    "    \n",
    "    for i in range(len(clusters)):\n",
    "        if(distancias[i]==0.0):\n",
    "            per = 100.0\n",
    "        else:\n",
    "            per = 100/(pow(distancias[i],2))\n",
    "        pertenencias.append(per)\n",
    "        \n",
    "    #Normalizamos\n",
    "    suma = sum(pertenencias)\n",
    "    pertenencias = np.divide(pertenencias,suma)\n",
    "    \n",
    "    return pertenencias"
   ]
  },
  {
   "cell_type": "code",
   "execution_count": 100,
   "metadata": {},
   "outputs": [],
   "source": [
    "#Clusters:\n",
    "cluster1 = Cluster(0,0,5)\n",
    "cluster2 = Cluster(1,0,4)\n",
    "cluster3 = Cluster(10,10,3)\n",
    "\n",
    "clusters = [cluster1,cluster2,cluster3]"
   ]
  },
  {
   "cell_type": "code",
   "execution_count": 101,
   "metadata": {},
   "outputs": [
    {
     "name": "stdout",
     "output_type": "stream",
     "text": [
      "[0.47764808 0.47764808 0.04470383]\n"
     ]
    }
   ],
   "source": [
    "p = Punto(2,0)\n",
    "print(grados_pertenencia(p,clusters))"
   ]
  },
  {
   "cell_type": "code",
   "execution_count": 102,
   "metadata": {},
   "outputs": [
    {
     "name": "stdout",
     "output_type": "stream",
     "text": [
      "[0.01590335 0.01498611 0.96911054]\n",
      "1.0\n"
     ]
    }
   ],
   "source": [
    "p = Punto(10,8)\n",
    "print(grados_pertenencia(p,clusters))\n",
    "print(sum(grados_pertenencia(p,clusters)))"
   ]
  },
  {
   "cell_type": "code",
   "execution_count": 103,
   "metadata": {},
   "outputs": [
    {
     "name": "stdout",
     "output_type": "stream",
     "text": [
      "[0.63415565 0.3235488  0.04229555]\n"
     ]
    }
   ],
   "source": [
    "p = Punto(-10,0)\n",
    "print(grados_pertenencia(p,clusters))"
   ]
  },
  {
   "cell_type": "code",
   "execution_count": 104,
   "metadata": {},
   "outputs": [
    {
     "name": "stdout",
     "output_type": "stream",
     "text": [
      "[0.91441817 0.08558183]\n"
     ]
    }
   ],
   "source": [
    "clusters = [cluster1,cluster3]\n",
    "p = Punto(2,0)\n",
    "print(grados_pertenencia(p,clusters))"
   ]
  },
  {
   "cell_type": "markdown",
   "metadata": {},
   "source": [
    "# 4) Modificacion 2"
   ]
  },
  {
   "cell_type": "code",
   "execution_count": 266,
   "metadata": {},
   "outputs": [],
   "source": [
    "def clusters_iniciales(puntos,n_clusters):\n",
    "    \n",
    "    px_max, px_min, py_max = obtener_3_puntos(puntos)\n",
    "    x_max = px_max.x\n",
    "    x_min = px_min.x\n",
    "    y_max = py_max.y\n",
    "    rang = abs(x_max-x_min)/n_clusters\n",
    "    \n",
    "    clusters = []\n",
    "    \n",
    "    for i in range(n_clusters):\n",
    "        cluster = Cluster(x_min + i*rang ,y_max/2, 5)\n",
    "        clusters.append(cluster)\n",
    "    \n",
    "    return clusters\n",
    "    "
   ]
  },
  {
   "cell_type": "code",
   "execution_count": 273,
   "metadata": {},
   "outputs": [],
   "source": [
    "def clusters_iniciales_aleatorio(puntos,n_clusters):\n",
    "    \n",
    "    px_max, px_min, py_max = obtener_3_puntos_aleatorio(puntos)\n",
    "    clusters = []\n",
    "    \n",
    "    for i in range(n_clusters):\n",
    "        cluster = Cluster(px_max.x,px_min.y, 5)\n",
    "        clusters.append(cluster)\n",
    "    \n",
    "    return clusters\n",
    "    "
   ]
  },
  {
   "cell_type": "code",
   "execution_count": 118,
   "metadata": {},
   "outputs": [],
   "source": [
    "#Le pasamos los 3 puntos con mayor grado de pertenencia a un cluster:\n",
    "def puntos_mayor_grado_por_cluster(puntos,cluster,n_cluster):\n",
    "    per = []\n",
    "    res = []\n",
    "\n",
    "    for i in range(len(puntos)):\n",
    "        per.append(grados_pertenencia(puntos[i],cluster)[n_cluster])\n",
    "    \n",
    "    res.append(puntos[per.index(max(per))])\n",
    "    puntos = np.delete(puntos,per.index(max(per)),0)\n",
    "    per.remove(max(per))\n",
    "    \n",
    "    res.append(puntos[per.index(max(per))])\n",
    "    puntos = np.delete(puntos,per.index(max(per)),0)\n",
    "    per.remove(max(per))\n",
    "    \n",
    "    res.append(puntos[per.index(max(per))])\n",
    "    \n",
    "    return res\n"
   ]
  },
  {
   "cell_type": "code",
   "execution_count": 119,
   "metadata": {},
   "outputs": [],
   "source": [
    "def get_real_clusters(puntos,clusters):\n",
    "    res = []\n",
    "    \n",
    "    for i in range(len(clusters)):\n",
    "        pts_pertenencia = puntos_mayor_grado_por_cluster(puntos,clusters,i)\n",
    "        res.append(get_cluster(pts_pertenencia))\n",
    "        \n",
    "    return res "
   ]
  },
  {
   "cell_type": "code",
   "execution_count": 120,
   "metadata": {},
   "outputs": [
    {
     "name": "stdout",
     "output_type": "stream",
     "text": [
      "Centro: (1, 1) Radio: 4\n",
      "Centro: (7, 7) Radio: 2\n"
     ]
    }
   ],
   "source": [
    "#Clusters iniciales:\n",
    "cluster1 = Cluster(1,1,4)\n",
    "cluster2 = Cluster(7,7,2)\n",
    "\n",
    "clusters = [cluster1,cluster2]\n",
    "\n",
    "#Todos los puntos:\n",
    "puntoscsv = pandas.read_csv('Data/puntos_1_y_3.csv', header=None, names=['x', 'y']).values\n",
    "puntos = []\n",
    "for i in range(len(puntoscsv)):\n",
    "    puntos.append(Punto(puntoscsv[i][0],puntoscsv[i][1]))\n",
    "puntos\n",
    "\n",
    "print(cluster1)\n",
    "print(cluster2)"
   ]
  },
  {
   "cell_type": "code",
   "execution_count": 190,
   "metadata": {},
   "outputs": [],
   "source": [
    "def iterar_get_real_cluster(puntos,prev_clusters,razon, max_iteraciones, imprimir):\n",
    "    #raiz suma cuadrados centro y el radio\n",
    "    #imprimir datos de como está funcionando el método\n",
    "    iterar = 1\n",
    "    iteraciones = 0;\n",
    "    while(iterar and iteraciones <= max_iteraciones):\n",
    "        iteraciones = iteraciones + 1\n",
    "        nuevo_factor = []\n",
    "        next_clusters = get_real_clusters(puntos,prev_clusters)\n",
    "        if(imprimir):\n",
    "            print(next_clusters)\n",
    "        for i in range(len(prev_clusters)):\n",
    "            nuevo_factor.append(np.sqrt((prev_clusters[i].centro.x - next_clusters[i].centro.x)**2 + (prev_clusters[i].centro.y - next_clusters[i].centro.y)**2) + abs(prev_clusters[i].radio - next_clusters[i].radio))\n",
    "            if(imprimir):\n",
    "                print(nuevo_factor)\n",
    "        if(max(nuevo_factor) < razon):    \n",
    "            iterar = 0\n",
    "        prev_clusters = next_clusters\n",
    "    return next_clusters"
   ]
  },
  {
   "cell_type": "code",
   "execution_count": 134,
   "metadata": {},
   "outputs": [
    {
     "name": "stdout",
     "output_type": "stream",
     "text": [
      "Centro: (-2, -5) Radio: 2\n",
      "Centro: (-8, -2) Radio: 10\n"
     ]
    }
   ],
   "source": [
    "#Clusters iniciales:\n",
    "cluster1 = Cluster(-2,-5,2)\n",
    "cluster2 = Cluster(-8,-2,10)\n",
    "\n",
    "clusters = [cluster1,cluster2]\n",
    "\n",
    "#Todos los puntos:\n",
    "puntoscsv = pandas.read_csv('Data/puntos_1_y_3.csv', header=None, names=['x', 'y']).values\n",
    "puntos = []\n",
    "for i in range(len(puntoscsv)):\n",
    "    puntos.append(Punto(puntoscsv[i][0],puntoscsv[i][1]))\n",
    "puntos\n",
    "\n",
    "print(cluster1)\n",
    "print(cluster2)"
   ]
  },
  {
   "cell_type": "code",
   "execution_count": 135,
   "metadata": {},
   "outputs": [
    {
     "name": "stdout",
     "output_type": "stream",
     "text": [
      "[Centro: (0.0, 0.0) Radio: 5.0, Centro: (0.0, 0.0) Radio: 5.0]\n",
      "[8.385164807134505]\n",
      "[8.385164807134505, 13.246211251235321]\n",
      "[Centro: (0.0, 0.0) Radio: 5.0, Centro: (0.0, 0.0) Radio: 5.0]\n",
      "[0.0]\n",
      "[0.0, 0.0]\n"
     ]
    },
    {
     "data": {
      "text/plain": [
       "[Centro: (0.0, 0.0) Radio: 5.0, Centro: (0.0, 0.0) Radio: 5.0]"
      ]
     },
     "execution_count": 135,
     "metadata": {},
     "output_type": "execute_result"
    }
   ],
   "source": [
    "cluster = iterar_get_real_cluster(puntos,clusters,0.000002,1)\n",
    "cluster"
   ]
  },
  {
   "cell_type": "code",
   "execution_count": 136,
   "metadata": {},
   "outputs": [
    {
     "data": {
      "image/png": "[encoded data removed]",
      "text/plain": [
       "<Figure size 432x288 with 1 Axes>"
      ]
     },
     "metadata": {
      "needs_background": "light"
     },
     "output_type": "display_data"
    }
   ],
   "source": [
    "drawCircleAndPoints(puntos,cluster,'blue')"
   ]
  },
  {
   "cell_type": "code",
   "execution_count": null,
   "metadata": {},
   "outputs": [],
   "source": []
  },
  {
   "cell_type": "code",
   "execution_count": 161,
   "metadata": {},
   "outputs": [
    {
     "name": "stdout",
     "output_type": "stream",
     "text": [
      "Centro: (-2, -5) Radio: 2\n",
      "Centro: (-8, -2) Radio: 10\n"
     ]
    }
   ],
   "source": [
    "#Agustin 1:\n",
    "\n",
    "#Clusters iniciales:\n",
    "cluster1 = Cluster(-2,-5,2)\n",
    "cluster2 = Cluster(-8,-2,10)\n",
    "\n",
    "clusters = [cluster1,cluster2]\n",
    "\n",
    "#Todos los puntos:\n",
    "puntoscsv = pandas.read_csv('Data/puntos_agustin_1.csv', header=None, names=['x', 'y']).values\n",
    "puntos = []\n",
    "for i in range(len(puntoscsv)):\n",
    "    puntos.append(Punto(puntoscsv[i][0],puntoscsv[i][1]))\n",
    "puntos\n",
    "\n",
    "print(cluster1)\n",
    "print(cluster2)"
   ]
  },
  {
   "cell_type": "code",
   "execution_count": 162,
   "metadata": {},
   "outputs": [
    {
     "data": {
      "text/plain": [
       "[Centro: (9.042857142857143, 5.0) Radio: 1.957142857142857,\n",
       " Centro: (1.9973684210526317, 2.0078947368421054) Radio: 0.9973996662235383]"
      ]
     },
     "execution_count": 162,
     "metadata": {},
     "output_type": "execute_result"
    }
   ],
   "source": [
    "clusters = iterar_get_real_cluster(puntos,clusters,0.000002,0)\n",
    "clusters"
   ]
  },
  {
   "cell_type": "code",
   "execution_count": 163,
   "metadata": {},
   "outputs": [
    {
     "data": {
      "image/png": "[encoded data removed]",
      "text/plain": [
       "<Figure size 432x288 with 1 Axes>"
      ]
     },
     "metadata": {
      "needs_background": "light"
     },
     "output_type": "display_data"
    }
   ],
   "source": [
    "drawCircleAndPoints(puntos,clusters,'blue')"
   ]
  },
  {
   "cell_type": "code",
   "execution_count": 170,
   "metadata": {},
   "outputs": [
    {
     "data": {
      "text/plain": [
       "[Centro: (1.0, 3.5) Radio: 5, Centro: (6.0, 3.5) Radio: 5]"
      ]
     },
     "execution_count": 170,
     "metadata": {},
     "output_type": "execute_result"
    }
   ],
   "source": []
  },
  {
   "cell_type": "code",
   "execution_count": 232,
   "metadata": {},
   "outputs": [
    {
     "name": "stdout",
     "output_type": "stream",
     "text": [
      "Centro: (7.0, 1.75) Radio: 5\n",
      "Centro: (9.9, 1.75) Radio: 5\n"
     ]
    }
   ],
   "source": [
    "#Agustin 1+:\n",
    "\n",
    "#Todos los puntos:\n",
    "puntoscsv = pandas.read_csv('Data/puntos_agustin_1.csv', header=None, names=['x', 'y']).values\n",
    "puntos = []\n",
    "for i in range(len(puntoscsv)):\n",
    "    puntos.append(Punto(puntoscsv[i][0],puntoscsv[i][1]))\n",
    "puntos\n",
    "\n",
    "#Clusters iniciales:\n",
    "clusters = clusters_iniciales(puntos,2)\n",
    "\n",
    "print(clusters[0])\n",
    "print(clusters[1])"
   ]
  },
  {
   "cell_type": "code",
   "execution_count": 233,
   "metadata": {},
   "outputs": [
    {
     "data": {
      "text/plain": [
       "[Centro: (1.9973684210526317, 2.0078947368421054) Radio: 0.9973996662235383,\n",
       " Centro: (8.957692307692307, 5.042307692307692) Radio: 1.9581494101385715]"
      ]
     },
     "execution_count": 233,
     "metadata": {},
     "output_type": "execute_result"
    }
   ],
   "source": [
    "clusters = iterar_get_real_cluster(puntos,clusters,0.0002,100,0)\n",
    "clusters"
   ]
  },
  {
   "cell_type": "code",
   "execution_count": 234,
   "metadata": {},
   "outputs": [
    {
     "data": {
      "image/png": "[encoded data removed]",
      "text/plain": [
       "<Figure size 432x288 with 1 Axes>"
      ]
     },
     "metadata": {
      "needs_background": "light"
     },
     "output_type": "display_data"
    }
   ],
   "source": [
    "drawCircleAndPoints(puntos,clusters,'blue')"
   ]
  },
  {
   "cell_type": "code",
   "execution_count": 235,
   "metadata": {},
   "outputs": [
    {
     "name": "stdout",
     "output_type": "stream",
     "text": [
      "Centro: (0, 0) Radio: 2\n",
      "Centro: (10, 10) Radio: 10\n",
      "Centro: (-5, -8) Radio: 6\n"
     ]
    }
   ],
   "source": [
    "#Agustin 2:\n",
    "\n",
    "#Clusters iniciales:\n",
    "cluster1 = Cluster(0,0,2)\n",
    "cluster2 = Cluster(10,10,10)\n",
    "cluster3 = Cluster(-5,-8,6)\n",
    "\n",
    "clusters = [cluster1,cluster2,cluster3]\n",
    "\n",
    "#Todos los puntos:\n",
    "puntoscsv = pandas.read_csv('Data/puntos_agustin_2.csv', header=None, names=['x', 'y']).values\n",
    "puntos = []\n",
    "for i in range(len(puntoscsv)):\n",
    "    puntos.append(Punto(puntoscsv[i][0],puntoscsv[i][1]))\n",
    "puntos\n",
    "\n",
    "print(cluster1)\n",
    "print(cluster2)\n",
    "print(cluster3)"
   ]
  },
  {
   "cell_type": "code",
   "execution_count": 149,
   "metadata": {},
   "outputs": [
    {
     "data": {
      "text/plain": [
       "[Centro: (9.413358778625954, 4.918702290076336) Radio: 3.3904099129247847,\n",
       " Centro: (20.1053706505295, 18.10370650529501) Radio: 6.104615964724857,\n",
       " Centro: (7.816666666666666, 0.55) Radio: 7.543392988422237]"
      ]
     },
     "execution_count": 149,
     "metadata": {},
     "output_type": "execute_result"
    }
   ],
   "source": [
    "clusters = iterar_get_real_cluster(puntos,clusters,0.002,0)\n",
    "clusters"
   ]
  },
  {
   "cell_type": "code",
   "execution_count": 150,
   "metadata": {},
   "outputs": [
    {
     "data": {
      "image/png": "[encoded data removed]",
      "text/plain": [
       "<Figure size 432x288 with 1 Axes>"
      ]
     },
     "metadata": {
      "needs_background": "light"
     },
     "output_type": "display_data"
    }
   ],
   "source": [
    "drawCircleAndPoints(puntos,clusters,'blue')"
   ]
  },
  {
   "cell_type": "code",
   "execution_count": 280,
   "metadata": {},
   "outputs": [
    {
     "name": "stdout",
     "output_type": "stream",
     "text": [
      "Centro: (6.0, 12.0) Radio: 5\n",
      "Centro: (12.666666666666668, 12.0) Radio: 5\n",
      "Centro: (19.333333333333336, 12.0) Radio: 5\n"
     ]
    }
   ],
   "source": [
    "#Agustin 2+:\n",
    "\n",
    "#Todos los puntos:\n",
    "puntoscsv = pandas.read_csv('Data/puntos_agustin_2.csv', header=None, names=['x', 'y']).values\n",
    "puntos = []\n",
    "for i in range(len(puntoscsv)):\n",
    "    puntos.append(Punto(puntoscsv[i][0],puntoscsv[i][1]))\n",
    "puntos\n",
    "\n",
    "#Clusters iniciales:\n",
    "clusters = clusters_iniciales(puntos,3)\n",
    "\n",
    "print(clusters[0])\n",
    "print(clusters[1])\n",
    "print(clusters[2])"
   ]
  },
  {
   "cell_type": "code",
   "execution_count": 283,
   "metadata": {},
   "outputs": [
    {
     "data": {
      "text/plain": [
       "[Centro: (9.633333333333333, 4.783333333333333) Radio: 3.6425342216039036,\n",
       " Centro: (9.635714285714286, 6.007142857142857) Radio: 1.8122316831656453,\n",
       " Centro: (19.957291666666666, 17.144166666666667) Radio: 5.442742081235084]"
      ]
     },
     "execution_count": 283,
     "metadata": {},
     "output_type": "execute_result"
    }
   ],
   "source": [
    "clusters = iterar_get_real_cluster(puntos,clusters,0.02,100,0)\n",
    "clusters"
   ]
  },
  {
   "cell_type": "code",
   "execution_count": 284,
   "metadata": {},
   "outputs": [
    {
     "data": {
      "image/png": "[encoded data removed]",
      "text/plain": [
       "<Figure size 432x288 with 1 Axes>"
      ]
     },
     "metadata": {
      "needs_background": "light"
     },
     "output_type": "display_data"
    }
   ],
   "source": [
    "drawCircleAndPoints(puntos,clusters,'blue')"
   ]
  },
  {
   "cell_type": "markdown",
   "metadata": {},
   "source": [
    "# UTILS"
   ]
  },
  {
   "cell_type": "code",
   "execution_count": 196,
   "metadata": {},
   "outputs": [],
   "source": [
    "def drawCircleAndPoints(Puntos, Clusters, color):  # learningaboutelectronics.com/Articles/How-to-draw-a-circle-using-matplotlib-in-Python.php\n",
    "    \n",
    "    Xs = []\n",
    "    Ys = []\n",
    "    for p in Puntos:\n",
    "        Xs.append(p.x)\n",
    "        Ys.append(p.y)\n",
    "    plt.plot(Xs, Ys, 'ro', color=color)\n",
    "    \n",
    "    for cluster in Clusters:\n",
    "        plt.plot(cluster.centro.x,cluster.centro.y, 'ro', color='red')\n",
    "        circle = plt.Circle((cluster.centro.x, cluster.centro.y), cluster.radio, color=color, fill=False)\n",
    "        ax=plt.gca()\n",
    "        ax.add_patch(circle)\n",
    "        plt.axis('scaled')\n",
    "    \n",
    "    plt.show()"
   ]
  },
  {
   "cell_type": "code",
   "execution_count": 77,
   "metadata": {},
   "outputs": [],
   "source": []
  },
  {
   "cell_type": "code",
   "execution_count": null,
   "metadata": {},
   "outputs": [],
   "source": []
  }
 ],
 "metadata": {
  "kernelspec": {
   "display_name": "Python 3",
   "language": "python",
   "name": "python3"
  },
  "language_info": {
   "codemirror_mode": {
    "name": "ipython",
    "version": 3
   },
   "file_extension": ".py",
   "mimetype": "text/x-python",
   "name": "python",
   "nbconvert_exporter": "python",
   "pygments_lexer": "ipython3",
   "version": "3.7.4"
  }
 },
 "nbformat": 4,
 "nbformat_minor": 4
}
