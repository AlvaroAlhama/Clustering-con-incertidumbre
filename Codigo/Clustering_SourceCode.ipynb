{
 "cells": [
  {
   "cell_type": "markdown",
   "metadata": {},
   "source": [
    "# Clustering con Incertidumbre"
   ]
  },
  {
   "cell_type": "code",
   "execution_count": 1,
   "metadata": {},
   "outputs": [],
   "source": [
    "import pandas\n",
    "import numpy as np\n",
    "import statistics as stats"
   ]
  },
  {
   "cell_type": "markdown",
   "metadata": {},
   "source": [
    "# 1) Estructura de datos:"
   ]
  },
  {
   "cell_type": "code",
   "execution_count": 2,
   "metadata": {},
   "outputs": [],
   "source": [
    "class Cluster(): \n",
    "    def __init__(self, centro, radio):\n",
    "        self.centro = centro\n",
    "        self.radio = radio\n",
    "        \n",
    "    def print(self):\n",
    "        print('Centro: ',self.centro, ' Radio: ',self.radio)\n",
    "    def __repr__(self):\n",
    "        return 'Centro: %s Radio: %s' % (self.centro,self.radio)\n",
    "    def __str__(self):\n",
    "        return 'Centro: %s Radio: %s' % (self.centro,self.radio)"
   ]
  },
  {
   "cell_type": "markdown",
   "metadata": {},
   "source": [
    "# 2) Estimación:"
   ]
  },
  {
   "cell_type": "code",
   "execution_count": 3,
   "metadata": {},
   "outputs": [],
   "source": [
    "def get_cluster(puntos): # REF: https://www.geeksforgeeks.org/equation-of-circle-when-three-points-on-the-circle-are-given/\n",
    "    \n",
    "    p1 = puntos[0]\n",
    "    p2 = puntos[1]\n",
    "    p3 = puntos[2]\n",
    "    \n",
    "    #Puntos medios de esos 3 puntos\n",
    "    x12 = p1[0] - p2[0];  \n",
    "    x13 = p1[0] - p3[0];  \n",
    "  \n",
    "    y12 = p1[1] - p2[1];  \n",
    "    y13 = p1[1] - p3[1];    \n",
    "  \n",
    "    y31 = p3[1] - p1[1];  \n",
    "    y21 = p2[1] - p1[1]; \n",
    "  \n",
    "    x31 = p3[0] - p1[0];  \n",
    "    x21 = p2[0] - p1[0];  \n",
    "  \n",
    "    #Calcular las 2 rectas  \n",
    "    #x1^2 - x3^2  \n",
    "    sx13 = pow(p1[0], 2) - pow(p3[0], 2);  \n",
    "  \n",
    "    # y1^2 - y3^2  \n",
    "    sy13 = pow(p1[1], 2) - pow(p3[1], 2);  \n",
    "  \n",
    "    sx21 = pow(p2[0], 2) - pow(p1[0], 2);  \n",
    "    sy21 = pow(p2[1], 2) - pow(p1[1], 2);  \n",
    "  \n",
    "    f = (((sx13) * (x12) + (sy13) * \n",
    "          (x12) + (sx21) * (x13) + \n",
    "          (sy21) * (x13)) // (2 * \n",
    "          ((y31) * (x12) - (y21) * (x13)))); \n",
    "              \n",
    "    g = (((sx13) * (y12) + (sy13) * (y12) + \n",
    "          (sx21) * (y13) + (sy21) * (y13)) // \n",
    "          (2 * ((x31) * (y12) - (x21) * (y13))));  \n",
    "  \n",
    "    c = (-pow(p1[0], 2) - pow(p1[1], 2) - \n",
    "         2 * g * p1[0] - 2 * f * p1[1]);  \n",
    "  \n",
    "    # ecuación del circulo: x^2 + y^2 + 2*g*x + 2*f*y + c = 0  \n",
    "    # con centro: (h = -g, k = -f)  \n",
    "    # y radio: r^2 = h^2 + k^2 - c  \n",
    "    h = -g;  \n",
    "    k = -f;  \n",
    "    sqr_of_r = h * h + k * k - c;  \n",
    "  \n",
    "    # r is the radius  \n",
    "    r = round(np.sqrt(sqr_of_r), 5);  \n",
    "    \n",
    "    res = Cluster([h,k],r)\n",
    "    \n",
    "    return res\n",
    "    \n",
    "    "
   ]
  },
  {
   "cell_type": "code",
   "execution_count": 4,
   "metadata": {},
   "outputs": [],
   "source": [
    "def obtener_3_puntos(puntos):\n",
    "    aux_x_max = 0\n",
    "    aux_x_min = 0\n",
    "    aux_y_max = 0\n",
    "\n",
    "    for i in range(len(puntos)):\n",
    "\n",
    "        if(puntos[i][0] > aux_x_max or i==0):\n",
    "            px_max = puntos[i]\n",
    "            aux_x_max = puntos[i][0]\n",
    "\n",
    "        if(puntos[i][0] < aux_x_min or i == 0):\n",
    "            px_min = puntos[i]\n",
    "            aux_x_min = puntos[i][0]   \n",
    "\n",
    "        if(puntos[i][1] > aux_y_max or i == 0):\n",
    "            py_max = puntos[i]\n",
    "            aux_y_max = puntos[i][1]        \n",
    "    \n",
    "    return px_max,px_min,py_max "
   ]
  },
  {
   "cell_type": "markdown",
   "metadata": {},
   "source": [
    "El primer ejemplo es un circulo perfecto centrado en el origen y de radio 5."
   ]
  },
  {
   "cell_type": "code",
   "execution_count": 5,
   "metadata": {},
   "outputs": [],
   "source": [
    "puntos = pandas.read_csv('Data/puntos_1.csv', header=None, names=['x', 'y']).values\n",
    "#print(puntos.shape)  # Número de filas y columnas\n",
    "#puntoscsv.head(12)  # 10 primeras filas"
   ]
  },
  {
   "cell_type": "code",
   "execution_count": 6,
   "metadata": {},
   "outputs": [
    {
     "name": "stdout",
     "output_type": "stream",
     "text": [
      "[[ 5  0]\n",
      " [ 4  3]\n",
      " [ 3  4]\n",
      " [ 0  5]\n",
      " [-3  4]\n",
      " [-4  3]\n",
      " [-5  0]\n",
      " [-4 -3]\n",
      " [-3 -4]\n",
      " [ 0 -5]\n",
      " [ 3 -4]\n",
      " [ 4 -3]]\n"
     ]
    }
   ],
   "source": [
    "print(puntos)"
   ]
  },
  {
   "cell_type": "code",
   "execution_count": 7,
   "metadata": {},
   "outputs": [
    {
     "data": {
      "text/plain": [
       "Centro: [0, 0] Radio: 5.0"
      ]
     },
     "execution_count": 7,
     "metadata": {},
     "output_type": "execute_result"
    }
   ],
   "source": [
    "#Obtenemos 3 puntos lo más alejados posibles\n",
    "puntos = obtener_3_puntos(puntos)\n",
    "\n",
    "cluster = get_cluster(puntos)\n",
    "cluster"
   ]
  },
  {
   "cell_type": "markdown",
   "metadata": {},
   "source": [
    "Lo probamos con una lista de puntos no perfecta y de baricentro \"1,0\" y radio \"4\""
   ]
  },
  {
   "cell_type": "code",
   "execution_count": 8,
   "metadata": {},
   "outputs": [],
   "source": [
    "puntos = pandas.read_csv('Data/puntos_2.csv', header=None, names=['x', 'y']).values\n",
    "#print(puntos.shape)  # Número de filas y columnas\n",
    "#puntoscsv.head(12)  # 10 primeras filas"
   ]
  },
  {
   "cell_type": "code",
   "execution_count": 9,
   "metadata": {},
   "outputs": [
    {
     "name": "stdout",
     "output_type": "stream",
     "text": [
      "[[ 5.    0.  ]\n",
      " [ 4.5   2.  ]\n",
      " [ 3.    3.5 ]\n",
      " [ 1.    4.  ]\n",
      " [ 0.    3.75]\n",
      " [-2.    2.5 ]\n",
      " [-3.    0.  ]\n",
      " [-2.   -2.5 ]\n",
      " [ 0.   -3.75]\n",
      " [ 1.   -4.  ]\n",
      " [ 3.   -3.5 ]\n",
      " [ 4.   -2.5 ]]\n"
     ]
    }
   ],
   "source": [
    "print(puntos)"
   ]
  },
  {
   "cell_type": "code",
   "execution_count": 10,
   "metadata": {},
   "outputs": [
    {
     "data": {
      "text/plain": [
       "Centro: [1.0, -0.0] Radio: 4.0"
      ]
     },
     "execution_count": 10,
     "metadata": {},
     "output_type": "execute_result"
    }
   ],
   "source": [
    "puntos = obtener_3_puntos(puntos)\n",
    "\n",
    "cluster = get_cluster(puntos)\n",
    "cluster"
   ]
  },
  {
   "cell_type": "markdown",
   "metadata": {},
   "source": [
    "# 3) Grados de pertenencia"
   ]
  },
  {
   "cell_type": "code",
   "execution_count": 11,
   "metadata": {},
   "outputs": [],
   "source": [
    "def grados_pertenencia(p,clusters):\n",
    "    \n",
    "    #Calculamos la distancia de el punto a cada cluster\n",
    "    distancias = []\n",
    "    \n",
    "    for i in range(len(clusters)):\n",
    "        d = np.sqrt(pow(p[0] - clusters[i].centro[0],2) + pow(p[1] - clusters[i].centro[1],2))\n",
    "        distancias.append(abs(d-clusters[i].radio))\n",
    "        \n",
    "    \n",
    "    #Calculamos el grado de pertencia a cada cluster\n",
    "    pertenencias = []\n",
    "    \n",
    "    for i in range(len(clusters)):\n",
    "        per = 100/(pow(distancias[i],2))\n",
    "        pertenencias.append(per)\n",
    "        \n",
    "    #Normalizamos\n",
    "    suma = sum(pertenencias)\n",
    "    pertenencias = pertenencias/suma\n",
    "    \n",
    "    return pertenencias"
   ]
  },
  {
   "cell_type": "code",
   "execution_count": 12,
   "metadata": {},
   "outputs": [],
   "source": [
    "#Clusters:\n",
    "cluster1 = Cluster([0,0],5)\n",
    "cluster2 = Cluster([1,0],4)\n",
    "cluster3 = Cluster([10,10],3)\n",
    "\n",
    "clusters = [cluster1,cluster2,cluster3]"
   ]
  },
  {
   "cell_type": "code",
   "execution_count": 13,
   "metadata": {},
   "outputs": [
    {
     "name": "stdout",
     "output_type": "stream",
     "text": [
      "[0.47764808 0.47764808 0.04470383]\n"
     ]
    }
   ],
   "source": [
    "p = [2,0]\n",
    "print(grados_pertenencia(p,clusters))"
   ]
  },
  {
   "cell_type": "code",
   "execution_count": 14,
   "metadata": {},
   "outputs": [
    {
     "name": "stdout",
     "output_type": "stream",
     "text": [
      "[0.01590335 0.01498611 0.96911054]\n",
      "1.0\n"
     ]
    }
   ],
   "source": [
    "p = [10,8]\n",
    "print(grados_pertenencia(p,clusters))\n",
    "print(sum(grados_pertenencia(p,clusters)))"
   ]
  },
  {
   "cell_type": "code",
   "execution_count": 15,
   "metadata": {},
   "outputs": [
    {
     "name": "stdout",
     "output_type": "stream",
     "text": [
      "[0.63415565 0.3235488  0.04229555]\n"
     ]
    }
   ],
   "source": [
    "p = [-10,0]\n",
    "print(grados_pertenencia(p,clusters))"
   ]
  },
  {
   "cell_type": "code",
   "execution_count": 16,
   "metadata": {},
   "outputs": [
    {
     "name": "stdout",
     "output_type": "stream",
     "text": [
      "[0.91441817 0.08558183]\n"
     ]
    }
   ],
   "source": [
    "clusters = [cluster1,cluster3]\n",
    "p = [2,0]\n",
    "print(grados_pertenencia(p,clusters))"
   ]
  },
  {
   "cell_type": "markdown",
   "metadata": {},
   "source": [
    "# 4) Modificacion 2"
   ]
  },
  {
   "cell_type": "code",
   "execution_count": 66,
   "metadata": {},
   "outputs": [],
   "source": [
    "#Le pasamos los 3 puntos con mayor grado de pertenencia a un cluster:\n",
    "def puntos_mayor_grado_por_cluster(puntos,cluster,n_cluster):\n",
    "    per = []\n",
    "    res = []\n",
    "\n",
    "    for i in range(len(puntos)):\n",
    "        per.append(grados_pertenencia(puntos[i],cluster)[n_cluster])\n",
    "    \n",
    "    res.append(puntos[per.index(max(per))])\n",
    "    puntos = np.delete(puntos,per.index(max(per)),0)\n",
    "    per.remove(max(per))\n",
    "    \n",
    "    res.append(puntos[per.index(max(per))])\n",
    "    puntos = np.delete(puntos,per.index(max(per)),0)\n",
    "    per.remove(max(per))\n",
    "    \n",
    "    res.append(puntos[per.index(max(per))])\n",
    "    \n",
    "    return res\n"
   ]
  },
  {
   "cell_type": "code",
   "execution_count": 77,
   "metadata": {},
   "outputs": [],
   "source": [
    "def get_real_clusters(puntos,clusters):\n",
    "    res = []\n",
    "    \n",
    "    for i in range(len(clusters)):\n",
    "        pts_pertenencia = puntos_mayor_grado_por_cluster(puntos,clusters,i)\n",
    "        res.append(get_cluster(pts_pertenencia))\n",
    "        \n",
    "    return res "
   ]
  },
  {
   "cell_type": "code",
   "execution_count": 78,
   "metadata": {},
   "outputs": [
    {
     "name": "stdout",
     "output_type": "stream",
     "text": [
      "Centro: [1, 1] Radio: 4\n",
      "Centro: [7, 7] Radio: 2\n"
     ]
    }
   ],
   "source": [
    "#Clusters iniciales:\n",
    "cluster1 = Cluster([1,1],4)\n",
    "cluster2 = Cluster([7,7],2)\n",
    "\n",
    "clusters = [cluster1,cluster2]\n",
    "\n",
    "#Todos los puntos:\n",
    "puntos = pandas.read_csv('Data/puntos_1_y_3.csv', header=None, names=['x', 'y']).values\n",
    "\n",
    "print(cluster1)\n",
    "print(cluster2)"
   ]
  },
  {
   "cell_type": "code",
   "execution_count": 79,
   "metadata": {},
   "outputs": [
    {
     "data": {
      "text/plain": [
       "[Centro: [-0.0, 0.0] Radio: 5.0, Centro: [10.0, 10.0] Radio: 2.97321]"
      ]
     },
     "execution_count": 79,
     "metadata": {},
     "output_type": "execute_result"
    }
   ],
   "source": [
    "clusters = get_real_clusters(puntos,clusters)\n",
    "clusters"
   ]
  },
  {
   "cell_type": "code",
   "execution_count": null,
   "metadata": {},
   "outputs": [],
   "source": []
  }
 ],
 "metadata": {
  "kernelspec": {
   "display_name": "Python 3",
   "language": "python",
   "name": "python3"
  },
  "language_info": {
   "codemirror_mode": {
    "name": "ipython",
    "version": 3
   },
   "file_extension": ".py",
   "mimetype": "text/x-python",
   "name": "python",
   "nbconvert_exporter": "python",
   "pygments_lexer": "ipython3",
   "version": "3.7.4"
  }
 },
 "nbformat": 4,
 "nbformat_minor": 4
}
