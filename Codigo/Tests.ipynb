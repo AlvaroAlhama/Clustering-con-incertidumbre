{
 "cells": [
  {
   "cell_type": "code",
   "execution_count": 141,
   "metadata": {},
   "outputs": [],
   "source": [
    "import pandas\n",
    "import numpy as np\n",
    "import statistics as stats\n",
    "\n",
    "#Imports para calcular círculo a partir de tres puntos\n",
    "from sympy import Eq\n",
    "from sympy.geometry import Point, Circle\n",
    "\n",
    "#Imports para dibujar un circulo\n",
    "import matplotlib.pyplot as plt\n",
    "\n",
    "import random as rd\n",
    "\n",
    "\n",
    "class Point(): \n",
    "    def __init__(self, x, y):\n",
    "        self.x = x\n",
    "        self.y = y\n",
    "        \n",
    "    def print(self):\n",
    "        print('(',self.x, ', ',self.y,')')\n",
    "    def __repr__(self):\n",
    "        return '(%s, %s)' % (self.x,self.y)\n",
    "    def __str__(self):\n",
    "        return '(%s, %s)' % (self.x,self.y)\n",
    "    \n",
    "class Cluster(): \n",
    "    def __init__(self, x, y, radius):\n",
    "        self.center = Point(x,y)\n",
    "        self.radius = radius\n",
    "        \n",
    "    def print(self):\n",
    "        print('Center: ',self.center, ' Radio: ',self.radius)\n",
    "    def __repr__(self):\n",
    "        return 'Center: %s Radius: %s' % (self.center,self.radius)\n",
    "    def __str__(self):\n",
    "        return 'Center: %s Radius: %s' % (self.center,self.radius)\n",
    "    \n",
    "    \n",
    "class ClusterWithPoints(): \n",
    "    def __init__(self,cluster):\n",
    "        self.cluster = cluster\n",
    "        self.points = []\n",
    "        \n",
    "    def addPoint(self,point):\n",
    "        self.points.append(point)\n",
    "        \n",
    "        \n",
    "    def deletePoint(self,point):\n",
    "        self.points.remove(point)\n",
    "        \n",
    "    def print(self):\n",
    "        print('Cluster: ',self.cluster, ' Points: ',self.points)\n",
    "    def __repr__(self):\n",
    "        return 'Cluster: %s Points: %s' % (self.cluster,self.points)\n",
    "    def __str__(self):\n",
    "        return 'Cluster: %s Points: %s' % (self.cluster,self.points)\n",
    "    \n",
    "    \n",
    "    \n",
    "    \n",
    "def drawCircleAndPoints(clustersWithPoints):  # learningaboutelectronics.com/Articles/How-to-draw-a-circle-using-matplotlib-in-Python.php\n",
    "    \n",
    "    colors = ['red','blue','green','black','yellow','purple']\n",
    "    \n",
    "    for i in range(len(clustersWithPoints)):\n",
    "       \n",
    "        cwp = clustersWithPoints[i]\n",
    "        Xs = []\n",
    "        Ys = []\n",
    "        \n",
    "        for p in cwp.points:\n",
    "            Xs.append(p.x)\n",
    "            Ys.append(p.y)\n",
    "        plt.plot(Xs, Ys, 'ro', color=colors[i])\n",
    "        \n",
    "        plt.plot(cwp.cluster.center.x,cwp.cluster.center.y, 'ro', color=colors[i])\n",
    "        circle = plt.Circle((cwp.cluster.center.x, cwp.cluster.center.y), cwp.cluster.radius, color=colors[i], fill=False)\n",
    "        ax=plt.gca()\n",
    "        ax.add_patch(circle)\n",
    "        plt.axis('scaled')\n",
    "    \n",
    "    plt.show()"
   ]
  },
  {
   "cell_type": "code",
   "execution_count": 106,
   "metadata": {},
   "outputs": [],
   "source": [
    "def obtener_3_puntos(puntos):\n",
    "    \n",
    "    aux_x_max = 0\n",
    "    aux_x_min = 0\n",
    "    aux_y_max = 0\n",
    "    \n",
    "    #print(\"AAAAAAAAAAAAAAAAAAAAAAAAAAAAAAAAAAAAAAAAAAA\")\n",
    "    #print(puntos)\n",
    "\n",
    "    for i in range(len(puntos)):\n",
    "\n",
    "        if(puntos[i].x > aux_x_max or i==0):\n",
    "            px_max = puntos[i]\n",
    "            aux_x_max = puntos[i].x\n",
    "\n",
    "        if(puntos[i].x < aux_x_min or i == 0):\n",
    "            px_min = puntos[i]\n",
    "            aux_x_min = puntos[i].x   \n",
    "\n",
    "        if((puntos[i].y > aux_y_max or i == 0) and (puntos[i] != px_max and puntos[i] != px_min)):\n",
    "            py_max = puntos[i]\n",
    "            aux_y_max = puntos[i].y        \n",
    "    \n",
    "    return px_max,px_min,py_max "
   ]
  },
  {
   "cell_type": "code",
   "execution_count": 118,
   "metadata": {},
   "outputs": [],
   "source": [
    "def clusters_iniciales(puntos,n_clusters):\n",
    "    \n",
    "    px_max, px_min, py_max = obtener_3_puntos(puntos)\n",
    "    x_max = px_max.x\n",
    "    x_min = px_min.x\n",
    "    y_max = py_max.y\n",
    "    rang = abs(x_max-x_min)/n_clusters\n",
    "    \n",
    "    clusters = []\n",
    "    \n",
    "    for i in range(n_clusters):\n",
    "        cluster = Cluster(x_min + i*rang ,y_max/2, 1)\n",
    "        clusters.append(cluster)\n",
    "    \n",
    "    return clusters"
   ]
  },
  {
   "cell_type": "code",
   "execution_count": 119,
   "metadata": {},
   "outputs": [],
   "source": [
    "def get_cluster(puntos): # REF: codewars.com/kata/give-the-center-and-the-radius-of-circumscribed-circle-a-warm-up-challenge/python\n",
    "    \n",
    "    x1 = puntos[0].x\n",
    "    x2 = puntos[1].x\n",
    "    x3 = puntos[2].x\n",
    "    y1 = puntos[0].y\n",
    "    y2 = puntos[1].y\n",
    "    y3 = puntos[2].y\n",
    "    \n",
    "    D = 2*(x1*(y2-y3) + x2*(y3-y1) + x3*(y1-y2))\n",
    "    Ux = ((pow(x1,2) + pow(y1,2)) * (y2-y3) + (pow(x2,2) + pow(y2,2)) * (y3-y1) + (pow(x3,2) + pow(y3,2)) * (y1-y2))/D\n",
    "    Uy = ((pow(x1,2) + pow(y1,2)) * (x3-x2) + (pow(x2,2) + pow(y2,2)) * (x1-x3) + (pow(x3,2) + pow(y3,2)) * (x2-x1))/D\n",
    "    AB = np.sqrt(float(pow(x2-x1,2) + pow(y2-y1,2)))\n",
    "    BC = np.sqrt(float(pow(x3-x2,2) + pow(y3-y2,2)))\n",
    "    AC = np.sqrt(float(pow(x3-x1,2) + pow(y3-y1,2)))\n",
    "    diametro = (2*AB*BC*AC)/abs(D)\n",
    "    \n",
    "    res = Cluster(float(Ux),float(Uy),float(diametro/2))\n",
    "    \n",
    "    return res"
   ]
  },
  {
   "cell_type": "code",
   "execution_count": 120,
   "metadata": {},
   "outputs": [],
   "source": [
    "def grados_pertenencia(p,clusters):\n",
    "    \n",
    "    #Calculamos la distancia de el punto a cada cluster\n",
    "    distancias = []\n",
    "    \n",
    "    for i in range(len(clusters)):\n",
    "        d = np.sqrt(pow(p.x - clusters[i].center.x,2) + pow(p.y - clusters[i].center.y,2))\n",
    "        distancias.append(abs(d-clusters[i].radius))\n",
    "    \n",
    "    #Calculamos el grado de pertencia a cada cluster\n",
    "    pertenencias = []\n",
    "    \n",
    "    for i in range(len(clusters)):\n",
    "        if(distancias[i]==0.0):\n",
    "            per = 100.0\n",
    "        else:\n",
    "            per = 100/(pow(distancias[i],2))\n",
    "        pertenencias.append(per)\n",
    "        \n",
    "    #Normalizamos\n",
    "    suma = sum(pertenencias)\n",
    "    pertenencias = np.divide(pertenencias,suma)\n",
    "    \n",
    "    return pertenencias"
   ]
  },
  {
   "cell_type": "code",
   "execution_count": 121,
   "metadata": {},
   "outputs": [],
   "source": [
    "#Le pasamos los 3 puntos con mayor grado de pertenencia a un cluster:\n",
    "def puntos_mayor_grado_por_cluster(puntos,cluster,n_cluster):\n",
    "    per = []\n",
    "    res = []\n",
    "\n",
    "    for i in range(len(puntos)):\n",
    "        per.append(grados_pertenencia(puntos[i],cluster)[n_cluster])\n",
    "    \n",
    "    res.append(puntos[per.index(max(per))])\n",
    "    puntos = np.delete(puntos,per.index(max(per)),0)\n",
    "    per.remove(max(per))\n",
    "    \n",
    "    res.append(puntos[per.index(max(per))])\n",
    "    puntos = np.delete(puntos,per.index(max(per)),0)\n",
    "    per.remove(max(per))\n",
    "    \n",
    "    res.append(puntos[per.index(max(per))])\n",
    "    \n",
    "    return res"
   ]
  },
  {
   "cell_type": "code",
   "execution_count": 129,
   "metadata": {},
   "outputs": [],
   "source": [
    "def get_real_clusters(puntos,clusters):\n",
    "    new_clusters = []\n",
    "    for cluster in clusters:\n",
    "        \n",
    "        points = cluster.points\n",
    "        point = obtener_3_puntos(points)\n",
    "        new_clusters.append(get_cluster(point))\n",
    "        \n",
    "        \n",
    "    res = getClustersWithPoints(new_clusters, puntos)\n",
    "        \n",
    "    return res"
   ]
  },
  {
   "cell_type": "code",
   "execution_count": 130,
   "metadata": {},
   "outputs": [],
   "source": [
    "def iterar_get_real_cluster(puntos,prev_clusters,razon, max_iteraciones, imprimir):\n",
    "    \n",
    "    iterar = 1\n",
    "    iteraciones = 0;\n",
    "    \n",
    "    while(iterar and iteraciones <= max_iteraciones):\n",
    "        iteraciones = iteraciones + 1\n",
    "        nuevo_factor = []\n",
    "        next_clusters = get_real_clusters(puntos,prev_clusters)\n",
    "        if(imprimir):\n",
    "            print(next_clusters)\n",
    "        for i in range(len(prev_clusters)):\n",
    "            nuevo_factor.append(np.sqrt((prev_clusters[i].cluster.center.x - next_clusters[i].cluster.center.x)**2 + (prev_clusters[i].cluster.center.y - next_clusters[i].cluster.center.y)**2) + abs(prev_clusters[i].cluster.radius - next_clusters[i].cluster.radius))\n",
    "            if(imprimir):\n",
    "                print(nuevo_factor)\n",
    "        if(max(nuevo_factor) < razon):    \n",
    "            iterar = 0\n",
    "        prev_clusters = next_clusters\n",
    "    return next_clusters"
   ]
  },
  {
   "cell_type": "code",
   "execution_count": 131,
   "metadata": {},
   "outputs": [],
   "source": [
    "def getClustersWithPoints(clusters, puntos):\n",
    "    \n",
    "   \n",
    "    res = []\n",
    "    for cluster in clusters:\n",
    "        res.append(ClusterWithPoints(cluster))\n",
    "    \n",
    "    for p in puntos:\n",
    "        gradosPert = grados_pertenencia(p,clusters)\n",
    "        ind = np.where(gradosPert == max(gradosPert))\n",
    "        res[ind[0][0]].addPoint(p)\n",
    "    \n",
    "    return res"
   ]
  },
  {
   "cell_type": "code",
   "execution_count": null,
   "metadata": {},
   "outputs": [],
   "source": []
  },
  {
   "cell_type": "code",
   "execution_count": 144,
   "metadata": {},
   "outputs": [
    {
     "name": "stdout",
     "output_type": "stream",
     "text": [
      "[Cluster: Center: (9.0, 4.9714285714285715) Radius: 3.0001360513367747 Points: [(9.0, 8.0), (7.0, 7.3), (6.0, 5.0), (12.0, 5.0), (9.0, 2.0), (11.0, 2.7), (6.4, 3.5), (11.0, 7.2), (11.0, 5.0), (9.0, 7.0), (7.0, 5.0), (9.0, 3.0), (7.4, 3.8), (7.4, 6.2), (10.4, 3.6), (6.2, 6.0), (6.6, 6.8), (8.0, 7.8), (9.9, 7.8), (10.5, 7.6), (11.2, 7.0), (11.6, 6.6), (11.7, 6.3), (11.8, 6.0), (11.9, 5.7), (12.0, 4.6), (11.9, 4.2), (11.8, 3.8), (11.6, 3.5), (10.5, 2.4), (8.2, 2.1), (7.4, 2.5), (6.1, 4.2), (8.0, 6.7), (7.7, 3.5), (8.0, 3.3), (8.3, 3.1), (9.5, 3.1), (10.8, 4.2)], Cluster: Center: (3.784782608695649, 17.232608695652168) Radius: 12.6480962351767 Points: [(10.6, 6.2), (15.9, 13.6), (15.5, 22.0), (7.2, 6.0), (7.1, 5.6), (7.0, 4.6), (7.1, 4.3), (10.8, 5.9), (9.8, 6.8)], Cluster: Center: (20.0, 18.0) Radius: 5.999999999999999 Points: [(20.0, 12.0), (20.0, 24.0), (22.0, 23.7), (24.0, 22.5), (24.4, 22.0), (25.6, 20.1), (26.0, 18.0), (25.6, 16.0), (24.4, 14.0), (24.0, 13.5), (22.1, 12.4), (17.9, 12.4), (15.2, 14.5), (14.3, 16.0), (14.0, 18.0), (14.4, 20.0), (16.3, 22.8), (25.2, 15.0), (14.8, 15.0), (19.0, 12.1), (23.3, 13.0), (25.9, 19.0), (14.1, 19.2), (14.1, 17.0), (15.1, 21.4), (17.4, 23.4), (18.6, 23.8), (21.0, 23.9), (23.0, 23.2), (24.9, 21.4), (25.4, 20.6)]]\n"
     ]
    },
    {
     "data": {
      "image/png": "[encoded data removed]",
      "text/plain": [
       "<Figure size 432x288 with 1 Axes>"
      ]
     },
     "metadata": {
      "needs_background": "light"
     },
     "output_type": "display_data"
    }
   ],
   "source": [
    "#Agustin 2+:\n",
    "\n",
    "#Todos los puntos:\n",
    "puntoscsv = pandas.read_csv('Data/puntos_agustin_2.csv', header=None, names=['x', 'y']).values\n",
    "puntos = []\n",
    "for i in range(len(puntoscsv)):\n",
    "    puntos.append(Point(puntoscsv[i][0],puntoscsv[i][1]))\n",
    "puntos\n",
    "\n",
    "#Clusters iniciales:\n",
    "clusters_inicio = clusters_iniciales(puntos,3)\n",
    "c = getClustersWithPoints(clusters_inicio,puntos)\n",
    "clusters = iterar_get_real_cluster(puntos,c,0.000002,100,0)\n",
    "print(clusters)\n",
    "\n",
    "drawCircleAndPoints(clusters)"
   ]
  },
  {
   "cell_type": "code",
   "execution_count": 115,
   "metadata": {},
   "outputs": [
    {
     "ename": "NameError",
     "evalue": "name 'get_cluster_casero' is not defined",
     "output_type": "error",
     "traceback": [
      "\u001b[1;31m---------------------------------------------------------------------------\u001b[0m",
      "\u001b[1;31mNameError\u001b[0m                                 Traceback (most recent call last)",
      "\u001b[1;32m<ipython-input-115-9d8d883061e9>\u001b[0m in \u001b[0;36m<module>\u001b[1;34m\u001b[0m\n\u001b[0;32m      3\u001b[0m \u001b[0mpuntos\u001b[0m\u001b[1;33m.\u001b[0m\u001b[0mappend\u001b[0m\u001b[1;33m(\u001b[0m\u001b[0mPoint\u001b[0m\u001b[1;33m(\u001b[0m\u001b[1;36m11.2\u001b[0m\u001b[1;33m,\u001b[0m\u001b[1;36m7.0\u001b[0m\u001b[1;33m)\u001b[0m\u001b[1;33m)\u001b[0m\u001b[1;33m\u001b[0m\u001b[1;33m\u001b[0m\u001b[0m\n\u001b[0;32m      4\u001b[0m \u001b[0mpuntos\u001b[0m\u001b[1;33m.\u001b[0m\u001b[0mappend\u001b[0m\u001b[1;33m(\u001b[0m\u001b[0mPoint\u001b[0m\u001b[1;33m(\u001b[0m\u001b[1;36m11.0\u001b[0m\u001b[1;33m,\u001b[0m\u001b[1;36m7.2\u001b[0m\u001b[1;33m)\u001b[0m\u001b[1;33m)\u001b[0m\u001b[1;33m\u001b[0m\u001b[1;33m\u001b[0m\u001b[0m\n\u001b[1;32m----> 5\u001b[1;33m \u001b[0mget_cluster_casero\u001b[0m\u001b[1;33m(\u001b[0m\u001b[0mpuntos\u001b[0m\u001b[1;33m)\u001b[0m\u001b[1;33m\u001b[0m\u001b[1;33m\u001b[0m\u001b[0m\n\u001b[0m",
      "\u001b[1;31mNameError\u001b[0m: name 'get_cluster_casero' is not defined"
     ]
    }
   ],
   "source": [
    "puntos = []\n",
    "puntos.append(Point(11.6,6.6))\n",
    "puntos.append(Point(11.2,7.0))\n",
    "puntos.append(Point(11.0,7.2))\n",
    "get_cluster_casero(puntos)"
   ]
  },
  {
   "cell_type": "code",
   "execution_count": null,
   "metadata": {},
   "outputs": [],
   "source": [
    "puntos = []\n",
    "puntos.append(Point(0,0))\n",
    "puntos.append(Point(4,0))\n",
    "puntos.append(Point(2,2))\n",
    "get_cluster_casero(puntos)"
   ]
  },
  {
   "cell_type": "code",
   "execution_count": null,
   "metadata": {},
   "outputs": [],
   "source": [
    "circle = Circle(Point(11.6,6.6), Point(11.2,7.0), Point(11.0,7.2))\n",
    "circle"
   ]
  },
  {
   "cell_type": "code",
   "execution_count": null,
   "metadata": {},
   "outputs": [],
   "source": []
  },
  {
   "cell_type": "code",
   "execution_count": null,
   "metadata": {},
   "outputs": [],
   "source": [
    "puntos = []\n",
    "puntos.append(Point(0,0))\n",
    "puntos.append(Point(4,0))\n",
    "puntos.append(Point(2,2))\n",
    "get_cluster_casero(puntos)"
   ]
  },
  {
   "cell_type": "code",
   "execution_count": null,
   "metadata": {},
   "outputs": [],
   "source": [
    "puntos = []\n",
    "puntos.append(Point(11.6,6.6))\n",
    "puntos.append(Point(11.2,7.0))\n",
    "puntos.append(Point(11.0,7.2))\n",
    "get_cluster_casero(puntos)"
   ]
  },
  {
   "cell_type": "code",
   "execution_count": null,
   "metadata": {},
   "outputs": [],
   "source": []
  },
  {
   "cell_type": "code",
   "execution_count": null,
   "metadata": {},
   "outputs": [],
   "source": []
  }
 ],
 "metadata": {
  "kernelspec": {
   "display_name": "Python 3",
   "language": "python",
   "name": "python3"
  },
  "language_info": {
   "codemirror_mode": {
    "name": "ipython",
    "version": 3
   },
   "file_extension": ".py",
   "mimetype": "text/x-python",
   "name": "python",
   "nbconvert_exporter": "python",
   "pygments_lexer": "ipython3",
   "version": "3.7.4"
  }
 },
 "nbformat": 4,
 "nbformat_minor": 4
}
