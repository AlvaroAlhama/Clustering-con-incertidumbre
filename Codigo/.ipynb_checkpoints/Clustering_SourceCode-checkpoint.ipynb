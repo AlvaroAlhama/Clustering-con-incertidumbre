{
 "cells": [
  {
   "cell_type": "markdown",
   "metadata": {},
   "source": [
    "# Clustering con Incertidumbre"
   ]
  },
  {
   "cell_type": "code",
   "execution_count": 167,
   "metadata": {},
   "outputs": [],
   "source": [
    "import pandas\n",
    "import numpy as np\n",
    "import statistics as stats"
   ]
  },
  {
   "cell_type": "markdown",
   "metadata": {},
   "source": [
    "# 1) Estructura de datos:"
   ]
  },
  {
   "cell_type": "code",
   "execution_count": null,
   "metadata": {},
   "outputs": [],
   "source": [
    "centro_clusters;\n",
    "radios;\n",
    "lista_clusters;\n",
    "pertenencia_puntos;\n",
    "map_clusters_puntos_asignados;"
   ]
  },
  {
   "cell_type": "markdown",
   "metadata": {},
   "source": [
    "# 2) Estimación:"
   ]
  },
  {
   "cell_type": "code",
   "execution_count": 200,
   "metadata": {},
   "outputs": [],
   "source": [
    "def centro_y_radio(puntos): # REF: https://www.geeksforgeeks.org/equation-of-circle-when-three-points-on-the-circle-are-given/\n",
    "    \n",
    "    #Calculamos el centro a partir de 3 puntos lo más alejados posibles\n",
    "    \n",
    "    #Obtenemos 3 puntos lo más alejados posibles\n",
    "    p1 = puntos[0]\n",
    "    p2 = puntos[3]\n",
    "    p3 = puntos[6]\n",
    "    \n",
    "    #Puntos medios de esos 3 puntos\n",
    "    x12 = p1[0] - p2[0];  \n",
    "    x13 = p1[0] - p3[0];  \n",
    "  \n",
    "    y12 = p1[1] - p2[1];  \n",
    "    y13 = p1[1] - p3[1];    \n",
    "  \n",
    "    y31 = p3[1] - p1[1];  \n",
    "    y21 = p2[1] - p1[1]; \n",
    "  \n",
    "    x31 = p3[0] - p1[0];  \n",
    "    x21 = p2[0] - p1[0];  \n",
    "  \n",
    "    #Calcular las 2 rectas  \n",
    "    #x1^2 - x3^2  \n",
    "    sx13 = pow(p1[0], 2) - pow(p3[0], 2);  \n",
    "  \n",
    "    # y1^2 - y3^2  \n",
    "    sy13 = pow(p1[1], 2) - pow(p3[1], 2);  \n",
    "  \n",
    "    sx21 = pow(p2[0], 2) - pow(p1[0], 2);  \n",
    "    sy21 = pow(p2[1], 2) - pow(p1[1], 2);  \n",
    "  \n",
    "    f = (((sx13) * (x12) + (sy13) * \n",
    "          (x12) + (sx21) * (x13) + \n",
    "          (sy21) * (x13)) // (2 * \n",
    "          ((y31) * (x12) - (y21) * (x13)))); \n",
    "              \n",
    "    g = (((sx13) * (y12) + (sy13) * (y12) + \n",
    "          (sx21) * (y13) + (sy21) * (y13)) // \n",
    "          (2 * ((x31) * (y12) - (x21) * (y13))));  \n",
    "  \n",
    "    c = (-pow(p1[0], 2) - pow(p1[1], 2) - \n",
    "         2 * g * p1[0] - 2 * f * p1[1]);  \n",
    "  \n",
    "    # eqn of circle be x^2 + y^2 + 2*g*x + 2*f*y + c = 0  \n",
    "    # where centre is (h = -g, k = -f) and  \n",
    "    # radius r as r^2 = h^2 + k^2 - c  \n",
    "    h = -g;  \n",
    "    k = -f;  \n",
    "    sqr_of_r = h * h + k * k - c;  \n",
    "  \n",
    "    # r is the radius  \n",
    "    r = round(np.sqrt(sqr_of_r), 5);  \n",
    "  \n",
    "    print(\"Centre = (\", h, \", \", k, \")\");  \n",
    "    print(\"Radius = \", r);  \n",
    "    \n",
    "    "
   ]
  },
  {
   "cell_type": "code",
   "execution_count": 204,
   "metadata": {},
   "outputs": [],
   "source": [
    "puntos = pandas.read_csv('Data/puntos_1.csv', header=None, names=['x', 'y']).values\n",
    "#print(puntos.shape)  # Número de filas y columnas\n",
    "#puntoscsv.head(12)  # 10 primeras filas"
   ]
  },
  {
   "cell_type": "markdown",
   "metadata": {},
   "source": [
    "Guardamos los puntos en una matriz para que sea más facil operar con ellos"
   ]
  },
  {
   "cell_type": "code",
   "execution_count": 211,
   "metadata": {},
   "outputs": [
    {
     "data": {
      "text/plain": [
       "array([[ 5.  ,  0.  ],\n",
       "       [ 4.5 ,  2.  ],\n",
       "       [ 3.  ,  3.5 ],\n",
       "       [ 1.  ,  4.  ],\n",
       "       [ 0.  ,  3.75],\n",
       "       [-2.  ,  2.5 ],\n",
       "       [-3.  ,  0.  ],\n",
       "       [-2.  , -2.5 ],\n",
       "       [ 0.  , -3.75],\n",
       "       [ 1.  , -4.  ],\n",
       "       [ 3.  , -3.5 ],\n",
       "       [ 4.  , -2.5 ]])"
      ]
     },
     "execution_count": 211,
     "metadata": {},
     "output_type": "execute_result"
    }
   ],
   "source": [
    "puntos"
   ]
  },
  {
   "cell_type": "code",
   "execution_count": 218,
   "metadata": {},
   "outputs": [
    {
     "data": {
      "text/plain": [
       "5.0"
      ]
     },
     "execution_count": 218,
     "metadata": {},
     "output_type": "execute_result"
    }
   ],
   "source": [
    "puntos[:,0].max()"
   ]
  },
  {
   "cell_type": "code",
   "execution_count": 224,
   "metadata": {},
   "outputs": [
    {
     "ename": "AttributeError",
     "evalue": "'numpy.ndarray' object has no attribute 'index'",
     "output_type": "error",
     "traceback": [
      "\u001b[1;31m---------------------------------------------------------------------------\u001b[0m",
      "\u001b[1;31mAttributeError\u001b[0m                            Traceback (most recent call last)",
      "\u001b[1;32m<ipython-input-224-715a1a940288>\u001b[0m in \u001b[0;36m<module>\u001b[1;34m\u001b[0m\n\u001b[1;32m----> 1\u001b[1;33m \u001b[0mpuntos\u001b[0m\u001b[1;33m.\u001b[0m\u001b[0mindex\u001b[0m\u001b[1;33m(\u001b[0m\u001b[1;33m[\u001b[0m\u001b[1;36m5.\u001b[0m\u001b[1;33m,\u001b[0m\u001b[1;36m0.\u001b[0m\u001b[1;33m]\u001b[0m\u001b[1;33m)\u001b[0m\u001b[1;33m\u001b[0m\u001b[1;33m\u001b[0m\u001b[0m\n\u001b[0m",
      "\u001b[1;31mAttributeError\u001b[0m: 'numpy.ndarray' object has no attribute 'index'"
     ]
    }
   ],
   "source": [
    "puntos.index([5.,0.])"
   ]
  },
  {
   "cell_type": "code",
   "execution_count": 195,
   "metadata": {},
   "outputs": [
    {
     "name": "stdout",
     "output_type": "stream",
     "text": [
      "Centre = ( 0 ,  0 )\n",
      "Radius =  5.0\n"
     ]
    }
   ],
   "source": [
    "centro_y_radio(puntos)"
   ]
  },
  {
   "cell_type": "code",
   "execution_count": 210,
   "metadata": {},
   "outputs": [],
   "source": [
    "puntos = pandas.read_csv('Data/puntos_2.csv', header=None, names=['x', 'y']).values\n",
    "#print(puntos.shape)  # Número de filas y columnas\n",
    "#puntoscsv.head(12)  # 10 primeras filas"
   ]
  },
  {
   "cell_type": "code",
   "execution_count": 201,
   "metadata": {},
   "outputs": [
    {
     "name": "stdout",
     "output_type": "stream",
     "text": [
      "Centre = ( 1.0 ,  0.0 )\n",
      "Radius =  4.0\n"
     ]
    }
   ],
   "source": [
    "centro_y_radio(puntos)"
   ]
  },
  {
   "cell_type": "markdown",
   "metadata": {},
   "source": [
    "El primer ejemplo es u circulo perfecto centrado en el origen y de radio 5.\n",
    "\n",
    "Primero calculamos el centro de la circunferencia que pasa por 3 puntos alejados, para luego hacer la media de los resultados."
   ]
  },
  {
   "cell_type": "markdown",
   "metadata": {},
   "source": [
    "#Dividir la lista de puntos en listas de tres puntos\n",
    "\n",
    " 1 2 3 --> 1 2 3\n",
    " 1 2 3 4 -> (1,3,4) (1,2,4)\n",
    " 1 2 3 4 5 --> (1,3,5) (\n"
   ]
  },
  {
   "cell_type": "code",
   "execution_count": null,
   "metadata": {},
   "outputs": [],
   "source": []
  },
  {
   "cell_type": "code",
   "execution_count": null,
   "metadata": {},
   "outputs": [],
   "source": [
    "baricentro = puntos.sum(axis=0)/len(puntos)\n",
    "\n",
    "baricentro"
   ]
  },
  {
   "cell_type": "markdown",
   "metadata": {},
   "source": [
    "Calculamos el radio obteniendo la distancia entre el baricentro y todos los puntos, calculando la media después."
   ]
  },
  {
   "cell_type": "code",
   "execution_count": 172,
   "metadata": {},
   "outputs": [
    {
     "data": {
      "text/plain": [
       "5.0"
      ]
     },
     "execution_count": 172,
     "metadata": {},
     "output_type": "execute_result"
    }
   ],
   "source": [
    "vectores = []\n",
    "radios = []\n",
    "\n",
    "for i in range(len(puntos)):\n",
    "    vectores.append(puntos[i] - baricentro)\n",
    "    radios.append(np.sqrt(pow((vectores[i][0]),2)+pow((vectores[i][1]),2)))\n",
    "    \n",
    "radios\n",
    "\n",
    "stats.mean(radios)"
   ]
  },
  {
   "cell_type": "markdown",
   "metadata": {},
   "source": [
    "Lo probamos con una lista de puntos no perfecta y de baricentro \"1,0\" y radio \"4\""
   ]
  },
  {
   "cell_type": "code",
   "execution_count": 173,
   "metadata": {},
   "outputs": [
    {
     "data": {
      "text/plain": [
       "array([[ 5.  ,  0.  ],\n",
       "       [ 4.5 ,  2.  ],\n",
       "       [ 3.  ,  3.5 ],\n",
       "       [ 1.  ,  4.  ],\n",
       "       [ 0.  ,  3.75],\n",
       "       [-2.  ,  2.5 ],\n",
       "       [-3.  ,  0.  ],\n",
       "       [-2.  , -2.5 ],\n",
       "       [ 0.  , -3.75],\n",
       "       [ 1.  , -4.  ],\n",
       "       [ 3.  , -3.5 ],\n",
       "       [ 4.  , -2.5 ]])"
      ]
     },
     "execution_count": 173,
     "metadata": {},
     "output_type": "execute_result"
    }
   ],
   "source": [
    "puntos = pandas.read_csv('Data/puntos_2.csv', header=None, names=['x', 'y']).values\n",
    "puntos"
   ]
  },
  {
   "cell_type": "code",
   "execution_count": 174,
   "metadata": {},
   "outputs": [
    {
     "data": {
      "text/plain": [
       "array([ 1.20833333, -0.04166667])"
      ]
     },
     "execution_count": 174,
     "metadata": {},
     "output_type": "execute_result"
    }
   ],
   "source": [
    "baricentro = puntos.sum(axis=0)/len(puntos)\n",
    "\n",
    "baricentro"
   ]
  },
  {
   "cell_type": "code",
   "execution_count": 176,
   "metadata": {},
   "outputs": [
    {
     "data": {
      "text/plain": [
       "3.9569341267041866"
      ]
     },
     "execution_count": 176,
     "metadata": {},
     "output_type": "execute_result"
    }
   ],
   "source": [
    "vectores = []\n",
    "radios = []\n",
    "\n",
    "for i in range(len(puntos)):\n",
    "    vectores.append(puntos[i] - baricentro)\n",
    "    radios.append(np.sqrt(pow((vectores[i][0]),2)+pow((vectores[i][1]),2)))\n",
    "    \n",
    "stats.mean(radios)"
   ]
  },
  {
   "cell_type": "code",
   "execution_count": null,
   "metadata": {},
   "outputs": [],
   "source": []
  }
 ],
 "metadata": {
  "kernelspec": {
   "display_name": "Python 3",
   "language": "python",
   "name": "python3"
  },
  "language_info": {
   "codemirror_mode": {
    "name": "ipython",
    "version": 3
   },
   "file_extension": ".py",
   "mimetype": "text/x-python",
   "name": "python",
   "nbconvert_exporter": "python",
   "pygments_lexer": "ipython3",
   "version": "3.7.4"
  }
 },
 "nbformat": 4,
 "nbformat_minor": 4
}
