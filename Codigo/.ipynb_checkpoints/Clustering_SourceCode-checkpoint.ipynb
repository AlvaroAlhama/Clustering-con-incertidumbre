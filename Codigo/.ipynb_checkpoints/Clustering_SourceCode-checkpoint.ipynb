{
 "cells": [
  {
   "cell_type": "markdown",
   "metadata": {},
   "source": [
    "# Clustering con Incertidumbre"
   ]
  },
  {
   "cell_type": "code",
   "execution_count": 144,
   "metadata": {},
   "outputs": [],
   "source": [
    "import pandas\n",
    "import numpy as np\n",
    "import statistics as stats\n",
    "\n",
    "#Imports para calcular círculo a partir de tres puntos\n",
    "from sympy import Eq\n",
    "from sympy.geometry import Point, Circle"
   ]
  },
  {
   "cell_type": "markdown",
   "metadata": {},
   "source": [
    "# 1) Estructura de datos:"
   ]
  },
  {
   "cell_type": "code",
   "execution_count": 145,
   "metadata": {},
   "outputs": [],
   "source": [
    "class Punto(): \n",
    "    def __init__(self, x, y):\n",
    "        self.x = x\n",
    "        self.y = y\n",
    "        \n",
    "    def print(self):\n",
    "        print('(',self.x, ', ',self.y,')')\n",
    "    def __repr__(self):\n",
    "        return '(%s, %s)' % (self.x,self.y)\n",
    "    def __str__(self):\n",
    "        return '(%s, %s)' % (self.x,self.y)"
   ]
  },
  {
   "cell_type": "code",
   "execution_count": 146,
   "metadata": {},
   "outputs": [],
   "source": [
    "class Cluster(): \n",
    "    def __init__(self, x, y, radio):\n",
    "        self.centro = Punto(x,y)\n",
    "        self.radio = radio\n",
    "        \n",
    "    def print(self):\n",
    "        print('Centro: ',self.centro, ' Radio: ',self.radio)\n",
    "    def __repr__(self):\n",
    "        return 'Centro: %s Radio: %s' % (self.centro,self.radio)\n",
    "    def __str__(self):\n",
    "        return 'Centro: %s Radio: %s' % (self.centro,self.radio)"
   ]
  },
  {
   "cell_type": "markdown",
   "metadata": {},
   "source": [
    "# 2) Estimación:"
   ]
  },
  {
   "cell_type": "code",
   "execution_count": 147,
   "metadata": {},
   "outputs": [],
   "source": [
    "def get_cluster(puntos): # REF: https://www.geeksforgeeks.org/equation-of-circle-when-three-points-on-the-circle-are-given/\n",
    "    \n",
    "    p1 = puntos[0]\n",
    "    p2 = puntos[1]\n",
    "    p3 = puntos[2]\n",
    "    \n",
    "    circle = Circle(Point(p1.x,p1.y), Point(p2.x,p2.y), Point(p3.x,p3.y))\n",
    "    \n",
    "    res = Cluster(float(circle.center.x),float(circle.center.y),float(circle.radius))\n",
    "    \n",
    "    return res"
   ]
  },
  {
   "cell_type": "code",
   "execution_count": 148,
   "metadata": {},
   "outputs": [],
   "source": [
    "def obtener_3_puntos(puntos):\n",
    "    aux_x_max = 0\n",
    "    aux_x_min = 0\n",
    "    aux_y_max = 0\n",
    "\n",
    "    for i in range(len(puntos)):\n",
    "\n",
    "        if(puntos[i].x > aux_x_max or i==0):\n",
    "            px_max = puntos[i]\n",
    "            aux_x_max = puntos[i].x\n",
    "\n",
    "        if(puntos[i].x < aux_x_min or i == 0):\n",
    "            px_min = puntos[i]\n",
    "            aux_x_min = puntos[i].x   \n",
    "\n",
    "        if(puntos[i].y > aux_y_max or i == 0):\n",
    "            py_max = puntos[i]\n",
    "            aux_y_max = puntos[i].y        \n",
    "    \n",
    "    return px_max,px_min,py_max "
   ]
  },
  {
   "cell_type": "markdown",
   "metadata": {},
   "source": [
    "El primer ejemplo es un circulo perfecto centrado en el origen y de radio 5."
   ]
  },
  {
   "cell_type": "code",
   "execution_count": 149,
   "metadata": {},
   "outputs": [
    {
     "data": {
      "text/plain": [
       "[(5, 0),\n",
       " (4, 3),\n",
       " (3, 4),\n",
       " (0, 5),\n",
       " (-3, 4),\n",
       " (-4, 3),\n",
       " (-5, 0),\n",
       " (-4, -3),\n",
       " (-3, -4),\n",
       " (0, -5),\n",
       " (3, -4),\n",
       " (4, -3)]"
      ]
     },
     "execution_count": 149,
     "metadata": {},
     "output_type": "execute_result"
    }
   ],
   "source": [
    "puntoscsv = pandas.read_csv('Data/puntos_1.csv', header=None, names=['x', 'y']).values\n",
    "puntos1 = []\n",
    "for i in range(len(puntoscsv)):\n",
    "    puntos1.append(Punto(puntoscsv[i][0],puntoscsv[i][1]))\n",
    "puntos1"
   ]
  },
  {
   "cell_type": "code",
   "execution_count": 150,
   "metadata": {},
   "outputs": [
    {
     "data": {
      "text/plain": [
       "Centro: (0.0, 0.0) Radio: 5.0"
      ]
     },
     "execution_count": 150,
     "metadata": {},
     "output_type": "execute_result"
    }
   ],
   "source": [
    "#Obtenemos 3 puntos lo más alejados posibles\n",
    "puntos1 = obtener_3_puntos(puntos1)\n",
    "\n",
    "cluster = get_cluster(puntos1)\n",
    "cluster"
   ]
  },
  {
   "cell_type": "markdown",
   "metadata": {},
   "source": [
    "Lo probamos con una lista de puntos no perfecta y de baricentro \"1,0\" y radio \"4\""
   ]
  },
  {
   "cell_type": "code",
   "execution_count": 151,
   "metadata": {},
   "outputs": [
    {
     "data": {
      "text/plain": [
       "[(5.0, 0.0),\n",
       " (4.5, 2.0),\n",
       " (3.0, 3.5),\n",
       " (1.0, 4.0),\n",
       " (0.0, 3.75),\n",
       " (-2.0, 2.5),\n",
       " (-3.0, 0.0),\n",
       " (-2.0, -2.5),\n",
       " (0.0, -3.75),\n",
       " (1.0, -4.0),\n",
       " (3.0, -3.5),\n",
       " (4.0, -2.5)]"
      ]
     },
     "execution_count": 151,
     "metadata": {},
     "output_type": "execute_result"
    }
   ],
   "source": [
    "puntoscsv = pandas.read_csv('Data/puntos_2.csv', header=None, names=['x', 'y']).values\n",
    "puntos2 = []\n",
    "for i in range(len(puntoscsv)):\n",
    "    puntos2.append(Punto(puntoscsv[i][0],puntoscsv[i][1]))\n",
    "puntos2"
   ]
  },
  {
   "cell_type": "code",
   "execution_count": 152,
   "metadata": {},
   "outputs": [
    {
     "data": {
      "text/plain": [
       "Centro: (1.0, 0.0) Radio: 4.0"
      ]
     },
     "execution_count": 152,
     "metadata": {},
     "output_type": "execute_result"
    }
   ],
   "source": [
    "puntos2 = obtener_3_puntos(puntos2)\n",
    "\n",
    "cluster = get_cluster(puntos2)\n",
    "cluster"
   ]
  },
  {
   "cell_type": "code",
   "execution_count": 153,
   "metadata": {},
   "outputs": [
    {
     "data": {
      "text/plain": [
       "[(13.0, 10.0),\n",
       " (12.0, 12.5),\n",
       " (11.0, 13.0),\n",
       " (10.0, 13.0),\n",
       " (9.0, 12.75),\n",
       " (8.0, 12.0),\n",
       " (7.0, 10.0),\n",
       " (8.0, 7.5),\n",
       " (9.0, 7.2)]"
      ]
     },
     "execution_count": 153,
     "metadata": {},
     "output_type": "execute_result"
    }
   ],
   "source": [
    "puntoscsv = pandas.read_csv('Data/puntos_3.csv', header=None, names=['x', 'y']).values\n",
    "puntos3 = []\n",
    "for i in range(len(puntoscsv)):\n",
    "    puntos3.append(Punto(puntoscsv[i][0],puntoscsv[i][1]))\n",
    "puntos3"
   ]
  },
  {
   "cell_type": "code",
   "execution_count": 154,
   "metadata": {},
   "outputs": [
    {
     "data": {
      "text/plain": [
       "Centro: (10.0, 10.166666666666666) Radio: 3.0046260628866577"
      ]
     },
     "execution_count": 154,
     "metadata": {},
     "output_type": "execute_result"
    }
   ],
   "source": [
    "puntos3 = obtener_3_puntos(puntos3)\n",
    "\n",
    "cluster = get_cluster(puntos3)\n",
    "cluster"
   ]
  },
  {
   "cell_type": "markdown",
   "metadata": {},
   "source": [
    "# 3) Grados de pertenencia"
   ]
  },
  {
   "cell_type": "code",
   "execution_count": 302,
   "metadata": {},
   "outputs": [],
   "source": [
    "def grados_pertenencia(p,clusters):\n",
    "    \n",
    "    #Calculamos la distancia de el punto a cada cluster\n",
    "    distancias = []\n",
    "    \n",
    "    for i in range(len(clusters)):\n",
    "        d = np.sqrt(pow(p.x - clusters[i].centro.x,2) + pow(p.y - clusters[i].centro.y,2))\n",
    "        distancias.append(abs(d-clusters[i].radio))\n",
    "    \n",
    "    #Calculamos el grado de pertencia a cada cluster\n",
    "    pertenencias = []\n",
    "    \n",
    "    for i in range(len(clusters)):\n",
    "        if(distancias[i]==0.0):\n",
    "            per = 100.0\n",
    "        else:\n",
    "            per = 100/(pow(distancias[i],2))\n",
    "        pertenencias.append(per)\n",
    "        \n",
    "    #Normalizamos\n",
    "    suma = sum(pertenencias)\n",
    "    pertenencias = np.divide(pertenencias,suma)\n",
    "    \n",
    "    return pertenencias"
   ]
  },
  {
   "cell_type": "code",
   "execution_count": 253,
   "metadata": {},
   "outputs": [],
   "source": [
    "#Clusters:\n",
    "cluster1 = Cluster(0,0,5)\n",
    "cluster2 = Cluster(1,0,4)\n",
    "cluster3 = Cluster(10,10,3)\n",
    "\n",
    "clusters = [cluster1,cluster2,cluster3]"
   ]
  },
  {
   "cell_type": "code",
   "execution_count": 254,
   "metadata": {},
   "outputs": [
    {
     "name": "stdout",
     "output_type": "stream",
     "text": [
      "Suma =  11.11111111111111\n",
      "Despues =  [1.]\n",
      "[1.]\n"
     ]
    }
   ],
   "source": [
    "p = Punto(2,0)\n",
    "print(grados_pertenencia(p,clusters))"
   ]
  },
  {
   "cell_type": "code",
   "execution_count": 158,
   "metadata": {},
   "outputs": [
    {
     "name": "stdout",
     "output_type": "stream",
     "text": [
      "[0.01590335 0.01498611 0.96911054]\n",
      "1.0\n"
     ]
    }
   ],
   "source": [
    "p = Punto(10,8)\n",
    "print(grados_pertenencia(p,clusters))\n",
    "print(sum(grados_pertenencia(p,clusters)))"
   ]
  },
  {
   "cell_type": "code",
   "execution_count": 159,
   "metadata": {},
   "outputs": [
    {
     "name": "stdout",
     "output_type": "stream",
     "text": [
      "[0.63415565 0.3235488  0.04229555]\n"
     ]
    }
   ],
   "source": [
    "p = Punto(-10,0)\n",
    "print(grados_pertenencia(p,clusters))"
   ]
  },
  {
   "cell_type": "code",
   "execution_count": 160,
   "metadata": {},
   "outputs": [
    {
     "name": "stdout",
     "output_type": "stream",
     "text": [
      "[0.91441817 0.08558183]\n"
     ]
    }
   ],
   "source": [
    "clusters = [cluster1,cluster3]\n",
    "p = Punto(2,0)\n",
    "print(grados_pertenencia(p,clusters))"
   ]
  },
  {
   "cell_type": "markdown",
   "metadata": {},
   "source": [
    "# 4) Modificacion 2"
   ]
  },
  {
   "cell_type": "code",
   "execution_count": 161,
   "metadata": {},
   "outputs": [],
   "source": [
    "#Le pasamos los 3 puntos con mayor grado de pertenencia a un cluster:\n",
    "def puntos_mayor_grado_por_cluster(puntos,cluster,n_cluster):\n",
    "    per = []\n",
    "    res = []\n",
    "\n",
    "    for i in range(len(puntos)):\n",
    "        per.append(grados_pertenencia(puntos[i],cluster)[n_cluster])\n",
    "    \n",
    "    res.append(puntos[per.index(max(per))])\n",
    "    puntos = np.delete(puntos,per.index(max(per)),0)\n",
    "    per.remove(max(per))\n",
    "    \n",
    "    res.append(puntos[per.index(max(per))])\n",
    "    puntos = np.delete(puntos,per.index(max(per)),0)\n",
    "    per.remove(max(per))\n",
    "    \n",
    "    res.append(puntos[per.index(max(per))])\n",
    "    \n",
    "    return res\n"
   ]
  },
  {
   "cell_type": "code",
   "execution_count": 162,
   "metadata": {},
   "outputs": [],
   "source": [
    "def get_real_clusters(puntos,clusters):\n",
    "    res = []\n",
    "    \n",
    "    for i in range(len(clusters)):\n",
    "        pts_pertenencia = puntos_mayor_grado_por_cluster(puntos,clusters,i)\n",
    "        res.append(get_cluster(pts_pertenencia))\n",
    "        \n",
    "    return res "
   ]
  },
  {
   "cell_type": "code",
   "execution_count": 269,
   "metadata": {},
   "outputs": [
    {
     "name": "stdout",
     "output_type": "stream",
     "text": [
      "Centro: (1, 1) Radio: 4\n",
      "Centro: (7, 7) Radio: 2\n"
     ]
    }
   ],
   "source": [
    "#Clusters iniciales:\n",
    "cluster1 = Cluster(1,1,4)\n",
    "cluster2 = Cluster(7,7,2)\n",
    "\n",
    "clusters = [cluster1,cluster2]\n",
    "\n",
    "#Todos los puntos:\n",
    "puntoscsv = pandas.read_csv('Data/puntos_1_y_3.csv', header=None, names=['x', 'y']).values\n",
    "puntos = []\n",
    "for i in range(len(puntoscsv)):\n",
    "    puntos.append(Punto(puntoscsv[i][0],puntoscsv[i][1]))\n",
    "puntos\n",
    "\n",
    "print(cluster1)\n",
    "print(cluster2)"
   ]
  },
  {
   "cell_type": "code",
   "execution_count": 270,
   "metadata": {},
   "outputs": [],
   "source": [
    "def iterar_get_real_cluster(puntos,prev_clusters,razon,imprimir):\n",
    "    #raiz suma cuadrados centro y el radio\n",
    "    #imprimir datos de como está funcionando el método\n",
    "    iterar = 1\n",
    "    while(iterar):\n",
    "        nuevo_factor = []\n",
    "        next_clusters = get_real_clusters(puntos,prev_clusters)\n",
    "        if(imprimir):\n",
    "            print(next_clusters)\n",
    "        for i in range(len(prev_clusters)):\n",
    "            nuevo_factor.append(np.sqrt((prev_clusters[i].centro.x - next_clusters[i].centro.x)**2 + (prev_clusters[i].centro.y - next_clusters[i].centro.y)**2) + abs(prev_clusters[i].radio - next_clusters[i].radio))\n",
    "            if(imprimir):\n",
    "                print(nuevo_factor)\n",
    "        if(max(nuevo_factor) < razon):    \n",
    "            iterar = 0\n",
    "        prev_clusters = next_clusters\n",
    "    return next_clusters"
   ]
  },
  {
   "cell_type": "code",
   "execution_count": 271,
   "metadata": {},
   "outputs": [
    {
     "name": "stdout",
     "output_type": "stream",
     "text": [
      "[Centro: (0.0, 0.0) Radio: 5.0, Centro: (9.113636363636363, 9.395454545454545) Radio: 2.1983934780419814]\n",
      "[2.414213562373095]\n",
      "[2.414213562373095, 3.393023528145559]\n",
      "[Centro: (0.0, 0.0) Radio: 5.0, Centro: (9.22, 9.75) Radio: 2.559472601924076]\n",
      "[0.0]\n",
      "[0.0, 0.7312354455616514]\n",
      "[Centro: (0.0, 0.0) Radio: 5.0, Centro: (10.46875, 9.75) Radio: 3.340243488504992]\n",
      "[0.0]\n",
      "[0.0, 2.0295208865809156]\n",
      "[Centro: (0.0, 0.0) Radio: 5.0, Centro: (10.5, 10.75) Radio: 2.3048861143232218]\n",
      "[0.0]\n",
      "[0.0, 2.035845536280653]\n",
      "[Centro: (0.0, 0.0) Radio: 5.0, Centro: (10.16304347826087, 10.157608695652174) Radio: 2.8413311681645568]\n",
      "[0.0]\n",
      "[0.0, 1.2179633257970122]\n",
      "[Centro: (0.0, 0.0) Radio: 5.0, Centro: (10.5, 10.5) Radio: 2.5495097567963922]\n",
      "[0.0]\n",
      "[0.0, 0.7722082376191963]\n",
      "[Centro: (0.0, 0.0) Radio: 5.0, Centro: (10.28125, 10.0) Radio: 3.0338262248355625]\n",
      "[0.0]\n",
      "[0.0, 1.0300742554320759]\n",
      "[Centro: (0.0, 0.0) Radio: 5.0, Centro: (10.5, 9.927586206896551) Radio: 3.1128325550938842]\n",
      "[0.0]\n",
      "[0.0, 0.3094305475872064]\n",
      "[Centro: (0.0, 0.0) Radio: 5.0, Centro: (10.279166666666667, 9.975) Radio: 3.055632890435484]\n",
      "[0.0]\n",
      "[0.0, 0.28306561801916597]\n",
      "[Centro: (0.0, 0.0) Radio: 5.0, Centro: (10.279166666666667, 9.975) Radio: 3.055632890435484]\n",
      "[0.0]\n",
      "[0.0, 0.0]\n"
     ]
    },
    {
     "data": {
      "text/plain": [
       "[Centro: (0.0, 0.0) Radio: 5.0,\n",
       " Centro: (10.279166666666667, 9.975) Radio: 3.055632890435484]"
      ]
     },
     "execution_count": 271,
     "metadata": {},
     "output_type": "execute_result"
    }
   ],
   "source": [
    "cluster = iterar_get_real_cluster(puntos,clusters,0.000000000000000000000002,1)\n",
    "cluster"
   ]
  },
  {
   "cell_type": "code",
   "execution_count": 309,
   "metadata": {},
   "outputs": [
    {
     "name": "stdout",
     "output_type": "stream",
     "text": [
      "Centro: (-2, -5) Radio: 2\n",
      "Centro: (-8, -2) Radio: 10\n"
     ]
    }
   ],
   "source": [
    "#Clusters iniciales:\n",
    "cluster1 = Cluster(-2,-5,2)\n",
    "cluster2 = Cluster(-8,-2,10)\n",
    "\n",
    "clusters = [cluster1,cluster2]\n",
    "\n",
    "#Todos los puntos:\n",
    "puntoscsv = pandas.read_csv('Data/puntos_1_y_3.csv', header=None, names=['x', 'y']).values\n",
    "puntos = []\n",
    "for i in range(len(puntoscsv)):\n",
    "    puntos.append(Punto(puntoscsv[i][0],puntoscsv[i][1]))\n",
    "puntos\n",
    "\n",
    "print(cluster1)\n",
    "print(cluster2)"
   ]
  },
  {
   "cell_type": "code",
   "execution_count": 310,
   "metadata": {},
   "outputs": [
    {
     "name": "stdout",
     "output_type": "stream",
     "text": [
      "[Centro: (0.0, 0.0) Radio: 5.0, Centro: (0.0, 0.0) Radio: 5.0]\n",
      "[8.385164807134505]\n",
      "[8.385164807134505, 13.246211251235321]\n",
      "[Centro: (0.0, 0.0) Radio: 5.0, Centro: (0.0, 0.0) Radio: 5.0]\n",
      "[0.0]\n",
      "[0.0, 0.0]\n"
     ]
    },
    {
     "data": {
      "text/plain": [
       "[Centro: (0.0, 0.0) Radio: 5.0, Centro: (0.0, 0.0) Radio: 5.0]"
      ]
     },
     "execution_count": 310,
     "metadata": {},
     "output_type": "execute_result"
    }
   ],
   "source": [
    "cluster = iterar_get_real_cluster(puntos,clusters,0.000002,1)\n",
    "cluster"
   ]
  },
  {
   "cell_type": "code",
   "execution_count": null,
   "metadata": {},
   "outputs": [],
   "source": []
  },
  {
   "cell_type": "code",
   "execution_count": null,
   "metadata": {},
   "outputs": [],
   "source": []
  }
 ],
 "metadata": {
  "kernelspec": {
   "display_name": "Python 3",
   "language": "python",
   "name": "python3"
  },
  "language_info": {
   "codemirror_mode": {
    "name": "ipython",
    "version": 3
   },
   "file_extension": ".py",
   "mimetype": "text/x-python",
   "name": "python",
   "nbconvert_exporter": "python",
   "pygments_lexer": "ipython3",
   "version": "3.7.4"
  }
 },
 "nbformat": 4,
 "nbformat_minor": 4
}
