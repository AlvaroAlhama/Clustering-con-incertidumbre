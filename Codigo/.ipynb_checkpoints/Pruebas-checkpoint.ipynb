{
 "cells": [
  {
   "cell_type": "markdown",
   "metadata": {},
   "source": [
    "# Pruebas"
   ]
  },
  {
   "cell_type": "code",
   "execution_count": 36,
   "metadata": {},
   "outputs": [],
   "source": [
    "import pandas\n",
    "import sys\n",
    "import numpy as np\n",
    "import random as rd\n",
    "import math\n",
    "import matplotlib.pyplot as plt #Imports para dibujar un circulo\n",
    "\n",
    "\n",
    "\n",
    "####################################################################################################################\n",
    "############################################### Estructuras de Datos ###############################################\n",
    "####################################################################################################################\n",
    "\n",
    "\n",
    "# Parámetros: x,y del punto\n",
    "class Punto(): \n",
    "    def __init__(self, x, y):\n",
    "        self.x = x\n",
    "        self.y = y\n",
    "        \n",
    "    def print(self):\n",
    "        print('(',self.x, ', ',self.y,')')\n",
    "    def __repr__(self):\n",
    "        return '(%s, %s)' % (self.x,self.y)\n",
    "    def __str__(self):\n",
    "        return '(%s, %s)' % (self.x,self.y)\n",
    "\n",
    "# Parámetros: x,y (centro), radio\n",
    "class Circunferencia(): \n",
    "    def __init__(self, x, y, radio):\n",
    "        self.centro = Punto(x,y)\n",
    "        self.radio = radio\n",
    "        \n",
    "    def print(self):\n",
    "        print('Centro: ',self.centro, ' Radio: ',self.radio)\n",
    "    def __repr__(self):\n",
    "        return 'Centro: %s Radio: %s' % (self.centro,self.radio)\n",
    "    def __str__(self):\n",
    "        return 'Centro: %s Radio: %s' % (self.centro,self.radio)\n",
    "    \n",
    "# Parámetros: circunferencia\n",
    "class Cluster(): \n",
    "    def __init__(self,circunferencia):\n",
    "        self.circunferencia = circunferencia\n",
    "        self.puntos = []\n",
    "        \n",
    "    def anyadir_punto(self,punto):\n",
    "        self.puntos.append(punto)\n",
    "        \n",
    "    def anyadir_puntos(self,puntos):\n",
    "        self.puntos = puntos\n",
    "        \n",
    "        \n",
    "    def print(self):\n",
    "        print('Circunferencia: ',self.circunferencia, ' Puntos: ',self.puntos)\n",
    "    def __repr__(self):\n",
    "        return 'Circunferencia: %s Puntos: %s' % (self.circunferencia,self.puntos)\n",
    "    def __str__(self):\n",
    "        return 'Circunferencia: %s Puntos: %s' % (self.circunferencia,self.puntos)\n",
    "    \n",
    "   \n",
    "\n",
    "\n",
    "\n",
    "    \n",
    "##########################################################################################################################################\n",
    "############################################### Funciones para leer, crear y mostrar datos ###############################################\n",
    "##########################################################################################################################################\n",
    "\n",
    "\n",
    "#Parámetros: Archivo CSV donde se encuentran los puntos\n",
    "def leer_puntos(archivo_csv):\n",
    "   \n",
    "    puntoscsv = pandas.read_csv(archivo_csv, header=None, names=['x', 'y']).values\n",
    "    puntos = []\n",
    "    for i in range(len(puntoscsv)):\n",
    "        puntos.append(Punto(puntoscsv[i][0],puntoscsv[i][1]))\n",
    "        \n",
    "    return puntos\n",
    "\n",
    "\n",
    "# Parámetros: Array de puntos\n",
    "def dibujar_puntos(puntos):  # learningaboutelectronics.com/Articles/How-to-draw-a-circle-using-matplotlib-in-Python.php\n",
    "    \n",
    "    Xs = []\n",
    "    Ys = []\n",
    "    \n",
    "    for i in range(len(puntos)): \n",
    "        Xs.append(puntos[i].x)\n",
    "        Ys.append(puntos[i].y)\n",
    "        \n",
    "    plt.plot(Xs, Ys, 'ro', color='black')\n",
    "    plt.axis('scaled')\n",
    "    \n",
    "    plt.show()\n",
    "    \n",
    "    \n",
    "# Parámetros: Circunferencia con Puntos\n",
    "def dibujar_clusters(clusters):  # learningaboutelectronics.com/Articles/How-to-draw-a-circle-using-matplotlib-in-Python.php\n",
    "    \n",
    "    # Lista de colores con los que se representará las circunferencias con sus puntos asociados\n",
    "    colores = ['red','blue','green','black','purple','cyan','pink','magenta','orange','brown','yellow']\n",
    "    \n",
    "    for i in range(len(clusters)):\n",
    "       \n",
    "        cluster = clusters[i]\n",
    "        Xs = []\n",
    "        Ys = []\n",
    "        \n",
    "        # Dibujamos los puntos asociados a la circunferencia\n",
    "        for p in cluster.puntos:\n",
    "            Xs.append(p.x)\n",
    "            Ys.append(p.y)\n",
    "        \n",
    "        plt.plot(Xs, Ys, 'ro', color=colores[i])\n",
    "        \n",
    "        #Dibujamos la circunferencia\n",
    "        circulo = plt.Circle((cluster.circunferencia.centro.x, cluster.circunferencia.centro.y), cluster.circunferencia.radio, color=colores[i%11], fill=False)\n",
    "        ax=plt.gca()\n",
    "        ax.add_patch(circulo)\n",
    "        plt.axis('scaled')\n",
    "    \n",
    "    plt.show()\n",
    "\n",
    "\n",
    "# Parámetros: array de las circunferencias con puntos, redondear = 0: no redondear, 1: redondear, mostrar_puntos = 0: no mostrar, 1: mostrar\n",
    "def mostrar_clusters(clusters, redondear, mostrar_puntos):\n",
    "    \n",
    "    for i in range(len(clusters)):\n",
    "        \n",
    "        centrox = clusters[i].circunferencia.centro.x\n",
    "        centroy = clusters[i].circunferencia.centro.y\n",
    "        radio = clusters[i].circunferencia.radio\n",
    "        puntos = clusters[i].puntos\n",
    "        \n",
    "        if(redondear):\n",
    "            centrox = round(centrox, 2)\n",
    "            centroy = round(centroy, 2)\n",
    "            radio = round(radio, 2)\n",
    "        \n",
    "        print(\"Circunferencia Nº %d \\n\" % (i+1))\n",
    "        print(\"Centro: (%f, %f), Radio: %f\" % (centrox, centroy, radio))\n",
    "        if(mostrar_puntos):\n",
    "            print(\"Puntos: %s \\n\\n\" % puntos)\n",
    "        else:\n",
    "            print(\"\\n\")\n",
    "        \n",
    "        \n",
    "        \n",
    "# Parámetros: nombre del archivo resultante, array de las circunferencias con puntos, redondear = 0: no redondear, 1: redondear\n",
    "def escribir_fichero_clusters(nombre_archivo, clusters, redondear):\n",
    "     \n",
    "    f = open(\"%s.txt\" % nombre_archivo,\"w+\")\n",
    "        \n",
    "    for i in range(len(clusters)):\n",
    "        \n",
    "        centrox = clusters[i].circunferencia.centro.x\n",
    "        centroy = clusters[i].circunferencia.centro.y\n",
    "        radio = clusters[i].circunferencia.radio\n",
    "        puntos = clusters[i].puntos\n",
    "        \n",
    "        if(redondear):\n",
    "            centrox = round(centrox, 2)\n",
    "            centroy = round(centroy, 2)\n",
    "            radio = round(radio, 2)\n",
    "        \n",
    "        f.write(\"Circunferencia %d\\n\\n\" % (i+1))\n",
    "        f.write(\"%f, %f\\n\" % (centrox, centroy))\n",
    "        f.write(\"%f\\n\\n\" % radio)\n",
    "            \n",
    "        for punto in puntos:\n",
    "            f.write(\"%f,%f\\n\" % (punto.x, punto.y))\n",
    "        \n",
    "        # Si no es el último cluster añadimos saltos de línea para diferenciarlos\n",
    "        if(i < len(clusters) - 1):\n",
    "            f.write(\"\\n\\n\\n\")\n",
    "        \n",
    "    f.close()  \n",
    "    \n",
    "    \n",
    "    \n",
    "# Extra: crear puntos a partir de circunferencias:\n",
    "# Parámetros: nombre del archivo a crear, array con las circunferencias, número de puntos que queremos de cada una y rangos en los que queramos que puedan variar los puntos\n",
    "# REF: https://gis.stackexchange.com/questions/76745/creating-a-circle-with-points\n",
    "def generar_puntos_de_circunferencias(nombre_archivo, circunferencias, n_puntos_circunferencia, rango_x, rango_y):\n",
    "    \n",
    "    #Calculamos los puntos\n",
    "    puntos = []\n",
    "    \n",
    "    for i in range(len(circunferencias)):\n",
    "        x = circunferencias[i].centro.x\n",
    "        y = circunferencias[i].centro.y\n",
    "        radio = circunferencias[i].radio\n",
    "        arc = (2 * math.pi) / n_puntos_circunferencia[i]\n",
    "        \n",
    "        for p in range(n_puntos_circunferencia[i]):\n",
    "            px = (0*math.cos(arc * p)) - (radio*math.sin(arc * p))\n",
    "            py = (radio*math.cos(arc * p)) + (0*math.sin(arc * p))\n",
    "            px += x\n",
    "            py += y\n",
    "            puntos.append((px,py))\n",
    "            \n",
    "            \n",
    "    # Los escribimos en un fichero      \n",
    "    f = open(\"%s.csv\" % nombre_archivo,\"w+\")\n",
    "    \n",
    "    if(len(puntos)/2>3):\n",
    "        intervalo = rd.randint(3,math.floor(len(puntos)/2))\n",
    "    else:\n",
    "        intervalo = 2\n",
    "        \n",
    "    for i in range(len(puntos)):\n",
    "        \n",
    "        if(i%intervalo==0):\n",
    "            x = puntos[i][0]\n",
    "            y = puntos[i][1]\n",
    "            x = x + rd.uniform(-rango_x, rango_x)\n",
    "            y = y + rd.uniform(-rango_y, rango_y)\n",
    "            \n",
    "            f.write(\"%f,%f\\n\" % (x,y))\n",
    "        else:\n",
    "            f.write(\"%f,%f\\n\" % puntos[i])\n",
    "    \n",
    "    f.close() \n",
    "    \n",
    "\n",
    "    \n",
    "    \n",
    "\n",
    "#########################################################################################################\n",
    "############################################### Algoritmo ###############################################\n",
    "#########################################################################################################\n",
    "\n",
    "\n",
    "\n",
    "# Parametros: array con todos los puntos, nº de circunferencias totales, mínimo grado de pertenencia de cada uno de los puntos asociados a un cluster con esa circunferencia para que pare,\n",
    "#             nº máximo de veces que se inicializarán las circunferencias iniciales, mínima diferencia entre las circunferencias calculadas en el clustering, nº máximo de iteraciones en el clustering             \n",
    "def clustering_circunferencias_con_incertidumbre(puntos, n_circunferencias, min_grado_pertenencia_clusters_finales, max_inicializaciones, razon_parada_clustering, max_iteraciones_clustering, min_grado_pertenencia_eliminar_punto_clustering, max_distancia_eliminar_punto_ruido, info):\n",
    "    \n",
    "    iterar = True\n",
    "    n_iteraciones = 0\n",
    "    \n",
    "    # Guardamos el mejor resultado para que en caso de que se supere el máximo nº de iteraciones se devuelva este y no el último\n",
    "    mejores_clusters = None\n",
    "    mejores_clusters_min_grado = 0\n",
    "    \n",
    "    while(iterar and n_iteraciones < max_inicializaciones):\n",
    "        \n",
    "        # Inicializamos los clusters con circunferencias al azar a partir de todos los puntos\n",
    "        clusters_iniciales = obtener_clusters_iniciales(puntos, n_circunferencias, min_grado_pertenencia_eliminar_punto_clustering)\n",
    "        #Info\n",
    "        if('clusters iniciales' in info):\n",
    "            print(\"Clusters iniciales nº: %d\" % (n_iteraciones+1))\n",
    "            dibujar_clusters(clusters_iniciales)\n",
    "        \n",
    "        # Sobre esos clusters iniciales hacemos clustering para que se ajusten a los puntos\n",
    "        clusters = clustering_circunferencias(puntos, clusters_iniciales, razon_parada_clustering, max_iteraciones_clustering, min_grado_pertenencia_eliminar_punto_clustering, info)\n",
    "        \n",
    "        # Si una de las circunferencias tiene menos de 3 puntos(los necesarios para calcular la nueva circunferencia), se sale de este bucle y se vuelve a comenzar.\n",
    "        if(clusters == None):\n",
    "            n_iteraciones = n_iteraciones + 1\n",
    "            continue\n",
    "        \n",
    "        #Calculamos el mínimo grado de pertenencia de los puntos con su circunferencia asociada tras el clustering\n",
    "        min_grado_actual = comprobar_grado_pertenencia(clusters)\n",
    "        if(min_grado_actual == None):\n",
    "            n_iteraciones = n_iteraciones + 1\n",
    "            continue\n",
    "        \n",
    "        #Si se ha mejorado, se guarda el resultado (En la primera iteración siempre se guardará)\n",
    "        if(mejores_clusters_min_grado < min_grado_actual):\n",
    "            \n",
    "            mejores_clusters = clusters\n",
    "            mejores_clusters_min_grado = min_grado_actual\n",
    "            \n",
    "            # Si se ha alcanzado el menor grado de pertenencia de todos los puntos esperado por el usuario, se devuelve el resultado\n",
    "            if(min_grado_actual > min_grado_pertenencia_clusters_finales):\n",
    "                iterar = False\n",
    "            \n",
    "        n_iteraciones = n_iteraciones + 1\n",
    "        \n",
    "        \n",
    "    #Info   \n",
    "    if('n iteraciones inicializaciones' in info):\n",
    "        print(\"Nº de iteraciones inicializaciones: %d\" % n_iteraciones)\n",
    "        \n",
    "    #Una vez que se hayan obtenido los mejores clusters posibles, se elimina el ruido, es decir, aquellos puntos cuya distancia a la circunferencia sea mayor que min_ruido\n",
    "    mejores_clusters = eliminar_ruido(mejores_clusters, max_distancia_eliminar_punto_ruido)\n",
    "        \n",
    "    return mejores_clusters\n",
    "\n",
    "\n",
    "# Funciones utilizadas por el algoritmo en orden de llamada:\n",
    "\n",
    "\n",
    "# Crea n clusters iniciales al azar a partir de 3 puntos de la lista de todos los puntos.\n",
    "# Parámetros: Array de todos los puntos, número de circunferencias totales, minimo grado de pertenencia clustering\n",
    "def obtener_clusters_iniciales(puntos,n_circunferencias, min_grado_pertenencia_eliminar_punto_clustering): \n",
    "    \n",
    "    # Primero se obtienen las circunferencias al azar\n",
    "    circunferencias = []\n",
    "    \n",
    "    for i in range(n_circunferencias):\n",
    "        \n",
    "        puntos_aleatorios = rd.sample(puntos,3)\n",
    "        circunferencia = obtener_circunferencia(puntos_aleatorios)\n",
    "        circunferencias.append(circunferencia)\n",
    "    \n",
    "    # Se obtienen los clusters a partir de dichas circunferencias\n",
    "    clusters_iniciales = obtener_clusters(circunferencias, puntos, min_grado_pertenencia_eliminar_punto_clustering)\n",
    "    \n",
    "    return clusters_iniciales\n",
    "\n",
    "\n",
    "# Le asocia a cada circunferencia los puntos que tengan mayor grado de pertenencia con ella\n",
    "# Parámetros: array de las circunferencias y todos los puntos\n",
    "def obtener_clusters(circunferencias, puntos, min_grado_pertenencia_eliminar_punto_clustering):\n",
    "    \n",
    "    # Creamos clusters con las circunferencias pasadas\n",
    "    clusters = []\n",
    "    for circunferencia in circunferencias:\n",
    "        clusters.append(Cluster(circunferencia))\n",
    "    \n",
    "    # Calculamos los grados de pertenencia de todos los puntos con todos los clusters\n",
    "    for p in puntos:\n",
    "        \n",
    "        gradosPert = grados_pertenencia(p,circunferencias)\n",
    "        \n",
    "        # Si el máximo grado de pertenencia de un punto es menor que min_grado_pertenencia_clustering no se asigna a ningún cluster\n",
    "        if(max(gradosPert) > min_grado_pertenencia_eliminar_punto_clustering):\n",
    "            \n",
    "            # Se le asigna al cluster con mayor grado de pertenencia\n",
    "            indice = np.where(gradosPert == max(gradosPert))\n",
    "            clusters[indice[0][0]].anyadir_punto(p)\n",
    "\n",
    "    return clusters\n",
    "\n",
    "\n",
    "\n",
    "# Devuelve un array con los grados de pertenencia de un punto a todas las circunferencias\n",
    "# Parámetros: punto al que queremos calcular los grados de pertenencia, array de todas las circunferencias\n",
    "def grados_pertenencia(p,circunferencias):\n",
    "    \n",
    "    #Calculamos la distancia del punto a cada circunferencia\n",
    "    distancias = []\n",
    "    \n",
    "    for i in range(len(circunferencias)):\n",
    "        d = np.sqrt(pow(p.x - circunferencias[i].centro.x,2) + pow(p.y - circunferencias[i].centro.y,2))\n",
    "        distancias.append(abs(d - circunferencias[i].radio))\n",
    "    \n",
    "    #Calculamos el grado de pertencia a cada circunferencia con la siguiente fórmula: 100/distancia^2\n",
    "    pertenencias = []\n",
    "    \n",
    "    for i in range(len(circunferencias)):\n",
    "        if(distancias[i]==0.0):\n",
    "            per = 100.0\n",
    "        else:\n",
    "            per = 100/(pow(distancias[i],2))\n",
    "        pertenencias.append(per)\n",
    "        \n",
    "    #Normalizamos\n",
    "    suma = sum(pertenencias)\n",
    "    pertenencias = np.divide(pertenencias,suma)\n",
    "    \n",
    "    return pertenencias\n",
    "\n",
    "\n",
    "# Obtiene una circunferencia mas cercana a partir de sus puntos asociados mediante clustering, pero estos pueden ir variando\n",
    "# Parámetros: array con todos los puntos, los clusteres previos, la razon de parada, es decir, a partir de que diferencia minima entre circunferencias parará, y el máximo número de iteraciones que realizará.\n",
    "def clustering_circunferencias(puntos, clusters_prev, razon_parada_clustering, max_iteraciones_clustering, min_grado_pertenencia_eliminar_punto_clustering, info):\n",
    "    \n",
    "    iterar = True\n",
    "    iteraciones = 0;\n",
    "    \n",
    "    while(iterar and iteraciones <= max_iteraciones_clustering):\n",
    "        \n",
    "        diferencia = []\n",
    "        \n",
    "        # Obtenemos clusters mejores (Explicación en el método)\n",
    "        clusters_post = obtener_siguientes_clusters(puntos, clusters_prev, min_grado_pertenencia_eliminar_punto_clustering)\n",
    "        \n",
    "        # Si una de las circunferencias tiene menos de 3 puntos(los necesarios para calcular la nueva circunferencia), no se realiza la clusterización, y se empezará con nuevas circunferencias aleatorias.\n",
    "        if(clusters_post == None):\n",
    "            return None;\n",
    "        \n",
    "        # Calculamos la diferencia entre los clusters previos y posteriores a partir de su centro y radio.\n",
    "        for i in range(len(clusters_prev)):\n",
    "            \n",
    "            prev_centro = clusters_prev[i].circunferencia.centro\n",
    "            prev_radio = clusters_prev[i].circunferencia.radio\n",
    "            post_centro = clusters_post[i].circunferencia.centro\n",
    "            post_radio = clusters_post[i].circunferencia.radio\n",
    "            \n",
    "            diferencia.append(np.sqrt((prev_centro.x - post_centro.x)**2 + (prev_centro.y - post_centro.y)**2) + abs(prev_radio - post_radio))\n",
    "            \n",
    "        # Si es menor que la razón, es el final de la clusterización\n",
    "        if(max(diferencia) < razon_parada_clustering):    \n",
    "            iterar = False\n",
    "            \n",
    "        # Si no ha parado, en la siguiente iteración el cluster previo será el calculado en esta\n",
    "        clusters_prev = clusters_post\n",
    "        iteraciones = iteraciones + 1\n",
    "        \n",
    "    #Info   \n",
    "    if('n iteraciones clustering' in info):\n",
    "        print(\"Nº de iteraciones clustering: %d\" % iteraciones)\n",
    "        \n",
    "        \n",
    "    return clusters_post\n",
    "\n",
    "\n",
    "# Se calculan los siguientes clusters a partir de los puntos asociados a cada uno de ellos.\n",
    "def obtener_siguientes_clusters(puntos, clusters_prev, min_grado_pertenencia_eliminar_punto_clustering):\n",
    "    \n",
    "    nuevas_circunferencias = []\n",
    "    \n",
    "    for cluster_prev in clusters_prev:\n",
    "        \n",
    "        puntos_cluster = cluster_prev.puntos\n",
    "        \n",
    "        # Si una de las circunferencias tiene menos de 3 puntos(los necesarios para calcular la nueva circunferencia), no se realiza la clusterización.\n",
    "        if(len(puntos_cluster) < 3):\n",
    "            return None\n",
    "        \n",
    "        # Se obtiene la nueva circunferencia a partir de 3 puntos asociados a ella\n",
    "        puntos_aleatorios = rd.sample(puntos_cluster,3)\n",
    "        nuevas_circunferencias.append(obtener_circunferencia(puntos_aleatorios))\n",
    "        \n",
    "    # Se devuelve la nueva circunferencia con los nuevos puntos asociados a ella (Pueden ser los mismos que antes o no)\n",
    "    clusters_post = obtener_clusters(nuevas_circunferencias, puntos, min_grado_pertenencia_eliminar_punto_clustering)\n",
    "    \n",
    "    return clusters_post\n",
    "\n",
    "\n",
    "\n",
    "# Genera una circunferencia a partir de los 3 puntos pasados\n",
    "# Parámetros: Array de 3 puntos\n",
    "# REF: codewars.com/kata/give-the-center-and-the-radius-of-circumscribed-circle-a-warm-up-challenge/python\n",
    "def obtener_circunferencia(puntos): \n",
    "    \n",
    "    x1 = puntos[0].x\n",
    "    x2 = puntos[1].x\n",
    "    x3 = puntos[2].x\n",
    "    y1 = puntos[0].y\n",
    "    y2 = puntos[1].y\n",
    "    y3 = puntos[2].y\n",
    "    \n",
    "    D = 2*(x1*(y2-y3) + x2*(y3-y1) + x3*(y1-y2))\n",
    "    \n",
    "    # Comprobamos si los 3 puntos forman una recta, y si es así, quitamos los puntos iguales calculando un punto que los sustituya\n",
    "    if(D==0):\n",
    "        if(float(x1)==float(x2) and float(y1)==float(y2) and float(x1)==float(x3) and float(y1)==float(y3)):\n",
    "            x2 = x1 + rd.random()\n",
    "            y2 = y1 + rd.random()\n",
    "            x3 = x2 - rd.random()\n",
    "            y3 = y2 - rd.random()\n",
    "            puntosNuevos = [puntos[0], Punto(x2,y2), Punto(x3,y3)]\n",
    "        elif(float(x1)==float(x2) and float(y1)==float(y2)):\n",
    "            distancia = np.sqrt(pow(x1-x3,2)+pow(y1-y3,2))\n",
    "            x2 = x1 + distancia\n",
    "            y2 = y1 + distancia\n",
    "            puntosNuevos = [puntos[0], puntos[2], Punto(x2,y2)]\n",
    "        elif(float(x1)==float(x3) and float(y1)==float(y3)):\n",
    "            distancia = np.sqrt(pow(x1-x2,2)+pow(y1-y2,2))\n",
    "            x3 = x1 + distancia\n",
    "            y3 = y1 + distancia\n",
    "            puntosNuevos = [puntos[0], puntos[1], Punto(x3,y3)]\n",
    "        else:\n",
    "            distancia = np.sqrt(pow(x2-x3,2)+pow(y2-y3,2))\n",
    "            x1 = x2 + distancia \n",
    "            y1 = y2 + distancia\n",
    "            puntosNuevos = [puntos[1], puntos[2], Punto(x1,y1)]\n",
    "            \n",
    "        \n",
    "        return obtener_circunferencia(puntosNuevos)\n",
    "    \n",
    "    #Para hallar el centro (Ux, Uy), se calculan las mediatrices de los segmentos formados por los puntos y se escoge el valor donde corta  \n",
    "    Ux = ((pow(x1,2) + pow(y1,2)) * (y2-y3) + (pow(x2,2) + pow(y2,2)) * (y3-y1) + (pow(x3,2) + pow(y3,2)) * (y1-y2))/D\n",
    "    Uy = ((pow(x1,2) + pow(y1,2)) * (x3-x2) + (pow(x2,2) + pow(y2,2)) * (x1-x3) + (pow(x3,2) + pow(y3,2)) * (x2-x1))/D\n",
    "    \n",
    "    #Para hallar el diametro, calculamos las distancias Euclídeas entre puntos y el producto de ellas se divide entre D anteriormente definido\n",
    "    AB = np.sqrt(float(pow(x2-x1,2) + pow(y2-y1,2)))\n",
    "    BC = np.sqrt(float(pow(x3-x2,2) + pow(y3-y2,2)))\n",
    "    AC = np.sqrt(float(pow(x3-x1,2) + pow(y3-y1,2)))\n",
    "    diametro = (2*AB*BC*AC)/abs(D)\n",
    "    \n",
    "    circunferencia = Circunferencia(float(Ux),float(Uy),float(diametro/2))\n",
    "    \n",
    "    return circunferencia\n",
    "    \n",
    "\n",
    "# Devuelve el mínimo grado de pertenencia que tenga un punto de los puntos asociados a una circunferencia respecto a esa circunferencia de entre todas ellas.\n",
    "def comprobar_grado_pertenencia(clusters):\n",
    "    \n",
    "    circunferencias = []\n",
    "    grados_por_cluster = []\n",
    "    grados_por_punto = []\n",
    "    i = 0\n",
    "    \n",
    "    # Obtenemos todas las circunferencias\n",
    "    for cluster in clusters:\n",
    "        circunferencias.append(cluster.circunferencia)\n",
    "        \n",
    "    # Obtenemos el máximo grado de pertenencia de todos los puntos de un cluster a cada circunferencia\n",
    "    for cluster in clusters:\n",
    "        for p in cluster.puntos:\n",
    "            grados_por_punto.append(max(grados_pertenencia(p,circunferencias)))\n",
    "        \n",
    "        # Si hay menos de 3 puntos, esta iteración se descarta y se vuelve a comenzar\n",
    "        if(len(grados_por_punto) < 3):\n",
    "            return None\n",
    "        \n",
    "        # De estos, obtenemos los mínimos grados  por cluster\n",
    "        grados_por_cluster.append(min(grados_por_punto))\n",
    "        \n",
    "    # Por ultimo, devolvemos el menor de todos ellos\n",
    "    return min(grados_por_cluster)\n",
    "\n",
    "\n",
    "\n",
    "# Obtiene los nuevos clusters tras eliminar de ellos los puntos que se consideren como ruido\n",
    "def eliminar_ruido(clusters, max_distancia_eliminar_punto_ruido):\n",
    "    \n",
    "    res = []\n",
    "    \n",
    "    for cluster in clusters:\n",
    "        res.append(obtener_cluster_sin_ruido(cluster, max_distancia_eliminar_punto_ruido))\n",
    "        \n",
    "    return res\n",
    "\n",
    "# Dado un cluster, trata de obtener la circunferencia en las que la media de las distancias entre todos sus puntos y la circunferencia sea menor, y elimina los puntos que no cumplan cierto rango\n",
    "def obtener_cluster_sin_ruido(cluster, max_distancia_eliminar_punto_ruido):\n",
    "    \n",
    "    \n",
    "    clusters_finales = []\n",
    "    puntos = cluster.puntos\n",
    "    \n",
    "    # Obtenemos todas las circunferencias posibles de recorrer los puntos 1 a 1\n",
    "    # Por cada circunferencia:\n",
    "    circunferencias = []\n",
    "    for i in range(len(puntos) - 2):\n",
    "    \n",
    "        pts = [puntos[i],puntos[i+1],puntos[i+2]]\n",
    "        circunferencias.append(obtener_circunferencia(pts))\n",
    "    \n",
    "    # Obtenemos todos los clusters posibles, pero elimiando de ellos aquellos puntos que sean considerados ruido\n",
    "    for circunferencia in circunferencias:\n",
    "        \n",
    "        distancias = []\n",
    "        centro = circunferencia.centro\n",
    "        radio = circunferencia.radio\n",
    "        \n",
    "        # Calculamos las distancias de cada punto a la circunferencia\n",
    "        for p in puntos:\n",
    "            d = np.sqrt(pow(p.x - centro.x,2) + pow(p.y - centro.y,2))\n",
    "            distancias.append(abs(d - radio))\n",
    "            \n",
    "        # Calculamos la media de esas distancias\n",
    "        media = np.mean(distancias)\n",
    "        \n",
    "        # Seleccionamos los puntos cuya diferencia entre su distancia y la media sea menor que el min_ruido\n",
    "        puntos_no_eliminados = []\n",
    "        for i in range(len(distancias)):\n",
    "            diferencia = abs(distancias[i] - media)\n",
    "            if(diferencia < max_distancia_eliminar_punto_ruido):\n",
    "                puntos_no_eliminados.append(puntos[i])\n",
    "        \n",
    "        # Si tuviesemos menos de 3 puntos no eliminados, volvemos a llamar al método con una mayor tolerancia para que coja mas puntos\n",
    "        if(len(puntos_no_eliminados) < 3):\n",
    "            return obtener_cluster_sin_ruido(cluster, max_distancia_eliminar_punto_ruido + 0.05)\n",
    "        \n",
    "        # Creamos un cluster con esa circunferenciua\n",
    "        circun = Circunferencia(centro.x,centro.y,radio)\n",
    "        clstr = Cluster(circun)\n",
    "        clstr.anyadir_puntos(puntos_no_eliminados)\n",
    "        clusters_finales.append(clstr)\n",
    "        \n",
    "    \n",
    "    # Una vez que de un solo cluster tengamos muchos clusters sin ruidos, seleccionamos aquel cuya media de diferencias entre la distancia y la media sea menor\n",
    "    max_media = float('inf')\n",
    "    for i in range(len(clusters_finales)):\n",
    "        \n",
    "        centro = clusters_finales[i].circunferencia.centro\n",
    "        radio = clusters_finales[i].circunferencia.radio\n",
    "        puntos = clusters_finales[i].puntos\n",
    "        distancias = []\n",
    "        \n",
    "        # Calculamos las distancias entre todos los puntos de un cluster y su circunferencia\n",
    "        for p in puntos:\n",
    "            d = np.sqrt(pow(p.x - centro.x,2) + pow(p.y - centro.y,2))\n",
    "            distancias.append(abs(d - radio))\n",
    "        \n",
    "        # Calculamos la media\n",
    "        media = np.mean(distancias)\n",
    "        \n",
    "        # Guardamos aquel cluster cuya media de distancias sea menor\n",
    "        if(media < max_media):\n",
    "            res = clusters_finales[i]\n",
    "            max_media = media\n",
    "    \n",
    "    return res"
   ]
  },
  {
   "cell_type": "markdown",
   "metadata": {},
   "source": [
    "# 1) Estructura de datos:"
   ]
  },
  {
   "cell_type": "code",
   "execution_count": 2,
   "metadata": {},
   "outputs": [],
   "source": [
    "# Parámetros: x,y del punto\n",
    "class Punto(): \n",
    "    def __init__(self, x, y):\n",
    "        self.x = x\n",
    "        self.y = y\n",
    "        \n",
    "    def print(self):\n",
    "        print('(',self.x, ', ',self.y,')')\n",
    "    def __repr__(self):\n",
    "        return '(%s, %s)' % (self.x,self.y)\n",
    "    def __str__(self):\n",
    "        return '(%s, %s)' % (self.x,self.y)\n",
    "\n",
    "# Parámetros: x,y (centro), radio\n",
    "class Circunferencia(): \n",
    "    def __init__(self, x, y, radio):\n",
    "        self.centro = Punto(x,y)\n",
    "        self.radio = radio\n",
    "        \n",
    "    def print(self):\n",
    "        print('Centro: ',self.centro, ' Radio: ',self.radio)\n",
    "    def __repr__(self):\n",
    "        return 'Centro: %s Radio: %s' % (self.centro,self.radio)\n",
    "    def __str__(self):\n",
    "        return 'Centro: %s Radio: %s' % (self.centro,self.radio)\n",
    "    \n",
    "# Parámetros: circunferencia\n",
    "class Cluster(): \n",
    "    def __init__(self,circunferencia):\n",
    "        self.circunferencia = circunferencia\n",
    "        self.puntos = []\n",
    "        \n",
    "    def anyadir_punto(self,punto):\n",
    "        self.puntos.append(punto)\n",
    "        \n",
    "        \n",
    "    def print(self):\n",
    "        print('Circunferencia: ',self.circunferencia, ' Puntos: ',self.puntos)\n",
    "    def __repr__(self):\n",
    "        return 'Circunferencia: %s Puntos: %s' % (self.circunferencia,self.puntos)\n",
    "    def __str__(self):\n",
    "        return 'Circunferencia: %s Puntos: %s' % (self.circunferencia,self.puntos)"
   ]
  },
  {
   "cell_type": "code",
   "execution_count": 3,
   "metadata": {},
   "outputs": [
    {
     "data": {
      "text/plain": [
       "(5, 6)"
      ]
     },
     "execution_count": 3,
     "metadata": {},
     "output_type": "execute_result"
    }
   ],
   "source": [
    "p = Punto(5,6)\n",
    "p"
   ]
  },
  {
   "cell_type": "code",
   "execution_count": 4,
   "metadata": {},
   "outputs": [
    {
     "data": {
      "text/plain": [
       "Centro: (0, 0) Radio: 5"
      ]
     },
     "execution_count": 4,
     "metadata": {},
     "output_type": "execute_result"
    }
   ],
   "source": [
    "circ = Circunferencia(0,0,5)\n",
    "circ"
   ]
  },
  {
   "cell_type": "code",
   "execution_count": 5,
   "metadata": {},
   "outputs": [
    {
     "data": {
      "text/plain": [
       "Circunferencia: Centro: (0, 0) Radio: 5 Puntos: [(5, 6)]"
      ]
     },
     "execution_count": 5,
     "metadata": {},
     "output_type": "execute_result"
    }
   ],
   "source": [
    "ccp = Cluster(circ)\n",
    "ccp.anyadir_punto(p)\n",
    "ccp"
   ]
  },
  {
   "cell_type": "markdown",
   "metadata": {},
   "source": [
    "# 2) Estimación Trayectoria Circular:"
   ]
  },
  {
   "cell_type": "code",
   "execution_count": 22,
   "metadata": {},
   "outputs": [],
   "source": [
    "# Genera una circunferencia a partir de los 3 puntos pasados\n",
    "# Parámetros: Array de 3 puntos\n",
    "# REF: codewars.com/kata/give-the-center-and-the-radius-of-circumscribed-circle-a-warm-up-challenge/python\n",
    "def obtener_circunferencia(puntos): \n",
    "    \n",
    "    x1 = puntos[0].x\n",
    "    x2 = puntos[1].x\n",
    "    x3 = puntos[2].x\n",
    "    y1 = puntos[0].y\n",
    "    y2 = puntos[1].y\n",
    "    y3 = puntos[2].y\n",
    "    \n",
    "    D = 2*(x1*(y2-y3) + x2*(y3-y1) + x3*(y1-y2))\n",
    "    \n",
    "    # Comprobamos si los 3 puntos forman una recta, y si es así, quitamos los puntos iguales calculando un punto que los sustituya\n",
    "    if(D==0):\n",
    "        if(float(x1)==float(x2) and float(y1)==float(y2) and float(x1)==float(x3) and float(y1)==float(y3)):\n",
    "            x2 = x1 + rd.random()\n",
    "            y2 = y1 + rd.random()\n",
    "            x3 = x2 - rd.random()\n",
    "            y3 = y2 - rd.random()\n",
    "            puntosNuevos = [puntos[0], Punto(x2,y2), Punto(x3,y3)]\n",
    "        elif(float(x1)==float(x2) and float(y1)==float(y2)):\n",
    "            distancia = np.sqrt(pow(x1-x3,2)+pow(y1-y3,2))\n",
    "            x2 = x1 + distancia\n",
    "            y2 = y1 + distancia\n",
    "            puntosNuevos = [puntos[0], puntos[2], Punto(x2,y2)]\n",
    "        elif(float(x1)==float(x3) and float(y1)==float(y3)):\n",
    "            distancia = np.sqrt(pow(x1-x2,2)+pow(y1-y2,2))\n",
    "            x3 = x1 + distancia\n",
    "            y3 = y1 + distancia\n",
    "            puntosNuevos = [puntos[0], puntos[1], Punto(x3,y3)]\n",
    "        else:\n",
    "            distancia = np.sqrt(pow(x2-x3,2)+pow(y2-y3,2))\n",
    "            x1 = x2 + distancia \n",
    "            y1 = y2 + distancia\n",
    "            puntosNuevos = [puntos[1], puntos[2], Punto(x1,y1)]\n",
    "            \n",
    "        \n",
    "        return obtener_circunferencia(puntosNuevos)\n",
    "    \n",
    "    #Para hallar el centro (Ux, Uy), se calculan las mediatrices de los segmentos formados por los puntos y se escoge el valor donde corta  \n",
    "    Ux = ((pow(x1,2) + pow(y1,2)) * (y2-y3) + (pow(x2,2) + pow(y2,2)) * (y3-y1) + (pow(x3,2) + pow(y3,2)) * (y1-y2))/D\n",
    "    Uy = ((pow(x1,2) + pow(y1,2)) * (x3-x2) + (pow(x2,2) + pow(y2,2)) * (x1-x3) + (pow(x3,2) + pow(y3,2)) * (x2-x1))/D\n",
    "    \n",
    "    #Para hallar el diametro, calculamos las distancias Euclídeas entre puntos y el producto de ellas se divide entre D anteriormente definido\n",
    "    AB = np.sqrt(float(pow(x2-x1,2) + pow(y2-y1,2)))\n",
    "    BC = np.sqrt(float(pow(x3-x2,2) + pow(y3-y2,2)))\n",
    "    AC = np.sqrt(float(pow(x3-x1,2) + pow(y3-y1,2)))\n",
    "    diametro = (2*AB*BC*AC)/abs(D)\n",
    "    \n",
    "    circunferencia = Circunferencia(float(Ux),float(Uy),float(diametro/2))\n",
    "    \n",
    "    return circunferencia\n",
    "\n",
    "\n",
    "def dibujar_circunferencia(circunferencia, puntos):\n",
    "    \n",
    "    Xs = []\n",
    "    Ys = []\n",
    "    \n",
    "    for p in puntos:\n",
    "        Xs.append(p.x)\n",
    "        Ys.append(p.y)\n",
    "    \n",
    "    plt.plot(Xs, Ys, 'ro', color='black')\n",
    "    \n",
    "    circulo = plt.Circle((circunferencia.centro.x, circunferencia.centro.y), circunferencia.radio, color='black', fill=False)\n",
    "    ax=plt.gca()\n",
    "    ax.add_patch(circulo)\n",
    "    plt.axis('scaled')\n",
    "\n",
    "    plt.show()"
   ]
  },
  {
   "cell_type": "markdown",
   "metadata": {},
   "source": [
    "#### Al coger los puntos al azar, si estos no forman una circunferencia perfecta a veces no será del todo preciso, pero se hace así para que no coga casi siempre los mismos puntos, o si hay puntos muy alejados que puedan ser considerados ruido no se cogan siempre. Se podrá comprobar más adelante que con el nº suficiente de iteraciones esto no supondrá ningún problema"
   ]
  },
  {
   "cell_type": "markdown",
   "metadata": {},
   "source": [
    "El primer ejemplo es un circulo perfecto centrado en el origen y de radio 5."
   ]
  },
  {
   "cell_type": "code",
   "execution_count": 23,
   "metadata": {},
   "outputs": [
    {
     "data": {
      "image/png": "[encoded data removed]",
      "text/plain": [
       "<Figure size 432x288 with 1 Axes>"
      ]
     },
     "metadata": {
      "needs_background": "light"
     },
     "output_type": "display_data"
    },
    {
     "data": {
      "text/plain": [
       "[(5, 0),\n",
       " (4, 3),\n",
       " (3, 4),\n",
       " (0, 5),\n",
       " (-3, 4),\n",
       " (-4, 3),\n",
       " (-5, 0),\n",
       " (-4, -3),\n",
       " (-3, -4),\n",
       " (0, -5),\n",
       " (3, -4),\n",
       " (4, -3)]"
      ]
     },
     "execution_count": 23,
     "metadata": {},
     "output_type": "execute_result"
    }
   ],
   "source": [
    "puntos = leer_puntos('Data/puntos_1.csv')\n",
    "\n",
    "dibujar_puntos(puntos)\n",
    "puntos"
   ]
  },
  {
   "cell_type": "code",
   "execution_count": 24,
   "metadata": {},
   "outputs": [
    {
     "data": {
      "image/png": "[encoded data removed]",
      "text/plain": [
       "<Figure size 432x288 with 1 Axes>"
      ]
     },
     "metadata": {
      "needs_background": "light"
     },
     "output_type": "display_data"
    },
    {
     "data": {
      "text/plain": [
       "[(0, -5), (-3, 4), (0, 5)]"
      ]
     },
     "execution_count": 24,
     "metadata": {},
     "output_type": "execute_result"
    }
   ],
   "source": [
    "#Obtenemos 3 puntos aleatorios\n",
    "puntos_aleatorios = rd.sample(puntos,3)\n",
    "dibujar_puntos(puntos_aleatorios)\n",
    "puntos_aleatorios"
   ]
  },
  {
   "cell_type": "code",
   "execution_count": 25,
   "metadata": {},
   "outputs": [
    {
     "data": {
      "image/png": "[encoded data removed]",
      "text/plain": [
       "<Figure size 432x288 with 1 Axes>"
      ]
     },
     "metadata": {
      "needs_background": "light"
     },
     "output_type": "display_data"
    },
    {
     "data": {
      "text/plain": [
       "Centro: (-0.0, -0.0) Radio: 5.000000000000001"
      ]
     },
     "execution_count": 25,
     "metadata": {},
     "output_type": "execute_result"
    }
   ],
   "source": [
    "circ = obtener_circunferencia(puntos_aleatorios)\n",
    "dibujar_circunferencia(circ, puntos)\n",
    "circ"
   ]
  },
  {
   "cell_type": "markdown",
   "metadata": {},
   "source": [
    "Lo probamos con una lista de puntos no perfecta y de baricentro \"1,0\" y radio \"4\""
   ]
  },
  {
   "cell_type": "code",
   "execution_count": 26,
   "metadata": {},
   "outputs": [
    {
     "data": {
      "image/png": "[encoded data removed]",
      "text/plain": [
       "<Figure size 432x288 with 1 Axes>"
      ]
     },
     "metadata": {
      "needs_background": "light"
     },
     "output_type": "display_data"
    },
    {
     "data": {
      "text/plain": [
       "[(5.0, 0.0),\n",
       " (4.5, 2.0),\n",
       " (3.0, 3.5),\n",
       " (1.0, 4.0),\n",
       " (0.0, 3.75),\n",
       " (-2.0, 2.5),\n",
       " (-3.0, 0.0),\n",
       " (-2.0, -2.5),\n",
       " (0.0, -3.75),\n",
       " (1.0, -4.0),\n",
       " (3.0, -3.5),\n",
       " (4.0, -2.5)]"
      ]
     },
     "execution_count": 26,
     "metadata": {},
     "output_type": "execute_result"
    }
   ],
   "source": [
    "puntos = leer_puntos('Data/puntos_2.csv')\n",
    "\n",
    "dibujar_puntos(puntos)\n",
    "puntos"
   ]
  },
  {
   "cell_type": "code",
   "execution_count": 29,
   "metadata": {},
   "outputs": [
    {
     "data": {
      "image/png": "[encoded data removed]",
      "text/plain": [
       "<Figure size 432x288 with 1 Axes>"
      ]
     },
     "metadata": {
      "needs_background": "light"
     },
     "output_type": "display_data"
    },
    {
     "data": {
      "text/plain": [
       "[(5.0, 0.0), (4.0, -2.5), (-2.0, 2.5)]"
      ]
     },
     "execution_count": 29,
     "metadata": {},
     "output_type": "execute_result"
    }
   ],
   "source": [
    "#Obtenemos 3 puntos aleatorios\n",
    "pts = rd.sample(puntos,3)\n",
    "dibujar_puntos(pts)\n",
    "pts"
   ]
  },
  {
   "cell_type": "code",
   "execution_count": 30,
   "metadata": {},
   "outputs": [
    {
     "data": {
      "image/png": "[encoded data removed]",
      "text/plain": [
       "<Figure size 432x288 with 1 Axes>"
      ]
     },
     "metadata": {
      "needs_background": "light"
     },
     "output_type": "display_data"
    },
    {
     "data": {
      "text/plain": [
       "Centro: (1.09375, 0.1125) Radio: 3.9078696642160415"
      ]
     },
     "execution_count": 30,
     "metadata": {},
     "output_type": "execute_result"
    }
   ],
   "source": [
    "circ = obtener_circunferencia(pts)\n",
    "dibujar_circunferencia(circ, puntos)\n",
    "circ"
   ]
  },
  {
   "cell_type": "code",
   "execution_count": 31,
   "metadata": {},
   "outputs": [
    {
     "data": {
      "image/png": "[encoded data removed]",
      "text/plain": [
       "<Figure size 432x288 with 1 Axes>"
      ]
     },
     "metadata": {
      "needs_background": "light"
     },
     "output_type": "display_data"
    },
    {
     "data": {
      "text/plain": [
       "[(5.0, 0.0),\n",
       " (4.5, 2.0),\n",
       " (3.0, 3.5),\n",
       " (1.0, 4.0),\n",
       " (0.0, 3.75),\n",
       " (-2.0, 2.5),\n",
       " (-3.0, 0.0),\n",
       " (-2.0, -2.5),\n",
       " (0.0, -3.75),\n",
       " (1.0, -4.0),\n",
       " (3.0, -3.5),\n",
       " (4.0, -2.5)]"
      ]
     },
     "execution_count": 31,
     "metadata": {},
     "output_type": "execute_result"
    }
   ],
   "source": [
    "puntos = leer_puntos('Data/puntos_2.csv')\n",
    "\n",
    "dibujar_puntos(puntos)\n",
    "puntos"
   ]
  },
  {
   "cell_type": "code",
   "execution_count": 32,
   "metadata": {},
   "outputs": [
    {
     "data": {
      "image/png": "[encoded data removed]",
      "text/plain": [
       "<Figure size 432x288 with 1 Axes>"
      ]
     },
     "metadata": {
      "needs_background": "light"
     },
     "output_type": "display_data"
    },
    {
     "data": {
      "text/plain": [
       "[(-2.0, -2.5), (3.0, 3.5), (4.5, 2.0)]"
      ]
     },
     "execution_count": 32,
     "metadata": {},
     "output_type": "execute_result"
    }
   ],
   "source": [
    "#Obtenemos 3 puntos aleatorios\n",
    "pts = rd.sample(puntos,3)\n",
    "dibujar_puntos(pts)\n",
    "pts"
   ]
  },
  {
   "cell_type": "code",
   "execution_count": 33,
   "metadata": {},
   "outputs": [
    {
     "data": {
      "image/png": "[encoded data removed]",
      "text/plain": [
       "<Figure size 432x288 with 1 Axes>"
      ]
     },
     "metadata": {
      "needs_background": "light"
     },
     "output_type": "display_data"
    },
    {
     "data": {
      "text/plain": [
       "Centro: (1.0454545454545454, 0.045454545454545456) Radio: 3.9691475446756765"
      ]
     },
     "execution_count": 33,
     "metadata": {},
     "output_type": "execute_result"
    }
   ],
   "source": [
    "circ = obtener_circunferencia(pts)\n",
    "dibujar_circunferencia(circ, puntos)\n",
    "circ"
   ]
  },
  {
   "cell_type": "markdown",
   "metadata": {},
   "source": [
    "# 3) Grados de pertenencia"
   ]
  },
  {
   "cell_type": "code",
   "execution_count": 15,
   "metadata": {},
   "outputs": [],
   "source": [
    "# Devuelve un array con los grados de pertenencia de un punto a todas las circunferencias\n",
    "# Parámetros: punto al que queremos calcular los grados de pertenencia, array de todas las circunferencias\n",
    "def grados_pertenencia(p,circunferencias):\n",
    "    \n",
    "    #Calculamos la distancia del punto a cada circunferencia\n",
    "    distancias = []\n",
    "    \n",
    "    for i in range(len(circunferencias)):\n",
    "        d = np.sqrt(pow(p.x - circunferencias[i].centro.x,2) + pow(p.y - circunferencias[i].centro.y,2))\n",
    "        distancias.append(abs(d - circunferencias[i].radio))\n",
    "    \n",
    "    #Calculamos el grado de pertencia a cada circunferencia con la siguiente fórmula: 100/distancia^2\n",
    "    pertenencias = []\n",
    "    \n",
    "    for i in range(len(circunferencias)):\n",
    "        if(distancias[i]==0.0):\n",
    "            per = 100.0\n",
    "        else:\n",
    "            per = 100/(pow(distancias[i],2))\n",
    "        pertenencias.append(per)\n",
    "        \n",
    "    #Normalizamos\n",
    "    suma = sum(pertenencias)\n",
    "    pertenencias = np.divide(pertenencias,suma)\n",
    "    \n",
    "    return pertenencias"
   ]
  },
  {
   "cell_type": "code",
   "execution_count": 16,
   "metadata": {},
   "outputs": [],
   "source": [
    "c1 = Circunferencia(0,0,5)\n",
    "c2 = Circunferencia(1,0,4)\n",
    "c3 = Circunferencia(10,10,3)\n",
    "\n",
    "circunferencias = [c1,c2,c3]"
   ]
  },
  {
   "cell_type": "code",
   "execution_count": 17,
   "metadata": {},
   "outputs": [
    {
     "name": "stdout",
     "output_type": "stream",
     "text": [
      "[0.47764808 0.47764808 0.04470383]\n",
      "1.0\n"
     ]
    }
   ],
   "source": [
    "p = Punto(2,0)\n",
    "print(grados_pertenencia(p,circunferencias))\n",
    "print(sum(grados_pertenencia(p,circunferencias)))"
   ]
  },
  {
   "cell_type": "code",
   "execution_count": 18,
   "metadata": {},
   "outputs": [
    {
     "name": "stdout",
     "output_type": "stream",
     "text": [
      "[0.01590335 0.01498611 0.96911054]\n",
      "1.0\n"
     ]
    }
   ],
   "source": [
    "p = Punto(10,8)\n",
    "print(grados_pertenencia(p,circunferencias))\n",
    "print(sum(grados_pertenencia(p,circunferencias)))"
   ]
  },
  {
   "cell_type": "code",
   "execution_count": 19,
   "metadata": {},
   "outputs": [
    {
     "name": "stdout",
     "output_type": "stream",
     "text": [
      "[0.63415565 0.3235488  0.04229555]\n",
      "1.0000000000000002\n"
     ]
    }
   ],
   "source": [
    "p = Punto(-10,0)\n",
    "print(grados_pertenencia(p,circunferencias))\n",
    "print(sum(grados_pertenencia(p,circunferencias)))"
   ]
  },
  {
   "cell_type": "code",
   "execution_count": 20,
   "metadata": {},
   "outputs": [
    {
     "name": "stdout",
     "output_type": "stream",
     "text": [
      "[0.91441817 0.08558183]\n",
      "1.0\n"
     ]
    }
   ],
   "source": [
    "circunferencias = [c1,c3]\n",
    "p = Punto(2,0)\n",
    "print(grados_pertenencia(p,circunferencias))\n",
    "print(sum(grados_pertenencia(p,circunferencias)))"
   ]
  },
  {
   "cell_type": "markdown",
   "metadata": {},
   "source": [
    "# 4) Modificacion Objetivo 2"
   ]
  },
  {
   "cell_type": "code",
   "execution_count": 34,
   "metadata": {},
   "outputs": [],
   "source": [
    "# Genera una circunferencia a partir de los 3 puntos pasados\n",
    "# Parámetros: Array de 3 puntos\n",
    "# REF: codewars.com/kata/give-the-center-and-the-radius-of-circumscribed-circle-a-warm-up-challenge/python\n",
    "def obtener_circunferencia(puntos): \n",
    "    \n",
    "    x1 = puntos[0].x\n",
    "    x2 = puntos[1].x\n",
    "    x3 = puntos[2].x\n",
    "    y1 = puntos[0].y\n",
    "    y2 = puntos[1].y\n",
    "    y3 = puntos[2].y\n",
    "    \n",
    "    D = 2*(x1*(y2-y3) + x2*(y3-y1) + x3*(y1-y2))\n",
    "    \n",
    "    # Comprobamos si los 3 puntos forman una recta, y si es así, quitamos los puntos iguales calculando un punto que los sustituya\n",
    "    if(D==0):\n",
    "        if(float(x1)==float(x2) and float(y1)==float(y2) and float(x1)==float(x3) and float(y1)==float(y3)):\n",
    "            x2 = x1 + rd.random()\n",
    "            y2 = y1 + rd.random()\n",
    "            x3 = x2 - rd.random()\n",
    "            y3 = y2 - rd.random()\n",
    "            puntosNuevos = [puntos[0], Punto(x2,y2), Punto(x3,y3)]\n",
    "        elif(float(x1)==float(x2) and float(y1)==float(y2)):\n",
    "            distancia = np.sqrt(pow(x1-x3,2)+pow(y1-y3,2))\n",
    "            x2 = x1 + distancia\n",
    "            y2 = y1 + distancia\n",
    "            puntosNuevos = [puntos[0], puntos[2], Punto(x2,y2)]\n",
    "        elif(float(x1)==float(x3) and float(y1)==float(y3)):\n",
    "            distancia = np.sqrt(pow(x1-x2,2)+pow(y1-y2,2))\n",
    "            x3 = x1 + distancia\n",
    "            y3 = y1 + distancia\n",
    "            puntosNuevos = [puntos[0], puntos[1], Punto(x3,y3)]\n",
    "        else:\n",
    "            distancia = np.sqrt(pow(x2-x3,2)+pow(y2-y3,2))\n",
    "            x1 = x2 + distancia \n",
    "            y1 = y2 + distancia\n",
    "            puntosNuevos = [puntos[1], puntos[2], Punto(x1,y1)]\n",
    "            \n",
    "        \n",
    "        return obtener_circunferencia(puntosNuevos)\n",
    "    \n",
    "    #Para hallar el centro (Ux, Uy), se calculan las mediatrices de los segmentos formados por los puntos y se escoge el valor donde corta  \n",
    "    Ux = ((pow(x1,2) + pow(y1,2)) * (y2-y3) + (pow(x2,2) + pow(y2,2)) * (y3-y1) + (pow(x3,2) + pow(y3,2)) * (y1-y2))/D\n",
    "    Uy = ((pow(x1,2) + pow(y1,2)) * (x3-x2) + (pow(x2,2) + pow(y2,2)) * (x1-x3) + (pow(x3,2) + pow(y3,2)) * (x2-x1))/D\n",
    "    \n",
    "    #Para hallar el diametro, calculamos las distancias Euclídeas entre puntos y el producto de ellas se divide entre D anteriormente definido\n",
    "    AB = np.sqrt(float(pow(x2-x1,2) + pow(y2-y1,2)))\n",
    "    BC = np.sqrt(float(pow(x3-x2,2) + pow(y3-y2,2)))\n",
    "    AC = np.sqrt(float(pow(x3-x1,2) + pow(y3-y1,2)))\n",
    "    diametro = (2*AB*BC*AC)/abs(D)\n",
    "    \n",
    "    circunferencia = Circunferencia(float(Ux),float(Uy),float(diametro/2))\n",
    "    \n",
    "    return circunferencia\n",
    "\n",
    "\n",
    "# Crea n clusters iniciales al azar a partir de 3 puntos de la lista de todos los puntos.\n",
    "# Parámetros: Array de todos los puntos, número de circunferencias totales, minimo grado de pertenencia clustering\n",
    "def obtener_clusters_iniciales(puntos,n_circunferencias, min_grado_pertenencia_eliminar_punto_clustering): \n",
    "    \n",
    "    # Primero se obtienen las circunferencias al azar\n",
    "    circunferencias = []\n",
    "    \n",
    "    for i in range(n_circunferencias):\n",
    "        \n",
    "        puntos_aleatorios = rd.sample(puntos,3)\n",
    "        circunferencia = obtener_circunferencia(puntos_aleatorios)\n",
    "        circunferencias.append(circunferencia)\n",
    "    \n",
    "    # Se obtienen los clusters a partir de dichas circunferencias\n",
    "    clusters_iniciales = obtener_clusters(circunferencias, puntos, min_grado_pertenencia_eliminar_punto_clustering)\n",
    "    \n",
    "    return clusters_iniciales\n",
    "\n",
    "\n",
    "\n",
    "# Le asocia a cada circunferencia los puntos que tengan mayor grado de pertenencia con ella\n",
    "# Parámetros: array de las circunferencias y todos los puntos\n",
    "def obtener_clusters(circunferencias, puntos, min_grado_pertenencia_eliminar_punto_clustering):\n",
    "    \n",
    "    # Creamos clusters con las circunferencias pasadas\n",
    "    clusters = []\n",
    "    for circunferencia in circunferencias:\n",
    "        clusters.append(Cluster(circunferencia))\n",
    "    \n",
    "    # Calculamos los grados de pertenencia de todos los puntos con todos los clusters\n",
    "    for p in puntos:\n",
    "        \n",
    "        gradosPert = grados_pertenencia(p,circunferencias)\n",
    "        \n",
    "        # Si el máximo grado de pertenencia de un punto es menor que min_grado_pertenencia_clustering no se asigna a ningún cluster\n",
    "        if(max(gradosPert) > min_grado_pertenencia_eliminar_punto_clustering):\n",
    "            \n",
    "            # Se le asigna al cluster con mayor grado de pertenencia\n",
    "            indice = np.where(gradosPert == max(gradosPert))\n",
    "            clusters[indice[0][0]].anyadir_punto(p)\n",
    "\n",
    "    return clusters\n",
    "\n",
    "\n",
    "# Se calculan los siguientes clusters a partir de los puntos asociados a cada uno de ellos.\n",
    "def obtener_siguientes_clusters(puntos, clusters_prev, min_grado_pertenencia_eliminar_punto_clustering):\n",
    "    \n",
    "    nuevas_circunferencias = []\n",
    "    \n",
    "    for cluster_prev in clusters_prev:\n",
    "        \n",
    "        puntos_cluster = cluster_prev.puntos\n",
    "        \n",
    "        # Si una de las circunferencias tiene menos de 3 puntos(los necesarios para calcular la nueva circunferencia), no se realiza la clusterización.\n",
    "        if(len(puntos_cluster) < 3):\n",
    "            return None\n",
    "        \n",
    "        # Se obtiene la nueva circunferencia a partir de 3 puntos asociados a ella\n",
    "        puntos_aleatorios = rd.sample(puntos_cluster,3)\n",
    "        nuevas_circunferencias.append(obtener_circunferencia(puntos_aleatorios))\n",
    "        \n",
    "    # Se devuelve la nueva circunferencia con los nuevos puntos asociados a ella (Pueden ser los mismos que antes o no)\n",
    "    clusters_post = obtener_clusters(nuevas_circunferencias, puntos, min_grado_pertenencia_eliminar_punto_clustering)\n",
    "    \n",
    "    return clusters_post\n"
   ]
  },
  {
   "cell_type": "markdown",
   "metadata": {},
   "source": [
    "### Si se ejecuta suficientes veces, los clusters iniciales serán lo suficientemente buenos para que necesite pocas iteraciones de obtener_siguientes_clusters().\n",
    "### Por tanto, hay que ejecutar varias veces obtener_circunferencias_iniciales() para obtener resultados"
   ]
  },
  {
   "cell_type": "code",
   "execution_count": 37,
   "metadata": {},
   "outputs": [
    {
     "data": {
      "image/png": "[encoded data removed]",
      "text/plain": [
       "<Figure size 432x288 with 1 Axes>"
      ]
     },
     "metadata": {
      "needs_background": "light"
     },
     "output_type": "display_data"
    }
   ],
   "source": [
    "puntos = leer_puntos('Data/puntos_adjuntos_1.csv')\n",
    "\n",
    "dibujar_puntos(puntos)"
   ]
  },
  {
   "cell_type": "code",
   "execution_count": 43,
   "metadata": {},
   "outputs": [
    {
     "data": {
      "image/png": "[encoded data removed]",
      "text/plain": [
       "<Figure size 432x288 with 1 Axes>"
      ]
     },
     "metadata": {
      "needs_background": "light"
     },
     "output_type": "display_data"
    }
   ],
   "source": [
    "min_grado_pertenencia_eliminar_punto_clustering = 0.8\n",
    "clusters_iniciales = obtener_clusters_iniciales(puntos,2, min_grado_pertenencia_eliminar_punto_clustering)\n",
    "dibujar_clusters(clusters_iniciales)"
   ]
  },
  {
   "cell_type": "code",
   "execution_count": 44,
   "metadata": {},
   "outputs": [
    {
     "data": {
      "image/png": "[encoded data removed]",
      "text/plain": [
       "<Figure size 432x288 with 1 Axes>"
      ]
     },
     "metadata": {
      "needs_background": "light"
     },
     "output_type": "display_data"
    }
   ],
   "source": [
    "prox_clusters = obtener_siguientes_clusters(puntos, clusters_iniciales, min_grado_pertenencia_eliminar_punto_clustering)\n",
    "dibujar_clusters(prox_clusters)"
   ]
  },
  {
   "cell_type": "code",
   "execution_count": 45,
   "metadata": {},
   "outputs": [
    {
     "data": {
      "image/png": "[encoded data removed]",
      "text/plain": [
       "<Figure size 432x288 with 1 Axes>"
      ]
     },
     "metadata": {
      "needs_background": "light"
     },
     "output_type": "display_data"
    }
   ],
   "source": [
    "puntos = leer_puntos('Data/puntos_adjuntos_2.csv')\n",
    "\n",
    "dibujar_puntos(puntos)"
   ]
  },
  {
   "cell_type": "code",
   "execution_count": 55,
   "metadata": {},
   "outputs": [
    {
     "data": {
      "image/png": "[encoded data removed]",
      "text/plain": [
       "<Figure size 432x288 with 1 Axes>"
      ]
     },
     "metadata": {
      "needs_background": "light"
     },
     "output_type": "display_data"
    }
   ],
   "source": [
    "min_grado_pertenencia_eliminar_punto_clustering = 0.8\n",
    "clusters_iniciales = obtener_clusters_iniciales(puntos,2, min_grado_pertenencia_eliminar_punto_clustering)\n",
    "dibujar_clusters(clusters_iniciales)"
   ]
  },
  {
   "cell_type": "code",
   "execution_count": 56,
   "metadata": {},
   "outputs": [
    {
     "data": {
      "image/png": "[encoded data removed]",
      "text/plain": [
       "<Figure size 432x288 with 1 Axes>"
      ]
     },
     "metadata": {
      "needs_background": "light"
     },
     "output_type": "display_data"
    }
   ],
   "source": [
    "prox_clusters = obtener_siguientes_clusters(puntos, clusters_iniciales, min_grado_pertenencia_eliminar_punto_clustering)\n",
    "dibujar_clusters(prox_clusters)"
   ]
  },
  {
   "cell_type": "markdown",
   "metadata": {},
   "source": [
    "### 5) Herramienta completa\n",
    "#### En el archivo Clustering"
   ]
  }
 ],
 "metadata": {
  "kernelspec": {
   "display_name": "Python 3",
   "language": "python",
   "name": "python3"
  },
  "language_info": {
   "codemirror_mode": {
    "name": "ipython",
    "version": 3
   },
   "file_extension": ".py",
   "mimetype": "text/x-python",
   "name": "python",
   "nbconvert_exporter": "python",
   "pygments_lexer": "ipython3",
   "version": "3.7.4"
  }
 },
 "nbformat": 4,
 "nbformat_minor": 4
}
